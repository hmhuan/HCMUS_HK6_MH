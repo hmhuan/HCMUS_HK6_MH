{
 "cells": [
  {
   "cell_type": "markdown",
   "metadata": {},
   "source": [
    "# Huỳnh Minh Huấn - 1612858"
   ]
  },
  {
   "cell_type": "markdown",
   "metadata": {},
   "source": [
    "### Câu 1: Overﬁtting and Deterministic Noise "
   ]
  },
  {
   "cell_type": "markdown",
   "metadata": {},
   "source": [
    "### 1.\n",
    "Định nghĩa của deterministic noise (slide 16, lecture 11 - overfitting): \"The part of $f$ that $\\mathcal H$ cannot capture: $f(\\mathbf{x}) − h^∗(\\mathbf{x})$\". Trong đó, $h^*(\\mathbf{x})$ là hàm tốt nhất của $\\mathcal H$ dùng để xấp xỉ $f$.\n",
    "\n",
    "Ta thấy rằng $\\mathcal H' \\subset \\mathcal H$, cho nên hàm $h^∗(\\mathbf{x})$ của $H'$ sẽ không tốt bằng $H$.Do đó, mà phần của $f$ mà $H'$ cannot capture: $f(\\mathbf{x}) − h^∗(\\mathbf{x})$ sẽ lớn hơn so với $H$.\n",
    "\n",
    "\"Deterministic noise\" của $ H'$ sẽ tăng so với $H$\n",
    "\n",
    "**Chọn [b] .**\n",
    "\n",
    "---"
   ]
  },
  {
   "cell_type": "markdown",
   "metadata": {},
   "source": [
    "### Câu 2 - 6: Regularization with Weight Decay "
   ]
  },
  {
   "cell_type": "code",
   "execution_count": 1,
   "metadata": {},
   "outputs": [],
   "source": [
    "import numpy as np"
   ]
  },
  {
   "cell_type": "markdown",
   "metadata": {},
   "source": [
    "#### Load training data"
   ]
  },
  {
   "cell_type": "code",
   "execution_count": 2,
   "metadata": {},
   "outputs": [],
   "source": [
    "train_data = np.loadtxt(\"in.dta\")\n",
    "m, n = train_data.shape\n",
    "train_X = train_data[:,0:2].reshape(m, 2)\n",
    "train_Y = train_data[:,2].reshape(m, 1)\n",
    "#print(train_X)\n",
    "#print(train_Y)"
   ]
  },
  {
   "cell_type": "markdown",
   "metadata": {},
   "source": [
    "#### Load test data"
   ]
  },
  {
   "cell_type": "code",
   "execution_count": 3,
   "metadata": {},
   "outputs": [],
   "source": [
    "test_data = np.loadtxt(\"out.dta\")\n",
    "m, n = test_data.shape\n",
    "\n",
    "test_X = test_data[:,0:2].reshape(m, 2)\n",
    "test_Y = test_data[:,2].reshape(m, 1)"
   ]
  },
  {
   "cell_type": "code",
   "execution_count": 4,
   "metadata": {},
   "outputs": [],
   "source": [
    "def nonLinear_transform(X):\n",
    "    \"\"\"\n",
    "    hàm nonLinear_transform biến đổi non linear dữ liệu sang không gian Z\n",
    "        input: X (N, 2) (data của tập train)\n",
    "        output: Z (N, 8) - (1, x1, x2, x1^2, x2^2, x1x2,|x1 - x2|, |x1+x2|)\n",
    "    \"\"\"\n",
    "    N = X.shape[0]\n",
    "    X_2 = X*X\n",
    "    X1X2 = np.prod(X, axis = 1).reshape(N,1)\n",
    "    absSub = np.abs(np.subtract(X[:,0], X[:, 1])).reshape(N, 1)\n",
    "    absAdd = np.abs(np.add(X[:, 0], X[:, 1])).reshape(N, 1)\n",
    "    X_nonLT = np.hstack((np.ones((N, 1)), X, X_2, X1X2, absSub, absAdd)) \n",
    "    #(1, x1, x2, x1^2, x2^2, x1x2,|x1 - x2|, |x1+x2|)\n",
    "    return X_nonLT"
   ]
  },
  {
   "cell_type": "code",
   "execution_count": 6,
   "metadata": {},
   "outputs": [],
   "source": [
    "def calcW_reg(Z, y, lamda):\n",
    "    \"\"\"\n",
    "    Hàm calcW_reg tính w regularization\n",
    "        input: Z (N x 8), y (N x 1), lamda - số thực R^1\n",
    "        output: w_reg (8 x 1)\n",
    "    \"\"\"\n",
    "    shape= Z.shape\n",
    "    A = np.linalg.inv(np.dot(Z.T, Z) + lamda*np.eye(shape[1]))\n",
    "    B = np.dot(Z.T, y)\n",
    "    W_reg = np.dot(A, B)\n",
    "    return W_reg"
   ]
  },
  {
   "cell_type": "code",
   "execution_count": 123,
   "metadata": {},
   "outputs": [],
   "source": [
    "def linear_regression(lamda, mode = 0):\n",
    "    \"\"\"\n",
    "    Hàm linear_regression với tham số lamda\n",
    "    input: lamda\n",
    "    output: E_in, E_out\n",
    "    \"\"\"\n",
    "    w_reg = calcW_reg(Z, train_Y, lamda) # Tính w_regularization theo công thức bằng hàm calcW_reg ở trên\n",
    "    #print(w_reg.shape)\n",
    "    test_err_out = np.mean(np.sign(np.dot(Z_test,w_reg)) != test_Y) # Tính độ lỗi nhị phân trên tập test E_out \n",
    "    test_err_in = np.mean(np.sign(np.dot(Z,w_reg)) != train_Y) # Tính độ lỗi nhị phân trên tập train E_in\n",
    "    if mode == 0:\n",
    "        print(\"E_in = \",test_err_in)\n",
    "        print(\"E_out =\", test_err_out)\n",
    "    else:\n",
    "        return test_err_in, test_err_out"
   ]
  },
  {
   "cell_type": "code",
   "execution_count": 124,
   "metadata": {},
   "outputs": [
    {
     "name": "stdout",
     "output_type": "stream",
     "text": [
      "E_in =  0.02857142857142857\n",
      "E_out = 0.084\n"
     ]
    }
   ],
   "source": [
    "linear_regression(0)"
   ]
  },
  {
   "cell_type": "markdown",
   "metadata": {},
   "source": [
    "### 2.\n",
    "Chạy hàm linear_regression(lamda = 0), ta được\n",
    "+ $E_{in} \\approx 0.0286$\n",
    "+ $E_{out} \\approx 0.084$\n",
    "\n",
    "**Chọn [a] 0.03, 0.08.**\n",
    "\n",
    "---"
   ]
  },
  {
   "cell_type": "code",
   "execution_count": 125,
   "metadata": {},
   "outputs": [
    {
     "name": "stdout",
     "output_type": "stream",
     "text": [
      "E_in =  0.02857142857142857\n",
      "E_out = 0.08\n"
     ]
    }
   ],
   "source": [
    "linear_regression(0.001)"
   ]
  },
  {
   "cell_type": "markdown",
   "metadata": {},
   "source": [
    "### 3.\n",
    "Chạy hàm linear_regression(lamda = 0.001) tương ứng k = -3, ta được:\n",
    "+ $E_{in} \\approx 0.0286$\n",
    "+ $E_{out} \\approx 0.08$\n",
    "\n",
    "**Chọn [d] 0.03, 0.08.**\n",
    "\n",
    "---"
   ]
  },
  {
   "cell_type": "code",
   "execution_count": 126,
   "metadata": {},
   "outputs": [
    {
     "name": "stdout",
     "output_type": "stream",
     "text": [
      "E_in =  0.37142857142857144\n",
      "E_out = 0.436\n"
     ]
    }
   ],
   "source": [
    "linear_regression(1000)"
   ]
  },
  {
   "cell_type": "markdown",
   "metadata": {},
   "source": [
    "### 4.\n",
    "Chạy hàm linear_regression(lamda = 1000) tương ứng k = 3, ta được:\n",
    "+ $E_{in} \\approx 0.371$\n",
    "+ $E_{out} \\approx 0.436$\n",
    "\n",
    "2 giá trị gần với **0.4, 0.4** chọn đáp án.\n",
    "\n",
    "**Chọn [e] 0.4, 0.4.**\n",
    "\n",
    "---"
   ]
  },
  {
   "cell_type": "code",
   "execution_count": 128,
   "metadata": {},
   "outputs": [
    {
     "name": "stdout",
     "output_type": "stream",
     "text": [
      "k = 2\n",
      "E_in =  0.2\n",
      "E_out = 0.228\n",
      "\n",
      "k = 1\n",
      "E_in =  0.05714285714285714\n",
      "E_out = 0.124\n",
      "\n",
      "k = 0\n",
      "E_in =  0.0\n",
      "E_out = 0.092\n",
      "\n",
      "k = -1\n",
      "E_in =  0.02857142857142857\n",
      "E_out = 0.056\n",
      "\n",
      "k = -2\n",
      "E_in =  0.02857142857142857\n",
      "E_out = 0.084\n"
     ]
    }
   ],
   "source": [
    "print(\"k = 2\")\n",
    "linear_regression(100)\n",
    "print(\"\\nk = 1\")\n",
    "linear_regression(10)\n",
    "print(\"\\nk = 0\")\n",
    "linear_regression(1)\n",
    "print(\"\\nk = -1\")\n",
    "linear_regression(0.1)\n",
    "print(\"\\nk = -2\")\n",
    "linear_regression(0.01)"
   ]
  },
  {
   "cell_type": "markdown",
   "metadata": {},
   "source": [
    "### 5.\n",
    "Chạy hàm linear_regression(lamda) với lần lượt các giá trị lamda tương ứng k\n",
    "Thử lần lượt với k = 2, 1, 0, -1, 1. Ta được:\n",
    "+ k = 2, lamda = 100:$E_{out} \\approx 0.228$\n",
    "+ k = 1, lamda = 10: $E_{out} \\approx 0.124$\n",
    "+ k = 0, lamda = 1: $E_{out} \\approx 0.092$\n",
    "+ k = -1, lamda = 0.1: $E_{out} \\approx 0.056$\n",
    "+ k = -2, lamda = 0.01: $E_{out} \\approx 0.084$\n",
    "\n",
    "Với k = -1, $E_{out}$ đạt giá trị nhỏ nhất. Vậy chọn **k = -1**.\n",
    "\n",
    "**Chọn [d] -1.**\n",
    "\n",
    "---"
   ]
  },
  {
   "cell_type": "code",
   "execution_count": 121,
   "metadata": {},
   "outputs": [],
   "source": [
    "import math\n",
    "def main6():\n",
    "    E_outs = []\n",
    "    i = -10\n",
    "    min = [1000, i]\n",
    "    while (i < 10):\n",
    "        E_outs.append(linear_regression(math.pow(10, i), 1)[1])\n",
    "        if min[0] > E_outs[len(E_outs) - 1]:\n",
    "            min[0] = E_outs[len(E_outs) - 1]\n",
    "            min[1] = i\n",
    "        i += 1\n",
    "    return min"
   ]
  },
  {
   "cell_type": "code",
   "execution_count": 122,
   "metadata": {},
   "outputs": [
    {
     "data": {
      "text/plain": [
       "[0.056, -1]"
      ]
     },
     "execution_count": 122,
     "metadata": {},
     "output_type": "execute_result"
    }
   ],
   "source": [
    "main6()"
   ]
  },
  {
   "cell_type": "markdown",
   "metadata": {},
   "source": [
    "### 6.\n",
    "từ kết quả câu 5 ta dự đoán $E_outs \\approx 0.056$, vì k = -1 đạt giá trị nhỏ nhất, chạy thử hàm main6() test các e_outs với k từ -10 đến 10, vẫn nhận được kết quả là 0.056 (k = -1)\n",
    "\n",
    "**Chọn [b] 0.06.**\n",
    "\n",
    "---"
   ]
  },
  {
   "cell_type": "markdown",
   "metadata": {},
   "source": [
    "### Câu 7: Regularization for Polynomials "
   ]
  },
  {
   "cell_type": "markdown",
   "metadata": {},
   "source": [
    "Ta có:\n",
    "\n",
    "$H(10, 0, 3) = w_0 + w_1*L_1(x)+w_2*L_2(x)$\n",
    "\n",
    "$H(10, 0, 4) = w_0 + w_1*L_1(x)+w_2*L_2(x) + w_3*L_3(x)$\n",
    "\n",
    "$H(10, 1, 3) = w_0 + w_1*L_1(x)+w_2*L_2(x) + L_3 + L_4 + L_5 + L_6 + L_7 + L_8 + L_9 + L_{10}$\n",
    "\n",
    "$H(10, 1, 4) = w_0 + w_1*L_1(x)+w_2*L_2(x) + w_3*L_3(x) + L_4 + L_5 + L_6 + L_7 + L_8 + L_9 + L_{10}$\n"
   ]
  },
  {
   "cell_type": "markdown",
   "metadata": {},
   "source": [
    "### 7.\n",
    "$H(10, 0, 3) \\cup H(10, 0, 4) = w_0 + w_1*L_1(x)+w_2*L_2(x) + w_3*L_3(x) = H_3$ (không thỏa $H_4$)\n",
    "\n",
    "$H(10, 1, 3) \\cup H(10, 1, 4) = w_0 + w_1*L_1(x)+w_2*L_2(x) + (w_3)*L_3(x) + L_4 + L_5 + L_6 + L_7 + L_8 + L_9 + L_{10} = H_{10}$ (không thỏa $H_3$)\n",
    "\n",
    "$H(10, 0, 3) \\cap H(10, 0, 4) = w_0 + w_1*L_1(x)+w_2*L_2(x) = H_2$ **(thỏa)**\n",
    "\n",
    "$H(10, 1, 3) \\cap H(10, 1, 4) = w_0 + w_1*L_1(x)+w_2*L_2(x) + L_3(x) + L_4 + L_5 + L_6 + L_7 + L_8 + L_9 + L_{10} = H_{10}$\n",
    "(không thỏa $H_1$)\n",
    "\n",
    "**Chọn [c] $H(10, 0, 3) \\cap H(10, 0, 4) = H_2$.**\n",
    "\n",
    "---"
   ]
  },
  {
   "cell_type": "markdown",
   "metadata": {},
   "source": [
    "### Câu 8 - 10: Neural Networks "
   ]
  },
  {
   "cell_type": "markdown",
   "metadata": {},
   "source": [
    "### 8.\n",
    "Quá trình forward số phép tính $w^{(l)}_{ij}a^{(l-1)}_i$: 6 * 3 + 4 = 22\n",
    "\n",
    "Quá trình \n",
    "\n",
    "**Chọn [d] 45.**\n",
    "\n",
    "---"
   ]
  },
  {
   "cell_type": "markdown",
   "metadata": {},
   "source": [
    "### 9.\n",
    "Với 36 nút ẩn ta chia thành 18 tầng ẩn (1 -> 18), vì cần lấy số lượng weights nhỏ nhất nên số weight giữa các tầng ẩn chỉ cần 2 là thỏa yêu cầu.\n",
    "+ Tầng 0: 10 unit (input) -> tầng ẩn 1 1 unit (unit $x^{(1)}_1$): cần 10 weights\n",
    "+ Từ tầng ẩn 1 -> 2, ..., 17 -> 18 ta chỉ cần 2 weights (2 nút ở tầng ẩn trước đến tầng ẩn sau)-> 2 * 17 = 34 weights\n",
    "+ Từ tầng ẩn 18 -> tầng output: 2 weights\n",
    "\n",
    "Vậy cần tổng là 10 + 34  + 2= 46 weights\n",
    "\n",
    "**Chọn [a] 46.**\n",
    "\n",
    "---"
   ]
  },
  {
   "cell_type": "code",
   "execution_count": 59,
   "metadata": {},
   "outputs": [
    {
     "data": {
      "text/plain": [
       "510"
      ]
     },
     "execution_count": 59,
     "metadata": {},
     "output_type": "execute_result"
    }
   ],
   "source": [
    "def numWeights_2():\n",
    "    \"\"\"\n",
    "    hàm chạy tính số lượng weight khi có 2 tầng ẩn\n",
    "    output: số lượng weight lớn nhất\n",
    "    \"\"\"\n",
    "    nW = []\n",
    "    for i in range(2, 35):\n",
    "        nW.append(10 * (i - 1) + i * (35 - i) + (36 - i))\n",
    "        #print(\"L1: %d, L2: %d - numWeight = %d\" %(i, 36 - i, 10 * (i - 1) + i * (35 - i) + (36 - i)))\n",
    "    return np.max(nW)\n",
    "numWeights_2()"
   ]
  },
  {
   "cell_type": "code",
   "execution_count": 58,
   "metadata": {},
   "outputs": [
    {
     "data": {
      "text/plain": [
       "467"
      ]
     },
     "execution_count": 58,
     "metadata": {},
     "output_type": "execute_result"
    }
   ],
   "source": [
    "def numWeights_3():\n",
    "    \"\"\"\n",
    "    hàm chạy tính số lượng weight khi có 3 tầng ẩn\n",
    "    output: số lượng weight lớn nhất\n",
    "    \"\"\"\n",
    "    nW = []\n",
    "    for i in range(2, 33):\n",
    "        for j in range(2, 33):\n",
    "            if (36 - i - j >= 2):\n",
    "                nW.append(10*(i-1) + i*(j - 1) + j * (35 - i - j) + (36 - i - j))\n",
    "                #print(\"L1: %d, L2: %d, L3: %d - numWeight = %d\" %(i, j, 36 - i - j, 10*(i-1) + i*(j - 1) + j * (35 - i - j) + (36 - i - j)))\n",
    "            else:\n",
    "                break\n",
    "    return np.max(nW)\n",
    "numWeights_3()"
   ]
  },
  {
   "cell_type": "code",
   "execution_count": 60,
   "metadata": {
    "scrolled": true
   },
   "outputs": [
    {
     "data": {
      "text/plain": [
       "426"
      ]
     },
     "execution_count": 60,
     "metadata": {},
     "output_type": "execute_result"
    }
   ],
   "source": [
    "def numWeights_4():\n",
    "    \"\"\"\n",
    "    hàm chạy tính số lượng weight khi có 4 tầng ẩn\n",
    "    output: số lượng weight lớn nhất\n",
    "    \"\"\"\n",
    "    nW = []\n",
    "    for i in range(2, 31):\n",
    "        for i1 in range(2, 31):\n",
    "            for i2 in range(2, 31):\n",
    "                if (36 - i - i1- i2 >= 2):\n",
    "                    nW.append(10*(i-1) + i*(i1 - 1) + i1 * (i2 - 1) + i2 * (35 - i - i1 - i2) + (36 - i - i1 -i2))\n",
    "                else:\n",
    "                    break\n",
    "    return np.max(nW)\n",
    "numWeights_4()"
   ]
  },
  {
   "cell_type": "code",
   "execution_count": 61,
   "metadata": {},
   "outputs": [
    {
     "data": {
      "text/plain": [
       "387"
      ]
     },
     "execution_count": 61,
     "metadata": {},
     "output_type": "execute_result"
    }
   ],
   "source": [
    "def numWeights_5():\n",
    "    \"\"\"\n",
    "    hàm chạy tính số lượng weight khi có 5 tầng ẩn\n",
    "    output: số lượng weight lớn nhất\n",
    "    \"\"\"\n",
    "    nW = []\n",
    "    for i in range(2, 29):\n",
    "        for i1 in range(2, 29):\n",
    "            for i2 in range(2, 29):\n",
    "                for i3 in range(2, 29):\n",
    "                    if (36 - i - i1 - i2 - i3 >= 2):\n",
    "                        nW.append(10*(i-1) + i*(i1 - 1) + i1 * (i2 - 1) + i2*(i3 - 1) + i3 * (35 - i - i1 - i2 - i3) + (36 - i - i1 -i2 - i3))\n",
    "                        #print(\"L1: %d, L2: %d, L3: %d,L4: %d, L5: %d - numWeight = %d\" %(i, i1, i2, i3, (36 - i - i1 - i2 - i3), nW[len(nW) - 1]))\n",
    "                    else:\n",
    "                        break\n",
    "    return np.max(nW)\n",
    "numWeights_5()"
   ]
  },
  {
   "cell_type": "code",
   "execution_count": 69,
   "metadata": {},
   "outputs": [
    {
     "data": {
      "text/plain": [
       "350"
      ]
     },
     "execution_count": 69,
     "metadata": {},
     "output_type": "execute_result"
    }
   ],
   "source": [
    "def numWeights_6():\n",
    "    \"\"\"\n",
    "    hàm chạy tính số lượng weight khi có 6 tầng ẩn\n",
    "    output: số lượng weight lớn nhất\n",
    "    \"\"\"\n",
    "    nW = []\n",
    "    for i in range(2, 27):\n",
    "        for i1 in range(2, 27):\n",
    "            for i2 in range(2, 27):\n",
    "                for i3 in range(2, 27):\n",
    "                    for i4 in range(2, 27):\n",
    "                        if (36 - i - i1 - i2 - i3 -i4 >= 2):\n",
    "                            nW.append(10*(i-1) + i*(i1 - 1) + i1 * (i2 - 1) + i2*(i3 - 1) \n",
    "                                      + i3 * (i4 - 1) + i4 * (35 - i - i1 - i2 - i3 - i4) + (36 - i - i1 -i2 - i3 - i4))\n",
    "                        else:\n",
    "                            break\n",
    "    return np.max(nW)\n",
    "numWeights_6()"
   ]
  },
  {
   "cell_type": "code",
   "execution_count": 68,
   "metadata": {},
   "outputs": [
    {
     "data": {
      "text/plain": [
       "315"
      ]
     },
     "execution_count": 68,
     "metadata": {},
     "output_type": "execute_result"
    }
   ],
   "source": [
    "def numWeights_7():\n",
    "    \"\"\"\n",
    "    hàm chạy tính số lượng weight khi có 7 tầng ẩn\n",
    "    output: số lượng weight lớn nhất\n",
    "    \"\"\"\n",
    "    nW = []\n",
    "    for i in range(2, 25):\n",
    "        for i1 in range(2, 25):\n",
    "            for i2 in range(2, 25):\n",
    "                for i3 in range(2, 25):\n",
    "                    for i4 in range(2, 25):\n",
    "                        for i5 in range(2, 25):\n",
    "                            if (36 - i - i1 - i2 - i3 - i4 - i5 >= 2):\n",
    "                                nW.append(10*(i-1) + i*(i1 - 1) + i1 * (i2 - 1) + i2*(i3 - 1) \n",
    "                                      + i3 * (i4 - 1) + i4 * (i5 - 1) + i5 * (35 - i - i1 - i2 - i3 - i4 - i5) + (36 - i - i1 -i2 - i3 - i4 - i5))\n",
    "                            else:\n",
    "                                break\n",
    "    return np.max(nW)\n",
    "numWeights_7()"
   ]
  },
  {
   "cell_type": "markdown",
   "metadata": {},
   "source": [
    "### 10.\n",
    "\n",
    "Xét mạng có 1 tầng ẩn, số weights là: 10 * 35 + 36 = 386\n",
    "\n",
    "Xét mạng có 2 tầng ẩn, số weights lớn nhất là: 10 * (22 - 1) + 22 * (14 - 1) + 14 = **510**.\n",
    "\n",
    "Xét mạng từ 3 tầng ẩn trở lên, khi đó số nút ẩn ko có weight (+1) sẽ tăng theo nên -> số lượng weight sẽ không tăng lên hơn so với 2 tầng ẩn. \n",
    "\n",
    "Và ở trên em có code in thử số weight cực đại của từ 2 -> 6 thì giảm dần\n",
    "+ 2 tầng: 510\n",
    "+ 3 tầng: 467\n",
    "+ 4 tầng: 426\n",
    "+ 5 tầng: 387\n",
    "+ 6 tầng: 350\n",
    "    \n",
    "Vì vậy chọn 2 tầng ẩn với tầng ẩn 1: 22 nút (kể cả +1), tầng ẩn 2 14 nút (kể cả +1), số weight lớn nhất là 510.\n",
    "\n",
    "**Chọn [e] 510.**\n",
    "\n",
    "---"
   ]
  }
 ],
 "metadata": {
  "kernelspec": {
   "display_name": "Python 3",
   "language": "python",
   "name": "python3"
  },
  "language_info": {
   "codemirror_mode": {
    "name": "ipython",
    "version": 3
   },
   "file_extension": ".py",
   "mimetype": "text/x-python",
   "name": "python",
   "nbconvert_exporter": "python",
   "pygments_lexer": "ipython3",
   "version": "3.7.1"
  }
 },
 "nbformat": 4,
 "nbformat_minor": 2
}
