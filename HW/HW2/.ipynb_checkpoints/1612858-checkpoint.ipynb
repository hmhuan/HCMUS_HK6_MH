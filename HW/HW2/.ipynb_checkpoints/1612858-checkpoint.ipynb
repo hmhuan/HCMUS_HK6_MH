{
 "cells": [
  {
   "cell_type": "markdown",
   "metadata": {},
   "source": [
    "# Bài tập 2\n",
    "\n",
    "\n",
    "## Huỳnh Minh Huấn - 1612858\n",
    "\n",
    "---"
   ]
  },
  {
   "cell_type": "markdown",
   "metadata": {},
   "source": [
    "## Câu 1 + 2"
   ]
  },
  {
   "cell_type": "code",
   "execution_count": 1,
   "metadata": {},
   "outputs": [],
   "source": [
    "import numpy as np\n",
    "import random"
   ]
  },
  {
   "cell_type": "markdown",
   "metadata": {},
   "source": [
    "#### Hàm phát sinh mẫu 1000 coins lật 10 lần và trả về kết quả là xác suất ${\\nu_1}$, ${\\nu_{rand}}$ và ${\\nu_{min}}$.\n",
    "Quy ước: 1 - head, 0 - not head"
   ]
  },
  {
   "cell_type": "code",
   "execution_count": 2,
   "metadata": {},
   "outputs": [
    {
     "name": "stdout",
     "output_type": "stream",
     "text": [
      "Wall time: 4 ms\n"
     ]
    },
    {
     "data": {
      "text/plain": [
       "(0.6, 0.4, 0.0)"
      ]
     },
     "execution_count": 2,
     "metadata": {},
     "output_type": "execute_result"
    }
   ],
   "source": [
    "def FlippingCoins(N):\n",
    "    # 1: head. 0: not head \n",
    "    coins = np.sum(np.random.randint(0, 2, size = (N, 10)), axis = 1)\n",
    "    idRand = np.random.randint(0, N)\n",
    "    return coins[0] / 10, coins[idRand] / 10, coins.min() / 10\n",
    "%time FlippingCoins(1000)"
   ]
  },
  {
   "cell_type": "markdown",
   "metadata": {},
   "source": [
    "#### Hàm tính ra 3 giá trị trung bình của ${\\nu_1}$, ${\\nu_{rand}}$ và ${\\nu_{min}}$."
   ]
  },
  {
   "cell_type": "code",
   "execution_count": 3,
   "metadata": {},
   "outputs": [],
   "source": [
    "def FlippingSample1(N):\n",
    "    a0, a1, a2 = 0.0, 0.0, 0.0\n",
    "    k = 0\n",
    "    while k < N:\n",
    "        sample = FlippingCoins(1000)\n",
    "        a0 += sample[0]\n",
    "        a1 += sample[1]\n",
    "        a2 += sample[2]\n",
    "        k += 1\n",
    "    return a0 / N, a1 / N, a2 / N"
   ]
  },
  {
   "cell_type": "markdown",
   "metadata": {},
   "source": [
    "#### Gọi hàm FlippingSample1(N = 100000) để tìm ra giá trị trung bình của ${\\nu_1}$, ${\\nu_{rand}}$ và ${\\nu_{min}}$."
   ]
  },
  {
   "cell_type": "code",
   "execution_count": 4,
   "metadata": {},
   "outputs": [
    {
     "name": "stdout",
     "output_type": "stream",
     "text": [
      "Wall time: 12.7 s\n"
     ]
    },
    {
     "data": {
      "text/plain": [
       "(0.5003059999999895, 0.5004290000000037, 0.03747699999997687)"
      ]
     },
     "execution_count": 4,
     "metadata": {},
     "output_type": "execute_result"
    }
   ],
   "source": [
    "%time FlippingSample1(100000)"
   ]
  },
  {
   "cell_type": "markdown",
   "metadata": {},
   "source": [
    "#### Hàm tính giá trị trung bình của ${\\nu_{min}}$."
   ]
  },
  {
   "cell_type": "code",
   "execution_count": 5,
   "metadata": {},
   "outputs": [],
   "source": [
    "def FlippingSample(N):\n",
    "    VminAverage = 0\n",
    "    for i in range(N):\n",
    "        sample = FlippingCoins(1000)[2]\n",
    "        VminAverage += sample\n",
    "    VminAverage = VminAverage / N\n",
    "    return VminAverage"
   ]
  },
  {
   "cell_type": "markdown",
   "metadata": {},
   "source": [
    "#### Gọi hàm FlippingSample(N = 100000) để tìm ra giá trị trung bình của ${\\nu_{min}}$."
   ]
  },
  {
   "cell_type": "code",
   "execution_count": 6,
   "metadata": {},
   "outputs": [
    {
     "name": "stdout",
     "output_type": "stream",
     "text": [
      "Wall time: 11.4 s\n"
     ]
    },
    {
     "data": {
      "text/plain": [
       "0.03781399999997656"
      ]
     },
     "execution_count": 6,
     "metadata": {},
     "output_type": "execute_result"
    }
   ],
   "source": [
    "%time FlippingSample(100000)"
   ]
  },
  {
   "cell_type": "markdown",
   "metadata": {},
   "source": [
    "## 1. \n",
    "Khi chạy hàm **FlippingSample(N = 100000)**, giá trị trung binh của ${\\nu_{min}}$ trả về xấp xỉ là: **0.037**. nên chọn gần nhất là 0.01\n",
    "\n",
    "Chọn **[b] 0.01.**\n",
    "\n",
    "---"
   ]
  },
  {
   "cell_type": "markdown",
   "metadata": {},
   "source": [
    "## 2. \n",
    "Ta thấy khi chạy hàm **FlippingSample1(100000)** thì kết quả trả về giá trị trung bình của ${\\nu_{1}}$ và ${\\nu_{rand}}$ là xấp xỉ 0.5 rất gần với giá trị ${\\nu_{1}}$ và ${\\nu_{rand}}$ . Nên ${c_1}$ và ${c_{rand}}$ thỏa mãn bất đẳng thức Hoeffding.\n",
    "\n",
    "Chọn **[d] ${c_1}$ and ${c_{rand}}$ .**\n",
    "\n",
    "---"
   ]
  },
  {
   "cell_type": "markdown",
   "metadata": {},
   "source": [
    "## 3.\n",
    "Xác suất make error h xấp xỉ target function f là ${P(h\\neq f) = \\mu}$\n",
    "=> Xác suất để h xấp xỉ target function f là ${P(h = f) = 1 - \\mu}$\n",
    "\n",
    "Xác suất y có nhiễu (${y\\neq f}$) là ${P(y\\neq f) = 1 - \\lambda}$ và xác suất không nhiễu là ${P(y = f) = \\lambda}$\n",
    "\n",
    "Dựa theo gợi ý ta tính xác suất lỗi mà h xấp xỉ y là: xác suất khi h xấp xỉ tôt y mà y lại có nhiễu hoặc h xấp xỉ y gây lỗi và y không nhiễu\n",
    "$${P(h = f)*P(f \\neq y) + P(h \\neq f)*P(f = y) = (1 - \\lambda)*(1 - \\mu)+\\lambda*\\mu}$$\n",
    "\n",
    "**Chọn [e] ${(1 - \\lambda)*(1 - \\mu)+\\lambda*\\mu}$ .**\n",
    "\n",
    "---"
   ]
  },
  {
   "cell_type": "markdown",
   "metadata": {},
   "source": [
    "## 4.\n",
    "Ta thấy khi ${\\lambda = 0.5}$ thì xác suất lỗi mà h xấp xỉ y trở thành: ${(1 - 0.5) * (1 - \\mu) + 0.5 * \\mu = 0.5 - 0.5*\\mu + 0.5*\\mu = 0.5}$ là độc lập với ${\\mu}$.\n",
    "\n",
    "Ngoài ra, khi ${\\lambda = 0.5}$ thì xác suất mà có nhiễu (${y\\neq f}$) cũng ứng với 0.5 (50%), \"do đó dữ liệu sẽ không truyền tải bất kỳ thông tin nào chúng ta có thể học hỏi\" (trích câu trả lời của GS Yaser).\n",
    "\n",
    "Chọn **[b] 0.5.**\n",
    "\n",
    "---"
   ]
  },
  {
   "cell_type": "markdown",
   "metadata": {},
   "source": [
    "## Câu 5 + 6\n",
    "\n",
    "\n",
    "---"
   ]
  },
  {
   "cell_type": "markdown",
   "metadata": {},
   "source": [
    "Hàm phát sinh target function - target_w"
   ]
  },
  {
   "cell_type": "code",
   "execution_count": 7,
   "metadata": {},
   "outputs": [],
   "source": [
    "def generate_target_w():\n",
    "    \"\"\"\n",
    "    Generates target_w from two random, uniformly distributed points in [-1, 1] x [-1, 1].\n",
    "    \n",
    "    Returns\n",
    "    -------\n",
    "    target_w : numpy array, shape (3, 1) \n",
    "        The vector of parameters of f.\n",
    "    \"\"\"\n",
    "    # Generate two points from a uniform distribution over [-1, 1]x[-1, 1]\n",
    "    p1 = np.random.uniform(-1, 1, 2)\n",
    "    p2 = np.random.uniform(-1, 1, 2)\n",
    "    # Compute the target W from these two points\n",
    "    target_w = np.array([p1[1]*p2[0] - p1[0]*p2[1], p2[1] - p1[1], p1[0] - p2[0]]).reshape((-1, 1))\n",
    "    \n",
    "    return target_w"
   ]
  },
  {
   "cell_type": "markdown",
   "metadata": {},
   "source": [
    "Hàm sinh ra bộ dữ liệu ứng với target_w"
   ]
  },
  {
   "cell_type": "code",
   "execution_count": 8,
   "metadata": {},
   "outputs": [],
   "source": [
    "def generate_data(N, target_w):\n",
    "    \"\"\"\n",
    "    Generates a data set by generating random inputs and then using target_w to generate the \n",
    "    corresponding outputs.\n",
    "    \n",
    "    Parameters\n",
    "    ----------\n",
    "    N : int\n",
    "        The number of examples.\n",
    "    target_w : numpy array, shape (3, 1) \n",
    "        The vector of parameters of f.\n",
    "    \n",
    "    Returns\n",
    "    -------\n",
    "    X : numpy array, shape (N, 3)\n",
    "        The matrix of input vectors (each row corresponds to an input vector); the first column of \n",
    "        this matrix is all ones.\n",
    "    Y : numpy array, shape (N, 1)\n",
    "        The vector of outputs.        \n",
    "    \"\"\"\n",
    "    bad_data = True # `bad_data = True` means: data contain points on the target line \n",
    "                    # (this rarely happens, but just to be careful)\n",
    "                    # -> y's of these points = 0 (with np.sign); \n",
    "                    #    we don't want this (y's of data must be -1 or 1)\n",
    "                    # -> re-generate data until `bad_data = False`\n",
    "    \n",
    "    while bad_data == True:\n",
    "        X = np.random.uniform(-1, 1, (N, 2))\n",
    "        X = np.hstack((np.ones((N, 1)), X)) # Add 'ones' column\n",
    "        Y = np.sign(np.dot(X, target_w))\n",
    "        if (0 not in Y): # Good data\n",
    "            bad_data = False\n",
    "    \n",
    "    return X, Y"
   ]
  },
  {
   "cell_type": "markdown",
   "metadata": {},
   "source": [
    "Hàm tính ra w (hypothesis g) theo công thức ở phần linear model 1 ${w =(X^TX)^{-1}X^TY}$"
   ]
  },
  {
   "cell_type": "code",
   "execution_count": 9,
   "metadata": {},
   "outputs": [],
   "source": [
    "def linearRegression(X, Y):\n",
    "    A = np.dot(X.T, X)\n",
    "    b = np.dot(X.T, Y)\n",
    "    w = np.dot(np.linalg.pinv(A), b)\n",
    "    return w"
   ]
  },
  {
   "cell_type": "markdown",
   "metadata": {},
   "source": [
    "Hàm main56(N) là hàm chạy ra kết quả câu 5 và 6"
   ]
  },
  {
   "cell_type": "code",
   "execution_count": 10,
   "metadata": {},
   "outputs": [],
   "source": [
    "def main56(N):\n",
    "    \"\"\"\n",
    "    Parameters\n",
    "    ----------\n",
    "    N : int\n",
    "        The number of training examples.\n",
    "    \"\"\"\n",
    "    num_runs = 1000 #experiment time\n",
    "    #avg_num_iterations = 0.0 # The average number of iterations PLA takes to converge\n",
    "    E_in = 0.0 # The E_in of g - the final hypothesis picked by PLA\n",
    "    E_out = 0.0\n",
    "    for r in range(num_runs):\n",
    "        # Generate target_w\n",
    "        target_w = generate_target_w()\n",
    "        \n",
    "        # Generate training set\n",
    "        X, Y = generate_data(N, target_w)\n",
    "        \n",
    "        # Run linear regression to pick g\n",
    "        w = linearRegression(X, Y)\n",
    "        \n",
    "        # Generate test set\n",
    "        X_test, Y_test = generate_data(1000, target_w) #generate 1000 diem fresh points\n",
    "        \n",
    "        # Test g\n",
    "        test_err_in = np.mean(np.sign(np.dot(X, w)) != Y)\n",
    "        test_err_out = np.mean(np.sign(np.dot(X_test, w)) != Y_test)\n",
    "        # Update average values\n",
    "        E_in += (test_err_in * 1.0 / num_runs)\n",
    "        E_out += (test_err_out * 1.0 / num_runs)\n",
    "    #Print results\n",
    "    #print('avg_num_iterations = %f' % (avg_num_iterations))\n",
    "    print('E_in = %f' % (E_in))\n",
    "    print('E_out = %f'% (E_out))"
   ]
  },
  {
   "cell_type": "code",
   "execution_count": 11,
   "metadata": {},
   "outputs": [
    {
     "name": "stdout",
     "output_type": "stream",
     "text": [
      "E_in = 0.040580\n",
      "E_out = 0.049312\n",
      "Wall time: 614 ms\n"
     ]
    }
   ],
   "source": [
    "%time main56(N = 100)"
   ]
  },
  {
   "cell_type": "markdown",
   "metadata": {},
   "source": [
    "## 5.\n",
    "Từ kết quả trên ta thấy ${E_{in}\\approx0.04}$\n",
    "\n",
    "Ta thấy giá trị ${|E_{in} - 0.01|}$ là gần 0 nhất.\n",
    "\n",
    "**Chọn [c] 0.01.**"
   ]
  },
  {
   "cell_type": "markdown",
   "metadata": {},
   "source": [
    "## 6.\n",
    "Từ kết quả trên ta thấy ${E_{out}\\approx0.05}$\n",
    "\n",
    "Ta thấy giá trị ${|E_{out} - 0.01|}$ là gần 0 nhất.\n",
    "\n",
    "**Chọn [c] 0.01.**\n",
    "\n",
    "---"
   ]
  },
  {
   "cell_type": "markdown",
   "metadata": {},
   "source": [
    "Hàm chạy thuật toán perceptron - PLA"
   ]
  },
  {
   "cell_type": "code",
   "execution_count": 12,
   "metadata": {},
   "outputs": [],
   "source": [
    "def run_PLA(X, Y):\n",
    "    \"\"\"\n",
    "    Runs PLA.\n",
    "    \n",
    "    Parameters\n",
    "    ----------\n",
    "    X : numpy array, shape (N, 3)\n",
    "        The matrix of input vectors (each row corresponds to an input vector); the first column of \n",
    "        this matrix is all ones.\n",
    "    Y : numpy array, shape (N, 1)\n",
    "        The vector of outputs.\n",
    "    \n",
    "    Returns\n",
    "    -------\n",
    "    w : numpy array, shape (3, 1) \n",
    "        The vector of parameters of g.\n",
    "    num_iterations : int\n",
    "        The number of iterations PLA takes to converge.\n",
    "    \"\"\"\n",
    "    w = linearRegression(X, Y) # Init w\n",
    "    iteration = 0\n",
    "    \n",
    "    # TODO\n",
    "    N = X.shape[0] \n",
    "    Y1 = np.sign(np.dot(X, w)) #(Nx1)\n",
    "    iteration += 1 #Cong truoc 1 lan vi da tinh o tren\n",
    "    while(np.array_equal(Y1, Y) == False): #So sanh de kiem tra Y1 va Y\n",
    "        for i in range(N): #Lap de tim vi tri i Y1 khac Y\n",
    "            if (Y[i][0] != Y1[i][0]):\n",
    "                w = np.add(w, np.dot(Y[i][0], X[i]).reshape(3, 1)) #Tinh lai w\n",
    "                break\n",
    "        Y1 = np.sign(np.dot(X, w))\n",
    "        iteration += 1\n",
    "\n",
    "    return w, iteration"
   ]
  },
  {
   "cell_type": "markdown",
   "metadata": {},
   "source": [
    "Hàm main7(N) chạy ra kết quả câu 7"
   ]
  },
  {
   "cell_type": "code",
   "execution_count": 13,
   "metadata": {},
   "outputs": [],
   "source": [
    "def main7(N):\n",
    "    \"\"\"\n",
    "    Parameters\n",
    "    ----------\n",
    "    N : int\n",
    "        The number of training examples.\n",
    "    \"\"\"\n",
    "    num_runs = 1000\n",
    "    avg_num_iterations = 0.0 # The average number of iterations PLA takes to converge\n",
    "    \n",
    "    for r in range(num_runs):\n",
    "        # Generate target_w\n",
    "        target_w = generate_target_w()\n",
    "        \n",
    "        # Generate training set\n",
    "        X, Y = generate_data(N, target_w)\n",
    "        \n",
    "        # Run PLA to pick g\n",
    "        w, num_iterations = run_PLA(X, Y)\n",
    "        \n",
    "        # Update average values\n",
    "        avg_num_iterations += (num_iterations * 1.0 / num_runs)\n",
    "    \n",
    "    # Print results\n",
    "    print('avg_num_iterations = %f' % (avg_num_iterations))"
   ]
  },
  {
   "cell_type": "code",
   "execution_count": 14,
   "metadata": {},
   "outputs": [
    {
     "name": "stdout",
     "output_type": "stream",
     "text": [
      "avg_num_iterations = 6.871000\n",
      "Wall time: 392 ms\n"
     ]
    }
   ],
   "source": [
    "%time main7(N = 10)"
   ]
  },
  {
   "cell_type": "markdown",
   "metadata": {},
   "source": [
    "## 7.\n",
    "Giá trị |avg_num_iterations - 1| gần 0 nhất.\n",
    "\n",
    "**Chọn [a] 1.**\n",
    "\n",
    "---"
   ]
  },
  {
   "cell_type": "code",
   "execution_count": 15,
   "metadata": {},
   "outputs": [],
   "source": [
    "def generate_data_with_noise(N, per):\n",
    "    \"\"\"\n",
    "    N: kích thước tập dữ liệu\n",
    "    p: phần trăm dữ liệu nhiễu (0 - 100)\n",
    "    \"\"\"\n",
    "    # Generate training set\n",
    "    p = np.random.uniform(-1, 1, (N, 2))\n",
    "    X = np.hstack((np.ones((N, 1)), p)) # Add 'ones' column (1, x1, x2)\n",
    "    Y = np.sign(np.sum(p*p, axis = 1) - 0.6).reshape(N, 1)\n",
    "    \n",
    "    count = int(per * 1.0 / 100 * N) # số lượng phần tử ứng với tỉ lệ trên tập dữ liệu\n",
    "    ids = np.random.randint(0, N, count) # random ra các vị trí để làm nhiễu dữ liệu  \n",
    "    for id in ids:    \n",
    "       Y[id] = -Y[id]\n",
    "    return X, Y"
   ]
  },
  {
   "cell_type": "code",
   "execution_count": 16,
   "metadata": {},
   "outputs": [],
   "source": [
    "def main8(N, p):\n",
    "    \"\"\"\n",
    "    Parameters\n",
    "    ----------\n",
    "    N : int\n",
    "        The number of training examples.\n",
    "    p: percent of noise data (0 - 100)\n",
    "    \"\"\"\n",
    "    num_runs = 1000 #experiment time\n",
    "    E_in = 0.0 # The E_in of g - the final hypothesis picked by PLA\n",
    "    for r in range(num_runs):\n",
    "        # Generate target_w\n",
    "        \n",
    "        # Generate training set with noise\n",
    "        X, Y = generate_data_with_noise(N, p)\n",
    "        \n",
    "        # Run linear regression to pick g\n",
    "        w = linearRegression(X, Y)\n",
    "        \n",
    "        # Test g\n",
    "        test_err_in = np.mean(np.sign(np.dot(X, w)) != Y)\n",
    "        # Update average values\n",
    "        E_in += (test_err_in * 1.0 / num_runs)\n",
    "    #Print results\n",
    "    print('E_in = %f' % (E_in))"
   ]
  },
  {
   "cell_type": "code",
   "execution_count": 17,
   "metadata": {},
   "outputs": [
    {
     "name": "stdout",
     "output_type": "stream",
     "text": [
      "E_in = 0.505263\n",
      "Wall time: 833 ms\n"
     ]
    }
   ],
   "source": [
    "%time main8(1000, 10)"
   ]
  },
  {
   "cell_type": "markdown",
   "metadata": {},
   "source": [
    "## 8.\n",
    "Dựa trên kết quả chạy được ở hàm main8(N = 1000, p = 10), ta thấy kết quả xấp xỉ gần 0.5 hay ${|E_{in}-0.5|}$ gần 0 nhất.\n",
    "\n",
    "**Chọn [d] 0.5.**\n",
    "\n",
    "---"
   ]
  },
  {
   "cell_type": "markdown",
   "metadata": {},
   "source": [
    "Hàm sinh data với vector đặc trưng là ${(1,x_1,x_2,x_1x_2,x_1^2,x_2^2)}$ "
   ]
  },
  {
   "cell_type": "code",
   "execution_count": 18,
   "metadata": {},
   "outputs": [],
   "source": [
    "def generate_data_6d_feature(N, per):\n",
    "    \"\"\"\n",
    "    N: kích thước tập dữ liệu\n",
    "    p: phần trăm dữ liệu nhiễu (0 - 100)\n",
    "    \"\"\"\n",
    "    # Generate training set\n",
    "    p = np.random.uniform(-1, 1, (N, 2))\n",
    "    p_2 = p*p\n",
    "    X = np.hstack((np.ones((N, 1)), p, np.prod(p, axis = 1).reshape(N,1), p_2)) #(1, x1, x2, x1x2, x1^2, x2^2)\n",
    "    Y = np.sign(np.sum(p_2, axis = 1) - 0.6).reshape(N, 1)\n",
    "    \n",
    "    count = int(per * 1.0 / 100 * N) # số lượng phần tử ứng với tỉ lệ trên tập dữ liệu\n",
    "    ids = np.random.randint(0, N, count) # random ra các vị trí để làm nhiễu dữ liệu  \n",
    "    for id in ids:    \n",
    "       Y[id] = -Y[id]\n",
    "    return X, Y"
   ]
  },
  {
   "cell_type": "markdown",
   "metadata": {},
   "source": [
    "Hàm main9(N, p) để chạy ra kết quả câu 9"
   ]
  },
  {
   "cell_type": "code",
   "execution_count": 19,
   "metadata": {},
   "outputs": [],
   "source": [
    "def main9(N, p):\n",
    "    \"\"\"\n",
    "    Parameters\n",
    "    ----------\n",
    "    N : int\n",
    "        The number of training examples.\n",
    "    p: percent of noise data (0 - 100)\n",
    "    \"\"\"\n",
    "    num_runs = 10 #experiment time\n",
    "    w = np.zeros((6, 1))\n",
    "    for r in range(num_runs):\n",
    "        # Generate data\n",
    "        X, Y = generate_data_6d_feature(N, p)\n",
    "        # calc w\n",
    "        w = w + linearRegression(X, Y)\n",
    "    print(np.around(w / num_runs,decimals = 3))"
   ]
  },
  {
   "cell_type": "code",
   "execution_count": 20,
   "metadata": {},
   "outputs": [
    {
     "name": "stdout",
     "output_type": "stream",
     "text": [
      "[[-1.026]\n",
      " [ 0.005]\n",
      " [ 0.012]\n",
      " [ 0.029]\n",
      " [ 1.598]\n",
      " [ 1.637]]\n"
     ]
    }
   ],
   "source": [
    "main9(1000, 10)"
   ]
  },
  {
   "cell_type": "markdown",
   "metadata": {},
   "source": [
    "## 9.\n",
    "Kết quả chạy main9(1000, 10) giá trị w0, w4 và w5 thuộc w = (w0, w1, w2, w3, w4, w5) là gần giống đáp án a nhất (với 10 lần chạy)\n",
    "\n",
    "**Chọn [a] g(x1,x2) = sign(${−1−0.05x_1 + 0.08x_2 + 0.13x_1x_2 + 1.5x_1^2 + 1.5x_2^2}$).**\n",
    "\n",
    "---"
   ]
  },
  {
   "cell_type": "code",
   "execution_count": 21,
   "metadata": {},
   "outputs": [],
   "source": [
    "def generate_data_for_Q10(N, per):\n",
    "    \"\"\"\n",
    "    N: kích thước tập dữ liệu\n",
    "    p: phần trăm dữ liệu nhiễu (0 - 100)\n",
    "    \"\"\"\n",
    "    # Generate training set\n",
    "    p = np.random.uniform(-1, 1, (N, 2))\n",
    "    p_2 = p*p\n",
    "    X = np.hstack((np.ones((N, 1)), p, np.prod(p, axis = 1).reshape(N,1), p_2)) #(1, x1, x2, x1x2, x1^2, x2^2)\n",
    "    Y = np.sign(X[:,0]*-1 + X[:,1]*-0.05 + X[:,2]*0.08 + X[:, 3] * 0.13 + np.sum(p_2, axis = 1) * 1.5 ).reshape(N, 1)\n",
    "    \n",
    "    count = int(per * 1.0 / 100 * N) # số lượng phần tử ứng với tỉ lệ trên tập dữ liệu\n",
    "    ids = np.random.randint(0, N, count) # random ra các vị trí để làm nhiễu dữ liệu  \n",
    "    for id in ids:    \n",
    "       Y[id] = -Y[id]\n",
    "    return X, Y"
   ]
  },
  {
   "cell_type": "code",
   "execution_count": 22,
   "metadata": {},
   "outputs": [],
   "source": [
    "def main10(N, p):\n",
    "    \"\"\"\n",
    "    Parameters\n",
    "    ----------\n",
    "    N : int\n",
    "        The number of training examples.\n",
    "    \"\"\"\n",
    "    num_runs = 1000 #experiment time\n",
    "    E_out = 0.0\n",
    "    for r in range(num_runs):        \n",
    "        # Generate training set\n",
    "        X, Y = generate_data_6d_feature(N, p)\n",
    "        \n",
    "        # Run linear regression to pick g\n",
    "        w = linearRegression(X, Y)\n",
    "        \n",
    "        # Generate test set\n",
    "        X_test, Y_test = generate_data_6d_feature(1000, p) #generate 1000 fresh points\n",
    "        \n",
    "        # Test g\n",
    "        test_err_out = np.mean(np.sign(np.dot(X_test, w)) != Y_test)\n",
    "        # Update average values\n",
    "        E_out += (test_err_out * 1.0 / num_runs)\n",
    "    #Print results\n",
    "    print('E_out = %f'% (E_out))"
   ]
  },
  {
   "cell_type": "code",
   "execution_count": 23,
   "metadata": {},
   "outputs": [
    {
     "name": "stdout",
     "output_type": "stream",
     "text": [
      "E_out = 0.117292\n"
     ]
    }
   ],
   "source": [
    "main10(1000, 10)"
   ]
  },
  {
   "cell_type": "markdown",
   "metadata": {},
   "source": [
    "## 10.\n",
    "Kết quả chạy ra câu 10 xấp xỉ là 0.11\n",
    "\n",
    "**Chọn [b] 0.1**\n",
    "\n",
    "---"
   ]
  }
 ],
 "metadata": {
  "kernelspec": {
   "display_name": "Python 3",
   "language": "python",
   "name": "python3"
  },
  "language_info": {
   "codemirror_mode": {
    "name": "ipython",
    "version": 3
   },
   "file_extension": ".py",
   "mimetype": "text/x-python",
   "name": "python",
   "nbconvert_exporter": "python",
   "pygments_lexer": "ipython3",
   "version": "3.7.1"
  }
 },
 "nbformat": 4,
 "nbformat_minor": 2
}
