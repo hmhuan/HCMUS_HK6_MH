{
 "cells": [
  {
   "cell_type": "markdown",
   "metadata": {},
   "source": [
    "# Bài tập 2\n",
    "\n",
    "\n",
    "## Huỳnh Minh Huấn - 1612858\n",
    "\n",
    "---"
   ]
  },
  {
   "cell_type": "code",
   "execution_count": 1,
   "metadata": {},
   "outputs": [],
   "source": [
    "import numpy as np\n",
    "import random"
   ]
  },
  {
   "cell_type": "markdown",
   "metadata": {},
   "source": [
    "#### Hàm phát sinh mẫu 1000 coins lật 10 lần và trả về kết quả là xác suất ${\\nu_1}$, ${\\nu_{rand}}$ và ${\\nu_{min}}$.\n",
    "Quy ước: 1 - head, 0 - not head"
   ]
  },
  {
   "cell_type": "code",
   "execution_count": 2,
   "metadata": {},
   "outputs": [
    {
     "name": "stdout",
     "output_type": "stream",
     "text": [
      "Wall time: 1e+03 µs\n"
     ]
    },
    {
     "data": {
      "text/plain": [
       "(0.4, 0.5, 0.0)"
      ]
     },
     "execution_count": 2,
     "metadata": {},
     "output_type": "execute_result"
    }
   ],
   "source": [
    "def FlippingCoins(N):\n",
    "    # 1: head. 0: not head \n",
    "    coins = np.sum(np.random.randint(0, 2, size = (N, 10)), axis = 1)\n",
    "    idRand = np.random.randint(0, N)\n",
    "    return coins[0] / 10, coins[idRand] / 10, coins.min() / 10\n",
    "%time FlippingCoins(1000)"
   ]
  },
  {
   "cell_type": "markdown",
   "metadata": {},
   "source": [
    "#### Hàm tính ra 3 giá trị trung bình của ${\\nu_1}$, ${\\nu_{rand}}$ và ${\\nu_{min}}$."
   ]
  },
  {
   "cell_type": "code",
   "execution_count": 3,
   "metadata": {},
   "outputs": [],
   "source": [
    "def FlippingSample1(N):\n",
    "    a0, a1, a2 = 0.0, 0.0, 0.0\n",
    "    k = 0\n",
    "    while k < N:\n",
    "        sample = FlippingCoins(1000)\n",
    "        a0 += sample[0]\n",
    "        a1 += sample[1]\n",
    "        a2 += sample[2]\n",
    "        k += 1\n",
    "    return a0 / N, a1 / N, a2 / N"
   ]
  },
  {
   "cell_type": "markdown",
   "metadata": {},
   "source": [
    "#### Gọi hàm FlippingSample1(N = 100000) để tìm ra giá trị trung bình của ${\\nu_1}$, ${\\nu_{rand}}$ và ${\\nu_{min}}$."
   ]
  },
  {
   "cell_type": "code",
   "execution_count": 4,
   "metadata": {},
   "outputs": [
    {
     "name": "stdout",
     "output_type": "stream",
     "text": [
      "Wall time: 11.3 s\n"
     ]
    },
    {
     "data": {
      "text/plain": [
       "(0.5003669999999992, 0.5003199999999972, 0.03796999999997642)"
      ]
     },
     "execution_count": 4,
     "metadata": {},
     "output_type": "execute_result"
    }
   ],
   "source": [
    "%time FlippingSample1(100000)"
   ]
  },
  {
   "cell_type": "markdown",
   "metadata": {},
   "source": [
    "#### Hàm tính giá trị trung bình của ${\\nu_{min}}$."
   ]
  },
  {
   "cell_type": "code",
   "execution_count": 5,
   "metadata": {},
   "outputs": [],
   "source": [
    "def FlippingSample(N):\n",
    "    VminAverage = 0\n",
    "    for i in range(N):\n",
    "        sample = FlippingCoins(1000)[2]\n",
    "        VminAverage += sample\n",
    "    VminAverage = VminAverage / N\n",
    "    return VminAverage"
   ]
  },
  {
   "cell_type": "markdown",
   "metadata": {},
   "source": [
    "#### Gọi hàm FlippingSample(N = 100000) để tìm ra giá trị trung bình của ${\\nu_{min}}$."
   ]
  },
  {
   "cell_type": "code",
   "execution_count": 6,
   "metadata": {},
   "outputs": [
    {
     "name": "stdout",
     "output_type": "stream",
     "text": [
      "Wall time: 11 s\n"
     ]
    },
    {
     "data": {
      "text/plain": [
       "0.0376729999999767"
      ]
     },
     "execution_count": 6,
     "metadata": {},
     "output_type": "execute_result"
    }
   ],
   "source": [
    "%time FlippingSample(100000)"
   ]
  },
  {
   "cell_type": "markdown",
   "metadata": {},
   "source": [
    "## 1. \n",
    "Khi chạy hàm **FlippingSample(N = 100000)**, giá trị trung binh của ${\\nu_{min}}$ trả về xấp xỉ là: **0.037**. nên chọn gần nhất là 0.01\n",
    "\n",
    "Chọn **[b] 0.01.**\n",
    "\n",
    "---"
   ]
  },
  {
   "cell_type": "markdown",
   "metadata": {},
   "source": [
    "## 2. \n",
    "Ta thấy khi chạy hàm **FlippingSample1(100000)** thì kết quả trả về giá trị trung bình của ${\\nu_{1}}$ và ${\\nu_{rand}}$ là xấp xỉ 0.5 rất gần với giá trị ${\\nu_{1}}$ và ${\\nu_{rand}}$ . Nên ${c_1}$ và ${c_{rand}}$ thỏa mãn bất đẳng thức Hoeffding.\n",
    "\n",
    "Chọn **[d] ${c_1}$ and ${c_{rand}}$ .**\n",
    "\n",
    "---"
   ]
  },
  {
   "cell_type": "markdown",
   "metadata": {},
   "source": [
    "## 3.\n",
    "Chọn **[e] ${(1 - \\lambda)*(1 - \\mu)+\\lambda*\\mu}$ .**\n",
    "\n",
    "---"
   ]
  },
  {
   "cell_type": "markdown",
   "metadata": {},
   "source": [
    "## 4.\n",
    "Ta thấy khi ${\\lambda = 0.5}$ thì xác suất lỗi mà h xấp xỉ f(x) trở thành: $${(1 - 0.5) * (1 - \\mu) + 0.5 * \\mu = 0.5 - 0.5*\\mu + 0.5*\\mu = 0.5}$$\n",
    "Chọn **[b] 0.5.**\n",
    "\n",
    "---"
   ]
  },
  {
   "cell_type": "markdown",
   "metadata": {},
   "source": [
    "## 5.\n",
    "\n",
    "\n",
    "---"
   ]
  },
  {
   "cell_type": "markdown",
   "metadata": {},
   "source": [
    "## 6.\n",
    "\n",
    "\n",
    "---"
   ]
  },
  {
   "cell_type": "markdown",
   "metadata": {},
   "source": [
    "## 7.\n",
    "\n",
    "---"
   ]
  },
  {
   "cell_type": "markdown",
   "metadata": {},
   "source": [
    "## 8.\n",
    "\n",
    "---"
   ]
  },
  {
   "cell_type": "markdown",
   "metadata": {},
   "source": [
    "## 9.\n",
    "\n",
    "---"
   ]
  },
  {
   "cell_type": "markdown",
   "metadata": {},
   "source": [
    "## 10.\n",
    "\n",
    "\n",
    "---"
   ]
  }
 ],
 "metadata": {
  "kernelspec": {
   "display_name": "Python 3",
   "language": "python",
   "name": "python3"
  },
  "language_info": {
   "codemirror_mode": {
    "name": "ipython",
    "version": 3
   },
   "file_extension": ".py",
   "mimetype": "text/x-python",
   "name": "python",
   "nbconvert_exporter": "python",
   "pygments_lexer": "ipython3",
   "version": "3.7.1"
  }
 },
 "nbformat": 4,
 "nbformat_minor": 2
}
