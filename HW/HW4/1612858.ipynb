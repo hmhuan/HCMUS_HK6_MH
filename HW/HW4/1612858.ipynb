{
 "cells": [
  {
   "cell_type": "markdown",
   "metadata": {},
   "source": [
    "# Huỳnh Minh Huấn - 1612858"
   ]
  },
  {
   "cell_type": "markdown",
   "metadata": {},
   "source": [
    "## Bài tập 04"
   ]
  },
  {
   "cell_type": "code",
   "execution_count": 1,
   "metadata": {},
   "outputs": [],
   "source": [
    "import numpy as np\n",
    "import math"
   ]
  },
  {
   "cell_type": "code",
   "execution_count": 2,
   "metadata": {},
   "outputs": [],
   "source": [
    "def lowerBound(ep, dvc, sigma):\n",
    "    N = 1\n",
    "    for i in range(100):\n",
    "        N = 8 / (ep * ep) *np.log((4 * math.pow((2*N), dvc) + 4) / sigma)\n",
    "    return N"
   ]
  },
  {
   "cell_type": "code",
   "execution_count": 3,
   "metadata": {},
   "outputs": [
    {
     "data": {
      "text/plain": [
       "452956.8647230992"
      ]
     },
     "execution_count": 3,
     "metadata": {},
     "output_type": "execute_result"
    }
   ],
   "source": [
    "lowerBound(0.05, 10, 0.05)"
   ]
  },
  {
   "cell_type": "markdown",
   "metadata": {},
   "source": [
    "## 1.\n",
    "- Tìm $N$ bằng cách giải phương trình: $\\epsilon = \\sqrt{\\frac{8}{N} ln \\frac{4m_\\mathcal{H}(2N)}{\\delta} } $.\n",
    "\n",
    "- Thay số, ta được: ${0.05^2 = \\frac{8}{N}*ln(\\frac{4*(2*N)^{10}}{0.05})}$\n",
    "\n",
    "${\\Leftrightarrow \\frac{N * 0.05^2}{8} - ln(80) - 10*ln(2*N) = 0}$\n",
    "\n",
    "Giải phương trình bằng máy tinh casio thì được nghiệm: **452956.8647**\n",
    "\n",
    "tương tự kết quả chạy hàm lowerBound ở trên là dựa vào công thức (2.13 - trang 57) trong sách Learning from data của giáo sư.\n",
    "\n",
    "chọn đáp án xấp xỉ gần nhất của sample size là **460000**\n",
    "\n",
    "**Chọn [d] 460000.**\n",
    "\n",
    "---"
   ]
  },
  {
   "cell_type": "markdown",
   "metadata": {},
   "source": [
    "Em giải pt bậc 2 theo epsilon\n",
    "Vì N = 10000 > dvc = 50, nên ${m_H(N) = N^{d_{vc}}}$\n",
    "\n",
    "2.c. ${10000*\\epsilon^2 - 2*\\epsilon - ln(\\frac{6*20000^{50}}{0.05})\\leq0}$\n",
    "\n",
    "2.d. ${(2*10000 - 4)*\\epsilon^2 - 4*\\epsilon - ln(\\frac{4*(10000^2)^{50}}{0.05})\\leq0}$\n",
    "\n",
    "${\\Leftrightarrow (2*10000 - 4)*\\epsilon^2 - 4*\\epsilon -ln(80) - 100ln(10000)\\leq0}$"
   ]
  },
  {
   "cell_type": "markdown",
   "metadata": {},
   "source": [
    "### Code câu 2"
   ]
  },
  {
   "cell_type": "code",
   "execution_count": 4,
   "metadata": {},
   "outputs": [
    {
     "name": "stdout",
     "output_type": "stream",
     "text": [
      "Original VC Bound: 0.632174915200836\n",
      "Rademacher Penalty Bound: 0.3424069399356495\n",
      "Parrondo and Van den Broek: 0.2236982936807856\n",
      "Devroye: 0.21522804980824667\n"
     ]
    }
   ],
   "source": [
    "#Cau 2\n",
    "N = 10000\n",
    "dvc = 50\n",
    "sigma = 0.05\n",
    "print(\"Original VC Bound:\", math.sqrt(8/N *np.log(4 * math.pow(2*N, dvc)/sigma)))\n",
    "\n",
    "print(\"Rademacher Penalty Bound:\", math.sqrt(2*np.log(math.pow(2*N, dvc + 1))/N) + math.sqrt(2*np.log(1/sigma)/N)+1/N)\n",
    "\n",
    "# delta cho ham bac 2 cua bat phuong trinh cau 2 c\n",
    "deltaC = math.pow(1, 2) - N * (-np.log(6*math.pow(2*N, dvc)/sigma))\n",
    "print(\"Parrondo and Van den Broek:\", (1 + math.sqrt(deltaC))/N)\n",
    "\n",
    "#delta cho ham bac 2 cua bat phuong trinh cau 2 d\n",
    "deltaD = math.pow(2, 2) - (2 * N - 4) * (-(np.log(80) + 100* np.log(N)))\n",
    "print(\"Devroye:\", (2 + math.sqrt(deltaD))/(2 * N - 4))"
   ]
  },
  {
   "cell_type": "markdown",
   "metadata": {},
   "source": [
    "## 2.\n",
    "Ta thấy kết quả trên chặn trên theo Devroye là **0.215228...** là chặn trên nhỏ nhất.\n",
    "\n",
    "**Chọn [d]**\n",
    "\n",
    "---"
   ]
  },
  {
   "cell_type": "markdown",
   "metadata": {},
   "source": [
    "Em giải pt bậc 2 theo epsilon\n",
    "Vì N = 5 < dvc = 50, nên ${m_H(N) = 2^N}$\n",
    "\n",
    "3.c. ${5*\\epsilon^2 - 2*\\epsilon - ln(\\frac{6*2^{2*5}}{0.05})\\leq0}$\n",
    "\n",
    "3.d. ${(2*5 - 4)*\\epsilon^2 - 4*\\epsilon - ln(\\frac{4*2^{5^2}}{0.05})\\leq0}$"
   ]
  },
  {
   "cell_type": "markdown",
   "metadata": {},
   "source": [
    "### Code câu 3"
   ]
  },
  {
   "cell_type": "code",
   "execution_count": 5,
   "metadata": {},
   "outputs": [
    {
     "name": "stdout",
     "output_type": "stream",
     "text": [
      "Original VC Bound: 4.254597220000659\n",
      "Rademacher Penalty Bound: 2.813654929686762\n",
      "Parrondo and Van den Broek: 1.74395359699581\n",
      "Devroye: 2.264540762867992\n"
     ]
    }
   ],
   "source": [
    "#Cau 3\n",
    "N = 5\n",
    "dvc = 50\n",
    "sigma = 0.05\n",
    "print(\"Original VC Bound:\", math.sqrt(8/N *np.log(4 * math.pow(2, 2*N)/sigma)))\n",
    "\n",
    "print(\"Rademacher Penalty Bound:\", math.sqrt(2*np.log(2*N*math.pow(2, N))/N) + math.sqrt(2*np.log(1/sigma)/N)+1/N)\n",
    "\n",
    "# delta cho ham bac 2 cua bat phuong trinh cau 2 c\n",
    "deltaC = math.pow(1, 2) - N * (-np.log(6*math.pow(2, 2*N)/sigma))\n",
    "print(\"Parrondo and Van den Broek:\", (1 + math.sqrt(deltaC))/N)\n",
    "\n",
    "#delta cho ham bac 2 cua bat phuong trinh cau 2 d\n",
    "deltaD = math.pow(2, 2) - (2 * N - 4) * (-np.log(4 * math.pow(2, math.pow(N, 2))/sigma))\n",
    "print(\"Devroye:\", (2 + math.sqrt(deltaD))/(2 * N - 4))"
   ]
  },
  {
   "cell_type": "markdown",
   "metadata": {},
   "source": [
    "## 3.\n",
    "Ta thấy kết quả trên chặn trên theo **Parrondo and Van den Broek** là **1.74395359699581** là chặn trên nhỏ nhất.\n",
    "\n",
    "**Chọn [c]**\n",
    "\n",
    "---"
   ]
  },
  {
   "cell_type": "markdown",
   "metadata": {},
   "source": [
    "## Câu 4-7: Bias and Variance\n",
    "<font color=blue>Tính $\\bar{g}(\\mathbf{x})$</font> \n",
    "\n",
    "Ta có thể code nhanh chóng hàm phát sinh ngẫu nhiên một tập dữ liệu $\\mathcal{D}$ có kích thước $N$ ($x$ được phát sinh ngẫu nhiên theo phân bố đều trong đoạn [-1, 1], $y=sin(\\pi x)$):"
   ]
  },
  {
   "cell_type": "code",
   "execution_count": 6,
   "metadata": {},
   "outputs": [
    {
     "data": {
      "text/plain": [
       "(array([[0.71718477],\n",
       "        [0.76785029]]), array([[0.7761206 ],\n",
       "        [0.66636262]]))"
      ]
     },
     "execution_count": 6,
     "metadata": {},
     "output_type": "execute_result"
    }
   ],
   "source": [
    "def generate_dataset(N):\n",
    "    X = np.random.uniform(-1, 1, (N, 1))\n",
    "    Y = np.sin(np.pi * X)\n",
    "    return X, Y\n",
    "generate_dataset(2)"
   ]
  },
  {
   "cell_type": "code",
   "execution_count": 7,
   "metadata": {},
   "outputs": [
    {
     "name": "stdout",
     "output_type": "stream",
     "text": [
      "[[ 0.69636383]\n",
      " [-0.07791036]]\n",
      "[[ 0.81567855]\n",
      " [-0.24232601]]\n"
     ]
    }
   ],
   "source": [
    "X, Y = generate_dataset(2)\n",
    "print(X)\n",
    "print(Y)"
   ]
  },
  {
   "cell_type": "code",
   "execution_count": 8,
   "metadata": {},
   "outputs": [
    {
     "data": {
      "text/plain": [
       "[<matplotlib.lines.Line2D at 0x1a1625a6cc0>]"
      ]
     },
     "execution_count": 8,
     "metadata": {},
     "output_type": "execute_result"
    },
    {
     "data": {
      "image/png": "[encoded data removed]",
      "text/plain": [
       "<Figure size 576x396 with 1 Axes>"
      ]
     },
     "metadata": {},
     "output_type": "display_data"
    }
   ],
   "source": [
    "# Trực quan hóa hàm f và 2 điểm dữ liệu được phát sinh ở trên\n",
    "%matplotlib inline\n",
    "import matplotlib.pylab as plt\n",
    "plt.style.use(\"seaborn\")\n",
    "\n",
    "xx = np.arange(-1, 1, 0.01).reshape(-1, 1)\n",
    "yy = np.sin(np.pi * xx)\n",
    "plt.plot(xx, yy, color=\"black\")\n",
    "plt.plot(X, Y, \"o\", color=\"blue\")"
   ]
  },
  {
   "cell_type": "code",
   "execution_count": 9,
   "metadata": {},
   "outputs": [],
   "source": [
    "def linearRegression(X, Y):\n",
    "    A = np.dot(X.T, X)\n",
    "    b = np.dot(X.T, Y)\n",
    "    w = np.dot(np.linalg.pinv(A), b)\n",
    "    return w\n",
    "X, Y = generate_dataset(2)"
   ]
  },
  {
   "cell_type": "code",
   "execution_count": 10,
   "metadata": {},
   "outputs": [],
   "source": [
    "def find_a_average(N = 1000):\n",
    "    a = np.zeros(N)\n",
    "    for i in range(N):\n",
    "        X, Y = generate_dataset(2)\n",
    "        a[i] = np.sum(linearRegression(X, Y))\n",
    "    return (np.mean(a))"
   ]
  },
  {
   "cell_type": "code",
   "execution_count": 11,
   "metadata": {},
   "outputs": [
    {
     "data": {
      "text/plain": [
       "1.4370707509940468"
      ]
     },
     "execution_count": 11,
     "metadata": {},
     "output_type": "execute_result"
    }
   ],
   "source": [
    "find_a_average(10000)"
   ]
  },
  {
   "cell_type": "markdown",
   "metadata": {},
   "source": [
    "# 4.\n",
    "Ta thấy rằng ${\\bar{a} \\approx 1.43}$ với giá trị N = 10000. Do đó không có giá trị nào ở trong đáp án thỏa.\n",
    "\n",
    "**Chọn [e] None of the above.**\n",
    "\n",
    "---"
   ]
  },
  {
   "cell_type": "markdown",
   "metadata": {},
   "source": [
    "#### Hàm find_Bias_Var(N) tính bias và var cho hypothesis h(x) = ax\n",
    "\n",
    "Giá trị trả về là Bias, Var"
   ]
  },
  {
   "cell_type": "code",
   "execution_count": 12,
   "metadata": {},
   "outputs": [],
   "source": [
    "def find_Bias_Var(N = 1000):\n",
    "    a_arr = np.zeros(N)\n",
    "    f = []\n",
    "    X_arr = []\n",
    "    Bias = 0\n",
    "    Var = 0\n",
    "    for i in range(N):\n",
    "        X, Y = generate_dataset(2)\n",
    "        f.append([Y[0, 0],Y[1, 0]])\n",
    "        X_arr.append([X[0, 0], X[1, 0]])\n",
    "        a_arr[i] = np.sum(linearRegression(X, Y))\n",
    "    a_bar = np.mean(a_arr)\n",
    "    for i in range(N):\n",
    "        Bias += math.pow(a_bar*X_arr[i][0] - f[i][0], 2) + math.pow(a_bar*X_arr[i][1] - f[i][1], 2)\n",
    "        Var += math.pow((a_arr[i] - a_bar) * X_arr[i][0], 2) + math.pow((a_arr[i] - a_bar) * X_arr[i][1], 2)\n",
    "    Bias /= (N * 2)\n",
    "    Var /= (N * 2)\n",
    "    return Bias, Var"
   ]
  },
  {
   "cell_type": "code",
   "execution_count": 13,
   "metadata": {},
   "outputs": [
    {
     "data": {
      "text/plain": [
       "(0.2700335034784945, 0.202865955178175)"
      ]
     },
     "execution_count": 13,
     "metadata": {},
     "output_type": "execute_result"
    }
   ],
   "source": [
    "find_Bias_Var(N = 10000)"
   ]
  },
  {
   "cell_type": "markdown",
   "metadata": {},
   "source": [
    "## 5.\n",
    "Chạy hàm find_Bias_Var(N) với N = 10000, ta được kết quả bias xấp xỉ **0.278..** Do đó giá trị gần nhất với bias là 0.3\n",
    "\n",
    "**Chọn [b] 0.3.**\n",
    "\n",
    "---"
   ]
  },
  {
   "cell_type": "markdown",
   "metadata": {},
   "source": [
    "## 6.\n",
    "Chạy hàm find_Bias_Var(N) với N = 10000, ta được kết quả Var xấp xỉ **0.2..** Do đó giá trị gần nhất với Var là 0.2 \n",
    "\n",
    "**Chọn [a] 0.2.**\n",
    "\n",
    "---"
   ]
  },
  {
   "cell_type": "markdown",
   "metadata": {},
   "source": [
    "#### Hàm generate_dataset_b cho hypotheses h(x) = b và find_E_Eout cho [a]"
   ]
  },
  {
   "cell_type": "code",
   "execution_count": 14,
   "metadata": {},
   "outputs": [],
   "source": [
    "def generate_dataset_b():\n",
    "    Y = np.sin(np.pi * np.random.uniform(-1, 1, (2, 1)))\n",
    "    X = np.array([[1], [1]])\n",
    "    return X, Y\n",
    "#X, Y = generate_dataset_b()\n",
    "#linearRegression(X, Y)\n",
    "def find_E_Eout_0(N):\n",
    "    a_arr = np.zeros(N) # Danh sách các g_d được phát sinh\n",
    "    f = [] # chứa f(x)\n",
    "    X_arr = [] # chứa x\n",
    "    Bias = 0\n",
    "    Var = 0\n",
    "    for i in range(N):\n",
    "        X, Y = generate_dataset_b()\n",
    "        f.append([Y[0, 0],Y[1, 0]])\n",
    "        X_arr.append([X[0, 0], X[1, 0]])\n",
    "        a_arr[i] = np.sum(linearRegression(X, Y))\n",
    "    a_bar = np.mean(a_arr)\n",
    "    for i in range(N):\n",
    "        Bias += math.pow(a_bar - f[i][0], 2) + math.pow(a_bar - f[i][1], 2)\n",
    "        Var += math.pow((a_arr[i]) * X_arr[i][0] - a_bar, 2) + math.pow((a_arr[i]) * X_arr[i][1]  - a_bar, 2)\n",
    "    Bias /= (N * 2)\n",
    "    Var /= (N * 2)\n",
    "    return Bias + Var"
   ]
  },
  {
   "cell_type": "markdown",
   "metadata": {},
   "source": [
    "#### Hàm find_E_Eout cho [b]"
   ]
  },
  {
   "cell_type": "code",
   "execution_count": 15,
   "metadata": {},
   "outputs": [],
   "source": [
    "def find_E_Eout_1(N):\n",
    "    a_arr = np.zeros(N) # Danh sách các g_d được phát sinh\n",
    "    f = [] # chứa f(x)\n",
    "    X_arr = [] # chứa x\n",
    "    Bias = 0\n",
    "    Var = 0\n",
    "    for i in range(N):\n",
    "        X, Y = generate_dataset(2)\n",
    "        f.append([Y[0, 0],Y[1, 0]])\n",
    "        X_arr.append([X[0, 0], X[1, 0]])\n",
    "        a_arr[i] = np.sum(linearRegression(X, Y))\n",
    "    a_bar = np.mean(a_arr)\n",
    "    for i in range(N):\n",
    "        Bias += math.pow(a_bar*X_arr[i][0] - f[i][0], 2) + math.pow(a_bar*X_arr[i][1] - f[i][1], 2)\n",
    "        Var += math.pow((a_arr[i] - a_bar) * X_arr[i][0], 2) + math.pow((a_arr[i] - a_bar) * X_arr[i][1], 2)\n",
    "    Bias /= (N * 2)\n",
    "    Var /= (N * 2)\n",
    "    return Bias + Var"
   ]
  },
  {
   "cell_type": "markdown",
   "metadata": {},
   "source": [
    "#### Hàm generate_dataset_ax_b cho hypotheses h(x) = ax + b và find_E_Eout cho [c]"
   ]
  },
  {
   "cell_type": "code",
   "execution_count": 16,
   "metadata": {},
   "outputs": [],
   "source": [
    "def generate_dataset_ax_b():\n",
    "    X = np.random.uniform(-1, 1, (2, 1))\n",
    "    Y = np.sin(np.pi * X)\n",
    "    X = np.hstack((np.ones((2, 1)), X))\n",
    "    return X, Y\n",
    "#X, Y = generate_dataset_ax_b()\n",
    "#print(X)\n",
    "#print(Y)\n",
    "#linearRegression(X, Y).reshape(1, 2)\n",
    "def find_E_Eout_2(N = 1000):\n",
    "    g_arr = [] # Danh sách các g_d được phát sinh\n",
    "    f = [] # chứa f(x)\n",
    "    X_arr = [] # chứa x\n",
    "    Bias = 0\n",
    "    Var = 0\n",
    "    for i in range(N):\n",
    "        X, Y = generate_dataset_ax_b()\n",
    "        f.append([Y[0, 0],Y[1, 0]])\n",
    "        X_arr.append([X[0, 1], X[1, 1]])\n",
    "        g_arr.append(linearRegression(X, Y).reshape(1, 2))\n",
    "    g_bar = np.mean(g_arr, 0)\n",
    "    for i in range(N):\n",
    "        # Bias = Ex[(g_bar(x) - f(x))^2]\n",
    "        Bias += math.pow(g_bar[0][0]+ X_arr[i][0] * g_bar[0][1] - f[i][0], 2) + math.pow(g_bar[0][0] + X_arr[i][1] * g_bar[0][1]- f[i][1], 2)\n",
    "        #Var = Ex[Ed[(gd(x) - g_bar(x))^2]]\n",
    "        Var += math.pow((g_arr[i][0][1] - g_bar[0][1]) * X_arr[i][0], 2) + math.pow((g_arr[i][0][1] - g_bar[0][1]) * X_arr[i][1], 2)\n",
    "    Bias /= (N * 2)\n",
    "    Var /= (N * 2)\n",
    "    return Bias + Var"
   ]
  },
  {
   "cell_type": "markdown",
   "metadata": {},
   "source": [
    "#### Hàm generate_dataset_ax_2 cho hypotheses h(x) = ax^2 và find_E_Eout cho [d]"
   ]
  },
  {
   "cell_type": "code",
   "execution_count": 17,
   "metadata": {},
   "outputs": [],
   "source": [
    "def generate_dataset_ax_2():\n",
    "    X = np.random.uniform(-1, 1, (2, 1))\n",
    "    X = X*X #Tạo X^2\n",
    "    Y = np.sin(np.pi * X)\n",
    "    return X, Y\n",
    "#X, Y = generate_dataset_ax_2()\n",
    "#print(X)\n",
    "#print(Y)\n",
    "linearRegression(X, Y)\n",
    "def find_E_Eout_3(N):\n",
    "    a_arr = np.zeros(N) # Danh sách các g_d được phát sinh\n",
    "    f = [] # chứa f(x)\n",
    "    X_arr = [] # chứa x\n",
    "    Bias = 0\n",
    "    Var = 0\n",
    "    for i in range(N):\n",
    "        X, Y = generate_dataset_ax_2()\n",
    "        f.append([Y[0, 0],Y[1, 0]])\n",
    "        X_arr.append([X[0, 0], X[1, 0]])\n",
    "        a_arr[i] = np.sum(linearRegression(X, Y))\n",
    "    a_bar = np.mean(a_arr)\n",
    "    for i in range(N):\n",
    "        Bias += math.pow(a_bar*X_arr[i][0] - f[i][0], 2) + math.pow(a_bar*X_arr[i][1] - f[i][1], 2)\n",
    "        Var += math.pow((a_arr[i] - a_bar) * X_arr[i][0], 2) + math.pow((a_arr[i] - a_bar) * X_arr[i][1], 2)\n",
    "    Bias /= (N * 2)\n",
    "    Var /= (N * 2)\n",
    "    return Bias + Var"
   ]
  },
  {
   "cell_type": "markdown",
   "metadata": {},
   "source": [
    "#### Hàm generate_dataset_ax_2_b cho hypotheses h(x) = ax^2 + b và find_E_Eout cho [e]"
   ]
  },
  {
   "cell_type": "code",
   "execution_count": 18,
   "metadata": {},
   "outputs": [],
   "source": [
    "def generate_dataset_ax_2_b():\n",
    "    X = np.random.uniform(-1, 1, (2, 1))\n",
    "    X = X*X # Tạo x^2\n",
    "    Y = np.sin(np.pi * X) #Tính Y theo X\n",
    "    X = np.hstack((np.ones((2, 1)), X)) # Thêm một cột 1 vào X\n",
    "    return X, Y\n",
    "#linearRegression(X, Y).reshape(1, 2)\n",
    "def find_E_Eout_4(N = 1000):\n",
    "    g_arr = [] # Danh sách các g_d được phát sinh\n",
    "    f = [] # chứa f(x)\n",
    "    X_arr = [] # chứa x\n",
    "    Bias = 0\n",
    "    Var = 0\n",
    "    for i in range(N):\n",
    "        X, Y = generate_dataset_ax_2_b()\n",
    "        f.append([Y[0, 0],Y[1, 0]])\n",
    "        X_arr.append([X[0, 1], X[1, 1]])\n",
    "        g_arr.append(linearRegression(X, Y).reshape(1, 2))\n",
    "    g_bar = np.mean(g_arr, 0)\n",
    "    for i in range(N):\n",
    "        Bias += math.pow(g_bar[0][0]+ X_arr[i][1] * g_bar[0][1] - f[i][0], 2) #+ math.pow(g_bar[0][0] + X_arr[i][1] * g_bar[0][1]- f[i][1], 2)\n",
    "        Var += math.pow((g_arr[i][0][1] - g_bar[0][1]) * X_arr[i][0], 2) #+ math.pow((g_arr[i][0][1] - g_bar[0][1]) * X_arr[i][1], 2)\n",
    "    Bias /= (N * 2)\n",
    "    Var /= (N * 2)\n",
    "    return Bias + Var"
   ]
  },
  {
   "cell_type": "code",
   "execution_count": 19,
   "metadata": {},
   "outputs": [
    {
     "data": {
      "text/plain": [
       "0.754028287807575"
      ]
     },
     "execution_count": 19,
     "metadata": {},
     "output_type": "execute_result"
    }
   ],
   "source": [
    "find_E_Eout_0(N = 10000)"
   ]
  },
  {
   "cell_type": "code",
   "execution_count": 20,
   "metadata": {},
   "outputs": [
    {
     "data": {
      "text/plain": [
       "0.4809770866987312"
      ]
     },
     "execution_count": 20,
     "metadata": {},
     "output_type": "execute_result"
    }
   ],
   "source": [
    "find_E_Eout_1(10000)"
   ]
  },
  {
   "cell_type": "code",
   "execution_count": 21,
   "metadata": {},
   "outputs": [
    {
     "data": {
      "text/plain": [
       "1.1318032567164602"
      ]
     },
     "execution_count": 21,
     "metadata": {},
     "output_type": "execute_result"
    }
   ],
   "source": [
    "find_E_Eout_2(N = 10000)"
   ]
  },
  {
   "cell_type": "code",
   "execution_count": 22,
   "metadata": {},
   "outputs": [
    {
     "data": {
      "text/plain": [
       "0.5272416361198085"
      ]
     },
     "execution_count": 22,
     "metadata": {},
     "output_type": "execute_result"
    }
   ],
   "source": [
    "find_E_Eout_3(N = 10000)"
   ]
  },
  {
   "cell_type": "code",
   "execution_count": 23,
   "metadata": {},
   "outputs": [
    {
     "data": {
      "text/plain": [
       "0.6303702792606464"
      ]
     },
     "execution_count": 23,
     "metadata": {},
     "output_type": "execute_result"
    }
   ],
   "source": [
    "find_E_Eout_4(N = 10000)"
   ]
  },
  {
   "cell_type": "markdown",
   "metadata": {},
   "source": [
    "## 7.\n",
    "\n",
    "Chạy các hàm find_E_Eout_x(N) (với x = {0, 1, 2, 3, 4} là các hypotheses tương ứng a, b, c, d, e) với giá trị N = 10000.\n",
    "\n",
    "Ta thấy kết quả hàm find_E_Eout_1 cho ra kết quả ${E[E_{out}]\\approx0.46..}$ nhỏ nhất trong các ${E[E_{out}]}$ tìm được theo thứ tự xấp xỉ là:\n",
    "\n",
    "**0.75, 0.46, 1.14, 0.53, 0.63**.\n",
    "\n",
    "Do đó: kết quả cần tìm là ${h(x)=ax}$\n",
    "\n",
    "**Chọn [b] ${h(x)=ax}$.**\n",
    "\n",
    "---"
   ]
  },
  {
   "cell_type": "markdown",
   "metadata": {},
   "source": [
    "## Câu 8-10: VC Dimension\n"
   ]
  },
  {
   "cell_type": "markdown",
   "metadata": {},
   "source": [
    "## 8.\n",
    "Theo đề bài:\n",
    "- $m_\\mathcal{H}(1)=2$.\n",
    "- $m_\\mathcal{H}(N+1) = 2m_\\mathcal{H}(N) - \\binom{N}{q}$ với $q$ là một số nguyên cố định $\\ge1$. Để dễ nhìn hơn, ta có thể viết lại công thức này như sau: $m_\\mathcal{H}(N) = 2m_\\mathcal{H}(N-1) - \\binom{N-1}{q}$.\n",
    "\n",
    "Ta có:\n",
    "    \n",
    "${m_H(2) = 2*m_H(1) - \\binom{2 - 1}{q} = 4 - \\binom{1}{q}}$ muốn chưa break thì ${q\\gt1}$.\n",
    "\n",
    "${m_H(3) = 2*m_H(2) - \\binom{3 - 1}{q} = 8 - \\binom{2}{q}}$ muốn chưa break thì ${q\\gt2}$.\n",
    "\n",
    "${m_H(4) = 2*m_H(3) - \\binom{4-1}{q} = 16 - \\binom{3}{q}}$ muốn chưa break thì ${q\\gt3}$.\n",
    "\n",
    "...\n",
    "\n",
    "${m_H(N) = 2*m_H(N-1) - \\binom{N-1}{q} = 2^N- \\binom{N-1}{q}}$ muốn chưa break thì ${q\\gt N-1}$.\n",
    "\n",
    "Suy ra: $N \\lt q + 1 => N \\leq q$. Mà theo định nghĩa $d_{VC}$ là giá trị N lớn nhất mà sao cho vẫn ${m_H(N) = 2^N}$\n",
    "\n",
    "Do đó: $d_{VC} = q$ thỏa growth function trên.\n",
    "\n",
    "**Chọn [c] q.**\n",
    "\n",
    "---"
   ]
  },
  {
   "cell_type": "markdown",
   "metadata": {},
   "source": [
    "## 9.\n",
    "Sự giao nhau giữa các Hypothesis sets ${\\left(\\bigcap_{k = 1}^kH_k\\right)}$. Ta có thể thấy rằng, $d_{VC}$ của các H giao nhau luôn nhỏ hơn hoặc bằng ${d_{vc}}$ của mỗi H \n",
    "\n",
    "$$\n",
    "d_{VC}\\left(\\bigcap_{k = 1}^kH_k\\right) \\leq d_{VC} \\mathcal({H}_i)\n",
    "$$\n",
    "\n",
    "Ta dễ dàng thấy được, chặn trên chặt nhất (tightest bound) sẽ là $\\min\\left\\{d_{VC} \\mathcal({H}_i)\\right\\}$.\n",
    "\n",
    "Ta thấy chặn dưới là 0 khi các $H_i$ giao nhau bằng rỗng.\n",
    "\n",
    "Vì vậy, $ 0\\leq d_{VC}\\left(\\bigcap_{k = 1}^kH_k\\right) \\leq \\min\\left\\{d_{VC} \\mathcal({H}_i)\\right\\}$\n",
    "\n",
    "**Chọn [b] $ 0\\leq d_{VC}\\left(\\bigcap_{k = 1}^kH_k\\right) \\leq \\min\\left\\{d_{VC} \\mathcal({H}_i)\\right\\}$.**\n",
    "\n",
    "---"
   ]
  },
  {
   "cell_type": "markdown",
   "metadata": {},
   "source": [
    "## 10."
   ]
  }
 ],
 "metadata": {
  "kernelspec": {
   "display_name": "Python 3",
   "language": "python",
   "name": "python3"
  },
  "language_info": {
   "codemirror_mode": {
    "name": "ipython",
    "version": 3
   },
   "file_extension": ".py",
   "mimetype": "text/x-python",
   "name": "python",
   "nbconvert_exporter": "python",
   "pygments_lexer": "ipython3",
   "version": "3.7.1"
  }
 },
 "nbformat": 4,
 "nbformat_minor": 2
}
