{
 "cells": [
  {
   "cell_type": "markdown",
   "metadata": {
    "colab_type": "text",
    "id": "vzi0erHpGywX"
   },
   "source": [
    "# Hướng dẫn homework 3\n",
    "---\n",
    "- Bạn cần đọc đề bài trước khi đọc hướng dẫn.\n",
    "- Không phải tất cả các câu đều sẽ có hướng dẫn (phần hướng dẫn chủ yếu tập trung vào các câu liên quan đến lập trình).\n",
    "- Nếu vẫn có thắc mắc gì khác thì bạn có thể post lên moodle.\n",
    "- Ở markdown cell của notebook, bạn có thể gõ công thức theo latex bằng cách bọc trong `$...$` (dạng inline), hoặc `$$...$$` (ví dụ, `$\\mu$` sẽ ra $\\mu$, `$\\nu$` sẽ ra $\\nu$, `$\\lambda$` sẽ ra $\\lambda$, `$\\epsilon$` sẽ ra $\\epsilon$, ...).\n",
    "- Thay vì dùng jupyter notebook để mở hay tạo file notebook, bạn có thể jupyter lab; mình thấy giao diện của jupyter lab tiện lợi hơn jupyter notebook (bạn có thể xem phần giới thiệu về jupyter lab [ở đây](https://www.youtube.com/watch?v=ctOM-Gza04Y)). Tất nhiên, phần này là không bắt buộc.\n",
    "---"
   ]
  },
  {
   "cell_type": "markdown",
   "metadata": {
    "colab_type": "text",
    "id": "jkPqn8NaGywZ"
   },
   "source": [
    "## Câu 1-3: Generalization Error\n",
    "\n",
    "Generalization Error ám chỉ $|E_{in}(g) - E_{out}(g)|$.\n",
    "\n",
    "Dựa vào đề bài mô tả, ta cần giải bất phương trình sau (theo $N$):\n",
    "\n",
    "$2Me^{-2\\times0.05^2N} \\leq 0.03$\n",
    "\n",
    "$\\Leftrightarrow N \\geq \\dots$\n",
    "\n",
    "Ta có thể định nghĩa một hàm tính chặn dưới của $N$ theo $M$, rồi gọi hàm này nhiều lần với $M$ = 1, 10, 1000. Bạn có thấy khi độ phức tạp của tập hypothesis (được thể hiện bằng $M$) tăng thì sẽ cần nhiều dữ liệu hơn không?\n"
   ]
  },
  {
   "cell_type": "markdown",
   "metadata": {
    "colab_type": "text",
    "id": "bJGqgfO2hH5n"
   },
   "source": [
    "---\n",
    "<font color=blue>Trước khi làm các câu còn lại, bạn nên xem lại vở/slides để đảm bảo rằng bạn đã hiểu các khái niệm \"growth function\", \"break point\", \"VC dimension\". </font>\n",
    "\n",
    "---"
   ]
  },
  {
   "cell_type": "markdown",
   "metadata": {
    "colab_type": "text",
    "id": "9cVt_qZ0Gywa"
   },
   "source": [
    "## Câu 4: Break Point\n",
    "\n",
    "Bạn có thể sử dụng kết quả về $d_{VC}$ của Perceptron đã được chứng minh ở trên lớp."
   ]
  },
  {
   "cell_type": "markdown",
   "metadata": {
    "colab_type": "text",
    "id": "EswJI0uBGywc"
   },
   "source": [
    "## Câu 5: Growth Function\n",
    "\n",
    "Bạn lập luận dựa vào các kết quả đã học trên lớp:\n",
    "- Nếu $H$ không có break point thì growth function bằng $2^N$.\n",
    "- Nếu $H$ có break point $k$ thì growth function bị chặn trên bởi một đa thức theo $N$ bậc $k-1$  cố định. \n"
   ]
  },
  {
   "cell_type": "markdown",
   "metadata": {
    "colab_type": "text",
    "id": "ysn0Cc3FGywd"
   },
   "source": [
    "## Câu 6-8: Fun with Intervals\n",
    "\n",
    "**Câu 6:** \n",
    "\n",
    "Xét tập hypothesis 1-interval (positive interval) đã được học trên lớp. Tập hypothesis này sẽ không thể biểu diễn được (do đó bị break) trường hợp 2 intervals, tức 2 vùng + (ở giữa 2 vùng + là 1 vùng -). Số điểm  𝑥  nhỏ nhất để thể hiện được trường hợp này là 3: + - +. Do đó, break point (nhỏ nhất) của 1-interval là 3. \n",
    "\n",
    "Quay trở lại với tập hypothesis 2-intervals của bài này. Tập này không thể biểu diễn được trường hợp nào? Và số điểm  𝑥  nhỏ nhất để thể hiện trường hợp này là bao nhiêu?\n",
    "\n",
    "**Câu 7:** \n",
    "\n",
    "Tương tự như positive ray hay positive interval, cách đặt $N$ điểm trong không gian input một chiều để tạo ra được nhiều dichotomy nhất là đặt sao cho không có điểm nào trùng nhau. $N$ điểm sẽ chia không gian input một chiều ra thành $N + 1$ vùng.\n",
    "\n",
    "Tập hypothesis 2-intervals có thể tạo ra bao nhiêu dichotomy trên $N$ điểm này? Gợi ý: tập 2-intervals bao tập 1-interval (positive interval) đã học.\n",
    "\n",
    "**Câu 8:** Tương tự câu 6."
   ]
  },
  {
   "cell_type": "markdown",
   "metadata": {
    "colab_type": "text",
    "id": "diSdXxbUGywd"
   },
   "source": [
    "## Câu 9: The Triangle\n",
    "\n",
    "Cách đặt các điểm để tạo ra nhiều dichotomy nhất là đặt trên đường tròn (giống như convex set đã học). Bạn có thể lần lượt thử với các $N$ tăng dần và xem thử đến khi nào thì tập hypothesis triangle bị break (có ít nhất một dichotomy không thể tạo ra được). Với một giá trị $N$ cụ thể, trường hợp khó nhất có lẽ là các điểm + không liên tục nhau trên đường tròn, nếu tập hypothesis triangle vẫn có thể tạo ra được dichotomy này thì sẽ tạo ra được các dichotomy còn lại. Câu này sẽ hơi tốn thời gian vẽ hình và thử.\n"
   ]
  },
  {
   "cell_type": "markdown",
   "metadata": {
    "colab_type": "text",
    "id": "J_BUaPhoGywe"
   },
   "source": [
    "## Câu 10: Concentric Circles\n",
    "\n",
    "Mặc dù $\\textbf{x}$ trong bài này thuộc không gian 2 chiều, nhưng cái quyết định output (-1 hay 1) của $\\textbf{x}$ là một con số: khoảng cách từ $\\textbf{x}$ đến gốc tọa độ. Có giống positive interval không :-)"
   ]
  }
 ],
 "metadata": {
  "colab": {
   "collapsed_sections": [],
   "name": "HW3-Guide.ipynb",
   "provenance": [],
   "version": "0.3.2"
  },
  "kernelspec": {
   "display_name": "Python 3",
   "language": "python",
   "name": "python3"
  },
  "language_info": {
   "codemirror_mode": {
    "name": "ipython",
    "version": 3
   },
   "file_extension": ".py",
   "mimetype": "text/x-python",
   "name": "python",
   "nbconvert_exporter": "python",
   "pygments_lexer": "ipython3",
   "version": "3.6.7"
  }
 },
 "nbformat": 4,
 "nbformat_minor": 2
}
