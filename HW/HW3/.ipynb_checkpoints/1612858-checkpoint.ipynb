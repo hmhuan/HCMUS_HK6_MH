{
 "cells": [
  {
   "cell_type": "markdown",
   "metadata": {},
   "source": [
    "# Huỳnh Minh Huấn - 1612858"
   ]
  },
  {
   "cell_type": "markdown",
   "metadata": {},
   "source": [
    "## Bài tập 03"
   ]
  },
  {
   "cell_type": "markdown",
   "metadata": {},
   "source": [
    "import thư viện numpy và thư viện math"
   ]
  },
  {
   "cell_type": "code",
   "execution_count": 1,
   "metadata": {},
   "outputs": [],
   "source": [
    "import numpy as np"
   ]
  },
  {
   "cell_type": "markdown",
   "metadata": {},
   "source": [
    "## Câu 1 - 3: Generalization Error "
   ]
  },
  {
   "cell_type": "markdown",
   "metadata": {},
   "source": [
    "Hàm lowerBoundOfN(M) xác định giá trị val sao cho ${N\\geq val}$ với M tương ứng"
   ]
  },
  {
   "cell_type": "code",
   "execution_count": 2,
   "metadata": {},
   "outputs": [],
   "source": [
    "def lowerBoundOfN(M):\n",
    "    return np.log(0.03 / (2 * M)) / (-2 * 0.05* 0.05)"
   ]
  },
  {
   "cell_type": "markdown",
   "metadata": {},
   "source": [
    "Gọi hàm lowerBoundOfN với M = 1"
   ]
  },
  {
   "cell_type": "code",
   "execution_count": 3,
   "metadata": {},
   "outputs": [
    {
     "data": {
      "text/plain": [
       "839.9410155759853"
      ]
     },
     "execution_count": 3,
     "metadata": {},
     "output_type": "execute_result"
    }
   ],
   "source": [
    "lowerBoundOfN(M = 1)"
   ]
  },
  {
   "cell_type": "markdown",
   "metadata": {},
   "source": [
    "## 1.\n",
    "Khi chạy hàm lowBoundOfN(M) với giá trị M = 1, ta được kết quả ${N\\geq839.941}$ sẽ thỏa điều kiện chặn trên ${2Me^{-2*\\epsilon^2N}}$ lớn nhất là 0.03. Do đó giá trị nhỏ nhất (tối thiểu) trong các đáp án là 1000.\n",
    "\n",
    "**Chọn [b] 1000.**\n",
    "\n",
    "---"
   ]
  },
  {
   "cell_type": "markdown",
   "metadata": {},
   "source": [
    "Gọi hàm lowerBoundOfN với M = 10"
   ]
  },
  {
   "cell_type": "code",
   "execution_count": 4,
   "metadata": {},
   "outputs": [
    {
     "data": {
      "text/plain": [
       "1300.4580341747942"
      ]
     },
     "execution_count": 4,
     "metadata": {},
     "output_type": "execute_result"
    }
   ],
   "source": [
    "lowerBoundOfN(M = 10)"
   ]
  },
  {
   "cell_type": "markdown",
   "metadata": {},
   "source": [
    "## 2.\n",
    "Khi chạy hàm lowBoundOfN(M) với giá trị M = 1, ta được kết quả ${N\\geq1300.458}$ sẽ thỏa điều kiện chặn trên ${2Me^{-2*\\epsilon^2N}}$ lớn nhất là 0.03. Do đó giá trị nhỏ nhất (tối thiểu) trong các đáp án là 1500.\n",
    "\n",
    "**Chọn [c] 1500.**\n",
    "\n",
    "---"
   ]
  },
  {
   "cell_type": "markdown",
   "metadata": {},
   "source": [
    "Gọi hàm lowerBoundOfN với M = 100"
   ]
  },
  {
   "cell_type": "code",
   "execution_count": 5,
   "metadata": {},
   "outputs": [
    {
     "data": {
      "text/plain": [
       "1760.9750527736032"
      ]
     },
     "execution_count": 5,
     "metadata": {},
     "output_type": "execute_result"
    }
   ],
   "source": [
    "lowerBoundOfN(M = 100)"
   ]
  },
  {
   "cell_type": "markdown",
   "metadata": {},
   "source": [
    "## 3.\n",
    "Khi chạy hàm lowBoundOfN(M) với giá trị M = 1, ta được kết quả ${N\\geq1760.975}$ sẽ thỏa điều kiện chặn trên ${2Me^{-2*\\epsilon^2N}}$ lớn nhất là 0.03. Do đó giá trị nhỏ nhất (tối thiểu) trong các đáp án là 2000.\n",
    "\n",
    "**Chọn [d] 2000.**\n",
    "\n",
    "---"
   ]
  },
  {
   "cell_type": "markdown",
   "metadata": {},
   "source": [
    "## Câu 4: Break Point"
   ]
  },
  {
   "cell_type": "markdown",
   "metadata": {},
   "source": [
    "## 4.\n",
    "Như đã học ở tuần 8 The VC dimension. Ta có: ${d_{VC}(H) = k_{smallest} - 1}$ (${k_{smallest}}$ là giá trị breakpoint nhỏ nhất của H).\n",
    "\n",
    "Ta lại có, ${d_{VC}}$ của d-D perceptron là ${d_{VC} = d + 1}$ (d là số chiều).\n",
    "\n",
    "Yêu cầu ở đây là tìm breakpoint k nhỏ nhất của mô hình perceptron trong không gian ${R^3}$. Khi đó: ${d_{VC} = d + 1 = 3 + 1 = 4}$.\n",
    "\n",
    "Suy ra: ${k_{smallest} - 1 = d_{VC} = 4 \\Leftrightarrow k_{smallest} = 5}$.\n",
    "\n",
    "**Chọn [b] 5.** \n",
    "\n",
    "---"
   ]
  },
  {
   "cell_type": "markdown",
   "metadata": {},
   "source": [
    "## Câu 5: Growth Function"
   ]
  },
  {
   "cell_type": "markdown",
   "metadata": {},
   "source": [
    "## 5.\n",
    "Các công thức có thể của 1 growth function ${m_H(N)}$\n",
    "\n",
    "i - là growth function trong ví dụ về ray set\n",
    "\n",
    "ii - là growth function trong ví dụ về interval set\n",
    "\n",
    "v - là growth function trong trường hợp convexset (không tìm được break point k = vô cùng) nên ${m_H(N)=2^N}$\n",
    "\n",
    "**Chọn [b] i, ii, v.**\n",
    "\n",
    "---"
   ]
  },
  {
   "cell_type": "markdown",
   "metadata": {},
   "source": [
    "## Câu 6 - 8: Fun with Intervals"
   ]
  },
  {
   "cell_type": "markdown",
   "metadata": {},
   "source": [
    "## 6. \n",
    "Với dichotomy này sẽ dẫn đến breakpoint: + - + - + (2 interval không thể thỏa mãn dichotomy).\n",
    "\n",
    "Do đó, breakpoint (nhỏ nhất) của 2-interval là 5\n",
    " \n",
    " **Chọn [c] 5.**\n",
    " \n",
    " ---\n"
   ]
  },
  {
   "cell_type": "markdown",
   "metadata": {},
   "source": [
    "## 7.\n",
    "2-interval sẽ có 3 trường họp xảy ra \n",
    "- TH1: 2 interval không giao nhau (non-overlaping): cần tìm 4 trong (N + 1) vùng => ${{N + 1}\\choose{4}}$.\n",
    "- TH2: 2 interval overlaping thì trở về 1-interval: cần tìm 2 điểm trong (N + 1) vùng => ${{N + 1}\\choose{2}}$.\n",
    "- TH3: trường hợp đặc biệt khi toàn bộ N data point đều là -1: 1.\n",
    "\n",
    "Do đó: ${m_H(N) = {{N + 1}\\choose{4}} + {{N + 1}\\choose{2}} + 1}$.\n",
    "\n",
    "**Chọn [c] ${{{N + 1}\\choose{4}} + {{N + 1}\\choose{2}} + 1}$.**\n",
    "\n",
    "---"
   ]
  },
  {
   "cell_type": "markdown",
   "metadata": {},
   "source": [
    "## 8. \n",
    "Dự đoán breakpoint (nhỏ nhất) của M-interval là: 2M + 1 (Vì 1-interval cần ít nhất 3, 2-interval cần ít nhất 5 chứng minh trong bài học và ở trên câu 6).\n",
    "\n",
    "Ta cần tìm dichotomy sao cho phải dùng M+1 intervals đặt vào thì mới thỏa yêu cầu bài toán positive interval (bên trong interval dương), khi đó M-interval sẽ có breakpoint k.\n",
    "\n",
    "- Với M-intervals learning model, ta có thể có tối đa M intervals \"+1 +1 .. +1\" và do là tìm breakpoint k nhỏ nhất nên mỗi intervals ta xét sẽ chỉ cần chứa 1 \"+1\". Ta chọn dichotomy sao cho chứa M + 1 intervals \"+1\": **M + 1** points (mục đích là tạo dichotomy có **M+1 intervals - không thể dùng M interval để thỏa yêu cầu đặt được M+1 interval** sẽ dẫn đến breakpoint nhỏ nhất của M-interval).\n",
    "- Giữa 2 interval bất kỳ trong M intervals này ta chỉ cần 1 điểm có giá trị -1 để ngăn cách (separate) vì ta đang cần tìm k breakpoint nhỏ nhất (từ đó ta sẽ tạo thành dichotomy có M+1 intervals sẽ dẫn đến breakpoint của M-interval): **M** points. \n",
    "\n",
    "Suy ra dichotomy sẽ có dạng + - + - + ... - + (M + 1 points \"+\" - tức \"+1\" và M points \"-\" - tức \"-1\").\n",
    "\n",
    "Do đó, breakpoint k nhỏ nhất là **2M + 1**.\n",
    "\n",
    "**Chọn [d] 2M + 1.**\n",
    "\n",
    "---"
   ]
  },
  {
   "cell_type": "markdown",
   "metadata": {},
   "source": [
    "## Câu 9: Convex Sets: The Triangle"
   ]
  },
  {
   "cell_type": "markdown",
   "metadata": {},
   "source": [
    "## 9. \n",
    "Với các giá trị N = 1, N = 3, N = 5 ta nhận thấy rằng các tập hypothesis set đều không bị break (không tồm tại dichotomy mà không thỏa \"triangle\" learning model). \n",
    "\n",
    "Xét với N = 7, trường hợp xấu nhất sẽ là + - + - + - + (đặt trên đường tròn bao quanh convex set) - số điểm + nhiều hơn và xen kẻ điểm -. Ta vẫn có thể tìm được \"triangle\" thỏa yêu cầu nên N = 7 chưa phải là breakpoint. (minh họa hình vẽ)\n",
    "\n",
    "Xét với N = 9, trường hợp xấu sẽ là + - + - + - + - +. Thực ra, với N = 8, trường hợp xấu nhất + - + - + - + - là ta đã không thể tìm được \"triangle\" thỏa yêu cầu (không thể vẽ tam giác bao cả 4 điểm + như dichotomy trên) nên breakpoint nhỏ nhất của \"triangle\" là 8, do vậy N = 9 cũng là breakpoint.\n",
    "\n",
    "**Chọn [d] 7.**\n",
    "\n",
    "### Em có gửi thêm hình minh họa nén chung với notebook\n",
    "\n",
    "---"
   ]
  },
  {
   "cell_type": "markdown",
   "metadata": {},
   "source": [
    "## Câu 10: Non-Convex Sets: Concentric Circles"
   ]
  },
  {
   "cell_type": "markdown",
   "metadata": {},
   "source": [
    "## 10. \n",
    "\n",
    "Ta thấy ${x_1^2 + x_2^2}$ là bình phương bán kính (khoảng cách từ tâm của 2 đường tròn đồng tâm đến vị trí của điểm đó) của đường tròn đồng tâm với 2 đường trong ban đầu (C, a), (C, b) (giả sử tâm C bất kỳ). Mà theo đề bài thì giá trị khoảng cách đó nếu thuộc khoảng a < dx < b (ký hiệu dx = ${\\sqrt{x_1^2 + x_2^2}}$) sẽ cho output là +1, ngược lại là -1, tương tự giống với positive interval - chọn khoảng sao cho trong khoảng cho output là +1 và ngoài khoảng là -1.\n",
    "\n",
    "Do đó, ta có ${{N + 1}\\choose{2}}$ cách chọn 2 vùng trong (N + 1) vùng để đặt interval cũng giống như cách chọn 2 bán kính của 2 đường tròn (C, a) và (C, b) - tức là cạch chọn 2 giá trị a, b - sao cho thỏa learning model. \n",
    "\n",
    "Và trường hợp a = b (2 đường tròn có cùng bán kính chính là trường hợp 1-interval có N data đều là -1): 1.\n",
    "\n",
    "Vậy, ta sẽ có kết quả tương tự positive 1-interval: ${{N + 1}\\choose{2}} + 1$.\n",
    "\n",
    "**Chọn [b] ${{N + 1}\\choose{2}} + 1$.**"
   ]
  }
 ],
 "metadata": {
  "kernelspec": {
   "display_name": "Python 3",
   "language": "python",
   "name": "python3"
  },
  "language_info": {
   "codemirror_mode": {
    "name": "ipython",
    "version": 3
   },
   "file_extension": ".py",
   "mimetype": "text/x-python",
   "name": "python",
   "nbconvert_exporter": "python",
   "pygments_lexer": "ipython3",
   "version": "3.7.1"
  }
 },
 "nbformat": 4,
 "nbformat_minor": 2
}
