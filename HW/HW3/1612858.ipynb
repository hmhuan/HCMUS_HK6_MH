{
 "cells": [
  {
   "cell_type": "markdown",
   "metadata": {},
   "source": [
    "# Huỳnh Minh Huấn - 1612858"
   ]
  },
  {
   "cell_type": "markdown",
   "metadata": {},
   "source": [
    "## Bài tập 03"
   ]
  },
  {
   "cell_type": "code",
   "execution_count": 4,
   "metadata": {},
   "outputs": [],
   "source": [
    "import numpy as np\n",
    "import math"
   ]
  },
  {
   "cell_type": "markdown",
   "metadata": {},
   "source": [
    "## 1.\n",
    "\n",
    "**Chọn [d] 500.**\n",
    "\n",
    "---"
   ]
  },
  {
   "cell_type": "code",
   "execution_count": 11,
   "metadata": {},
   "outputs": [
    {
     "name": "stdout",
     "output_type": "stream",
     "text": [
      "Wall time: 0 ns\n"
     ]
    },
    {
     "data": {
      "text/plain": [
       "0.1641699972477976"
      ]
     },
     "execution_count": 11,
     "metadata": {},
     "output_type": "execute_result"
    }
   ],
   "source": [
    "def boundaryOfHoeffding(N, M, ep):\n",
    "    return 2 * M * np.exp(-2 * N * ep * ep)\n",
    "%time boundaryOfHoeffding(500, 1, 0.05)"
   ]
  },
  {
   "cell_type": "code",
   "execution_count": 16,
   "metadata": {},
   "outputs": [
    {
     "name": "stdout",
     "output_type": "stream",
     "text": [
      "0.1641699972477976\n",
      "0.013475893998170934\n",
      "0.0011061687402956673\n",
      "9.079985952496971e-05\n"
     ]
    }
   ],
   "source": [
    "print(boundaryOfHoeffding(500, 1, 0.05))\n",
    "print(boundaryOfHoeffding(1000, 1, 0.05))\n",
    "print(boundaryOfHoeffding(1500, 1, 0.05))\n",
    "print(boundaryOfHoeffding(2000, 1, 0.05))"
   ]
  },
  {
   "cell_type": "markdown",
   "metadata": {},
   "source": [
    "## 2.\n",
    "\n",
    "**Chọn [d] 1500.**\n",
    "\n",
    "---"
   ]
  },
  {
   "cell_type": "code",
   "execution_count": 18,
   "metadata": {},
   "outputs": [
    {
     "name": "stdout",
     "output_type": "stream",
     "text": [
      "1.641699972477976\n",
      "0.13475893998170935\n",
      "0.011061687402956672\n",
      "0.0009079985952496971\n"
     ]
    }
   ],
   "source": [
    "print(boundaryOfHoeffding(500, 10, 0.05))\n",
    "print(boundaryOfHoeffding(1000, 10, 0.05))\n",
    "print(boundaryOfHoeffding(1500, 10, 0.05))\n",
    "print(boundaryOfHoeffding(2000, 10, 0.05))"
   ]
  },
  {
   "cell_type": "markdown",
   "metadata": {},
   "source": [
    "## 3.\n",
    "\n",
    "**Chọn [d] 2000.**\n",
    "\n",
    "---"
   ]
  },
  {
   "cell_type": "code",
   "execution_count": 20,
   "metadata": {},
   "outputs": [
    {
     "name": "stdout",
     "output_type": "stream",
     "text": [
      "16.41699972477976\n",
      "1.3475893998170934\n",
      "0.11061687402956673\n",
      "0.00907998595249697\n"
     ]
    }
   ],
   "source": [
    "print(boundaryOfHoeffding(500, 100, 0.05))\n",
    "print(boundaryOfHoeffding(1000, 100, 0.05))\n",
    "print(boundaryOfHoeffding(1500, 100, 0.05))\n",
    "print(boundaryOfHoeffding(2000, 100, 0.05))"
   ]
  },
  {
   "cell_type": "markdown",
   "metadata": {},
   "source": [
    "## 4."
   ]
  },
  {
   "cell_type": "markdown",
   "metadata": {},
   "source": [
    "## 5. \n",
    "\n",
    "i - là growth function trong ví dụ về ray set\n",
    "ii - là growth function trong ví dụ về interval set\n",
    "v - là growth function trong trường hợp convexset (không tìm được break point k = vô cùng) \n",
    "**Chọn [b] i, ii, v.**\n",
    "\n",
    "---"
   ]
  },
  {
   "cell_type": "code",
   "execution_count": null,
   "metadata": {},
   "outputs": [],
   "source": []
  }
 ],
 "metadata": {
  "kernelspec": {
   "display_name": "Python 3",
   "language": "python",
   "name": "python3"
  },
  "language_info": {
   "codemirror_mode": {
    "name": "ipython",
    "version": 3
   },
   "file_extension": ".py",
   "mimetype": "text/x-python",
   "name": "python",
   "nbconvert_exporter": "python",
   "pygments_lexer": "ipython3",
   "version": "3.7.1"
  }
 },
 "nbformat": 4,
 "nbformat_minor": 2
}
