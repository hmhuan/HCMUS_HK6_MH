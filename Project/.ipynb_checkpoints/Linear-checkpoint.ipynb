{
 "cells": [
  {
   "cell_type": "code",
   "execution_count": 1,
   "metadata": {},
   "outputs": [],
   "source": [
    "import numpy as np\n",
    "import pickle\n",
    "import gzip"
   ]
  },
  {
   "cell_type": "code",
   "execution_count": 2,
   "metadata": {},
   "outputs": [],
   "source": [
    "import matplotlib.pyplot as plt"
   ]
  },
  {
   "cell_type": "code",
   "execution_count": 3,
   "metadata": {},
   "outputs": [
    {
     "name": "stdout",
     "output_type": "stream",
     "text": [
      "Wall time: 811 ms\n"
     ]
    }
   ],
   "source": [
    "def read_mnist(mnist_file):\n",
    "    \"\"\"\n",
    "    Reads MNIST data.\n",
    "    \n",
    "    Parameters\n",
    "    ----------\n",
    "    mnist_file : string\n",
    "        The name of the MNIST file (e.g., 'mnist.pkl.gz').\n",
    "    \n",
    "    Returns\n",
    "    -------\n",
    "    (train_X, train_Y, val_X, val_Y, test_X, test_Y) : tuple\n",
    "        train_X : numpy array, shape (N=50000, d=784)\n",
    "            Input vectors of the training set.\n",
    "        train_Y: numpy array, shape (N=50000)\n",
    "            Outputs of the training set.\n",
    "        val_X : numpy array, shape (N=10000, d=784)\n",
    "            Input vectors of the validation set.\n",
    "        val_Y: numpy array, shape (N=10000)\n",
    "            Outputs of the validation set.\n",
    "        test_X : numpy array, shape (N=10000, d=784)\n",
    "            Input vectors of the test set.\n",
    "        test_Y: numpy array, shape (N=10000)\n",
    "            Outputs of the test set.\n",
    "    \"\"\"\n",
    "    f = gzip.open(mnist_file, 'rb')\n",
    "    train_data, val_data, test_data = pickle.load(f, encoding='latin1')\n",
    "    f.close()\n",
    "    \n",
    "    train_X, train_Y = train_data\n",
    "    val_X, val_Y = val_data\n",
    "    test_X, test_Y = test_data    \n",
    "    \n",
    "    return train_X, train_Y, val_X, val_Y, test_X, test_Y\n",
    "\n",
    "%time train_X, train_Y, val_X, val_Y, test_X, test_Y = read_mnist('mnist.pkl.gz')"
   ]
  },
  {
   "cell_type": "code",
   "execution_count": 4,
   "metadata": {},
   "outputs": [],
   "source": [
    "from sklearn.svm import LinearSVC\n",
    "from sklearn.svm import SVC"
   ]
  },
  {
   "cell_type": "code",
   "execution_count": 5,
   "metadata": {},
   "outputs": [],
   "source": [
    "def run_SVC_linear_kernel(train_X, train_Y, val_X, val_Y, c):\n",
    "    \"\"\"\n",
    "    \"\"\"\n",
    "    clf = SVC(kernel = 'linear', C = c)\n",
    "    print(\"Training...\")\n",
    "    %time clf.fit(train_X, train_Y)\n",
    "    training_score = clf.score(train_X, train_Y)\n",
    "    validation_score = clf.score(val_X, val_Y)\n",
    "    err_train = 1 - training_score\n",
    "    err_val = 1 - validation_score\n",
    "    print(\"training score: \", training_score)\n",
    "    print(\"validation score: \", validation_score)\n",
    "    return (err_train, err_val)"
   ]
  },
  {
   "cell_type": "code",
   "execution_count": 7,
   "metadata": {},
   "outputs": [],
   "source": [
    "def run_SVM_SVC_linear_kernel(C):\n",
    "    \"\"\"\n",
    "    \"\"\"\n",
    "    err_vals = []\n",
    "    err_trains = []\n",
    "    err_val, err_train = 0, 0\n",
    "    for c in C:\n",
    "        print(\"C = \", c)\n",
    "        (err_val, err_train) = run_SVC_linear_kernel(train_X, train_Y, val_X, val_Y, c)\n",
    "        print(\"Training Error: \", err_train)\n",
    "        print(\"Validation Error: \", err_val)\n",
    "        err_vals.append(err_val)\n",
    "        err_trains.append(err_train)\n",
    "    return err_vals, err_trains"
   ]
  },
  {
   "cell_type": "code",
   "execution_count": null,
   "metadata": {},
   "outputs": [
    {
     "name": "stdout",
     "output_type": "stream",
     "text": [
      "C =  0.01\n",
      "Training...\n",
      "Wall time: 5min 59s\n",
      "training score:  0.94406\n",
      "validation score:  0.9437\n",
      "Training Error:  0.05630000000000002\n",
      "Validation Error:  0.05593999999999999\n",
      "C =  0.05\n",
      "Training...\n",
      "Wall time: 4min 27s\n",
      "training score:  0.95424\n",
      "validation score:  0.948\n",
      "Training Error:  0.052000000000000046\n",
      "Validation Error:  0.04576000000000002\n",
      "C =  0.1\n",
      "Training...\n",
      "Wall time: 5min 51s\n",
      "training score:  0.95812\n",
      "validation score:  0.9481\n",
      "Training Error:  0.051899999999999946\n",
      "Validation Error:  0.04188000000000003\n",
      "C =  0.2\n",
      "Training...\n",
      "Wall time: 4min 42s\n",
      "training score:  0.96248\n",
      "validation score:  0.9463\n",
      "Training Error:  0.05369999999999997\n",
      "Validation Error:  0.03752\n",
      "C =  0.5\n",
      "Training...\n",
      "Wall time: 4min 37s\n",
      "training score:  0.96854\n",
      "validation score:  0.9445\n",
      "Training Error:  0.055499999999999994\n",
      "Validation Error:  0.031460000000000043\n",
      "C =  1\n",
      "Training...\n"
     ]
    }
   ],
   "source": [
    "C = [0.01, 0.05, 0.1, 0.2, 0.5, 1, 10, 100, 1000]\n",
    "err_vals, err_trains = run_SVM_SVC_linear_kernel(C)"
   ]
  },
  {
   "cell_type": "code",
   "execution_count": 36,
   "metadata": {},
   "outputs": [],
   "source": [
    "def run_linear_kernel(train_X, train_Y, val_X, val_Y, c, max_iter):\n",
    "    \"\"\"\n",
    "    \"\"\"\n",
    "    clf = LinearSVC(C = c, max_iter = max_iter, loss = 'hinge')\n",
    "    print(\"Training...\")\n",
    "    %time clf.fit(train_X, train_Y)\n",
    "    training_score = clf.score(train_X, train_Y)\n",
    "    validation_score = clf.score(val_X, val_Y)\n",
    "    err_train = 1 - training_score\n",
    "    err_val = 1 - validation_score\n",
    "    print(\"training score: \", training_score)\n",
    "    print(\"validation score: \", validation_score)\n",
    "    #test\n",
    "    \"\"\"train_pred = clf.predict(train_X)\n",
    "    print(train_pred.shape[0])\n",
    "    train_subs = train_pred - train_Y\n",
    "    val_pred = clf.predict(val_X)\n",
    "    print(val_pred.shape[0])\n",
    "    val_subs = val_pred - val_Y\n",
    "    err_train = np.count_nonzero(train_subs) / train_subs.shape[0] #mean_absolute_error(train_Y, train_pred)\n",
    "    err_val = np.count_nonzero(val_subs) / val_subs.shape[0] #mean_absolute_error(val_Y, val_pred)\"\"\"\n",
    "    \n",
    "    print(\"Error training set: \", err_train)\n",
    "    print(\"Error validation set: \", err_val)\n",
    "    return (err_train, err_val)"
   ]
  },
  {
   "cell_type": "code",
   "execution_count": 38,
   "metadata": {},
   "outputs": [
    {
     "name": "stdout",
     "output_type": "stream",
     "text": [
      "Training...\n"
     ]
    },
    {
     "name": "stderr",
     "output_type": "stream",
     "text": [
      "C:\\Users\\CPU12039-local\\Anaconda3\\lib\\site-packages\\sklearn\\svm\\base.py:931: ConvergenceWarning: Liblinear failed to converge, increase the number of iterations.\n",
      "  \"the number of iterations.\", ConvergenceWarning)\n"
     ]
    },
    {
     "name": "stdout",
     "output_type": "stream",
     "text": [
      "Wall time: 1min 33s\n",
      "training score:  0.87512\n",
      "validation score:  0.8696\n",
      "Error training set:  0.12487999999999999\n",
      "Error validation set:  0.13039999999999996\n"
     ]
    },
    {
     "data": {
      "text/plain": [
       "(0.12487999999999999, 0.13039999999999996)"
      ]
     },
     "execution_count": 38,
     "metadata": {},
     "output_type": "execute_result"
    }
   ],
   "source": [
    "run_linear_kernel(train_X, train_Y, val_X, val_Y, 100, 1000)"
   ]
  },
  {
   "cell_type": "code",
   "execution_count": 7,
   "metadata": {},
   "outputs": [],
   "source": [
    "def run_SVM_linear_kernel(C, max_iter):\n",
    "    \"\"\"\n",
    "    \"\"\"\n",
    "    err_vals = []\n",
    "    err_trains = []\n",
    "    err_val, err_train = 0, 0\n",
    "    for c in C:\n",
    "        print(\"C = \", c)\n",
    "        (err_train, err_val) = run_linear_kernel(train_X, train_Y, val_X, val_Y, c, max_iter)\n",
    "        #print(\"Training Error: \", err_train)\n",
    "        #print(\"Validation Error: \", err_val)\n",
    "        err_vals.append(err_val)\n",
    "        err_trains.append(err_train)\n",
    "    return err_vals, err_trains"
   ]
  },
  {
   "cell_type": "code",
   "execution_count": null,
   "metadata": {},
   "outputs": [
    {
     "name": "stdout",
     "output_type": "stream",
     "text": [
      "C =  0.1\n",
      "Training...\n",
      "Wall time: 10.7 s\n",
      "training score:  0.92434\n",
      "validation score:  0.9248\n",
      "Error training set:  0.07565999999999995\n",
      "Error validation set:  0.07520000000000004\n",
      "Training Error:  0.07520000000000004\n",
      "Validation Error:  0.07565999999999995\n",
      "C =  1\n",
      "Training...\n",
      "Wall time: 2min 8s\n",
      "training score:  0.92954\n",
      "validation score:  0.9253\n",
      "Error training set:  0.07045999999999997\n",
      "Error validation set:  0.07469999999999999\n",
      "Training Error:  0.07469999999999999\n",
      "Validation Error:  0.07045999999999997\n",
      "C =  10\n",
      "Training...\n"
     ]
    },
    {
     "name": "stderr",
     "output_type": "stream",
     "text": [
      "C:\\Users\\CPU12039-local\\Anaconda3\\lib\\site-packages\\sklearn\\svm\\base.py:931: ConvergenceWarning: Liblinear failed to converge, increase the number of iterations.\n",
      "  \"the number of iterations.\", ConvergenceWarning)\n"
     ]
    },
    {
     "name": "stdout",
     "output_type": "stream",
     "text": [
      "Wall time: 27min 59s\n",
      "training score:  0.93122\n",
      "validation score:  0.9243\n",
      "Error training set:  0.06877999999999995\n",
      "Error validation set:  0.07569999999999999\n",
      "Training Error:  0.07569999999999999\n",
      "Validation Error:  0.06877999999999995\n",
      "C =  100\n",
      "Training...\n"
     ]
    },
    {
     "name": "stderr",
     "output_type": "stream",
     "text": [
      "C:\\Users\\CPU12039-local\\Anaconda3\\lib\\site-packages\\sklearn\\svm\\base.py:931: ConvergenceWarning: Liblinear failed to converge, increase the number of iterations.\n",
      "  \"the number of iterations.\", ConvergenceWarning)\n"
     ]
    },
    {
     "name": "stdout",
     "output_type": "stream",
     "text": [
      "Wall time: 44min 3s\n",
      "training score:  0.9322\n",
      "validation score:  0.9244\n",
      "Error training set:  0.06779999999999997\n",
      "Error validation set:  0.0756\n",
      "Training Error:  0.0756\n",
      "Validation Error:  0.06779999999999997\n",
      "C =  1000\n",
      "Training...\n"
     ]
    }
   ],
   "source": [
    "C = [0.1, 1, 10, 100, 1000]\n",
    "max_iter = 1000000\n",
    "err_vals, err_trains = run_SVM_linear_kernel(C, max_iter)"
   ]
  },
  {
   "cell_type": "code",
   "execution_count": 7,
   "metadata": {},
   "outputs": [
    {
     "name": "stdout",
     "output_type": "stream",
     "text": [
      "C =  0.01\n",
      "Training...\n",
      "Wall time: 3.38 s\n",
      "training score:  0.91418\n",
      "validation score:  0.9218\n",
      "Training Error:  0.07820000000000005\n",
      "Validation Error:  0.08582000000000001\n",
      "C =  0.05\n",
      "Training...\n"
     ]
    },
    {
     "name": "stderr",
     "output_type": "stream",
     "text": [
      "C:\\Users\\CPU12039-local\\Anaconda3\\lib\\site-packages\\sklearn\\svm\\base.py:931: ConvergenceWarning: Liblinear failed to converge, increase the number of iterations.\n",
      "  \"the number of iterations.\", ConvergenceWarning)\n"
     ]
    },
    {
     "name": "stdout",
     "output_type": "stream",
     "text": [
      "Wall time: 3.54 s\n",
      "training score:  0.92198\n",
      "validation score:  0.9249\n",
      "Training Error:  0.07509999999999994\n",
      "Validation Error:  0.07801999999999998\n",
      "C =  0.1\n",
      "Training...\n"
     ]
    },
    {
     "name": "stderr",
     "output_type": "stream",
     "text": [
      "C:\\Users\\CPU12039-local\\Anaconda3\\lib\\site-packages\\sklearn\\svm\\base.py:931: ConvergenceWarning: Liblinear failed to converge, increase the number of iterations.\n",
      "  \"the number of iterations.\", ConvergenceWarning)\n"
     ]
    },
    {
     "name": "stdout",
     "output_type": "stream",
     "text": [
      "Wall time: 4.71 s\n",
      "training score:  0.92432\n",
      "validation score:  0.925\n",
      "Training Error:  0.07499999999999996\n",
      "Validation Error:  0.07567999999999997\n",
      "C =  0.2\n",
      "Training...\n"
     ]
    },
    {
     "name": "stderr",
     "output_type": "stream",
     "text": [
      "C:\\Users\\CPU12039-local\\Anaconda3\\lib\\site-packages\\sklearn\\svm\\base.py:931: ConvergenceWarning: Liblinear failed to converge, increase the number of iterations.\n",
      "  \"the number of iterations.\", ConvergenceWarning)\n"
     ]
    },
    {
     "name": "stdout",
     "output_type": "stream",
     "text": [
      "Wall time: 6.67 s\n",
      "training score:  0.9261\n",
      "validation score:  0.9245\n",
      "Training Error:  0.07550000000000001\n",
      "Validation Error:  0.07389999999999997\n",
      "C =  0.5\n",
      "Training...\n"
     ]
    },
    {
     "name": "stderr",
     "output_type": "stream",
     "text": [
      "C:\\Users\\CPU12039-local\\Anaconda3\\lib\\site-packages\\sklearn\\svm\\base.py:931: ConvergenceWarning: Liblinear failed to converge, increase the number of iterations.\n",
      "  \"the number of iterations.\", ConvergenceWarning)\n"
     ]
    },
    {
     "name": "stdout",
     "output_type": "stream",
     "text": [
      "Wall time: 11.3 s\n",
      "training score:  0.9279\n",
      "validation score:  0.9251\n",
      "Training Error:  0.07489999999999997\n",
      "Validation Error:  0.07210000000000005\n",
      "C =  1\n",
      "Training...\n"
     ]
    },
    {
     "name": "stderr",
     "output_type": "stream",
     "text": [
      "C:\\Users\\CPU12039-local\\Anaconda3\\lib\\site-packages\\sklearn\\svm\\base.py:931: ConvergenceWarning: Liblinear failed to converge, increase the number of iterations.\n",
      "  \"the number of iterations.\", ConvergenceWarning)\n"
     ]
    },
    {
     "name": "stdout",
     "output_type": "stream",
     "text": [
      "Wall time: 18 s\n",
      "training score:  0.92944\n",
      "validation score:  0.9248\n",
      "Training Error:  0.07520000000000004\n",
      "Validation Error:  0.07055999999999996\n",
      "C =  10\n",
      "Training...\n"
     ]
    },
    {
     "name": "stderr",
     "output_type": "stream",
     "text": [
      "C:\\Users\\CPU12039-local\\Anaconda3\\lib\\site-packages\\sklearn\\svm\\base.py:931: ConvergenceWarning: Liblinear failed to converge, increase the number of iterations.\n",
      "  \"the number of iterations.\", ConvergenceWarning)\n"
     ]
    },
    {
     "name": "stdout",
     "output_type": "stream",
     "text": [
      "Wall time: 1min 11s\n",
      "training score:  0.92866\n",
      "validation score:  0.922\n",
      "Training Error:  0.07799999999999996\n",
      "Validation Error:  0.07133999999999996\n",
      "C =  100\n",
      "Training...\n"
     ]
    },
    {
     "name": "stderr",
     "output_type": "stream",
     "text": [
      "C:\\Users\\CPU12039-local\\Anaconda3\\lib\\site-packages\\sklearn\\svm\\base.py:931: ConvergenceWarning: Liblinear failed to converge, increase the number of iterations.\n",
      "  \"the number of iterations.\", ConvergenceWarning)\n"
     ]
    },
    {
     "name": "stdout",
     "output_type": "stream",
     "text": [
      "Wall time: 1min 48s\n",
      "training score:  0.86242\n",
      "validation score:  0.8557\n",
      "Training Error:  0.14429999999999998\n",
      "Validation Error:  0.13758000000000004\n",
      "C =  1000\n",
      "Training...\n"
     ]
    },
    {
     "name": "stderr",
     "output_type": "stream",
     "text": [
      "C:\\Users\\CPU12039-local\\Anaconda3\\lib\\site-packages\\sklearn\\svm\\base.py:931: ConvergenceWarning: Liblinear failed to converge, increase the number of iterations.\n",
      "  \"the number of iterations.\", ConvergenceWarning)\n"
     ]
    },
    {
     "name": "stdout",
     "output_type": "stream",
     "text": [
      "Wall time: 1min 46s\n",
      "training score:  0.88506\n",
      "validation score:  0.8812\n",
      "Training Error:  0.11880000000000002\n",
      "Validation Error:  0.11494000000000004\n"
     ]
    }
   ],
   "source": [
    "C = [0.01, 0.05, 0.1, 0.2, 0.5, 1, 10, 100, 10.000]\n",
    "max_iter = 1000\n",
    "err_vals, err_trains = run_SVM_linear_kernel(C, max_iter)"
   ]
  },
  {
   "cell_type": "code",
   "execution_count": 8,
   "metadata": {},
   "outputs": [
    {
     "name": "stdout",
     "output_type": "stream",
     "text": [
      "[0.07820000000000005, 0.07509999999999994, 0.07499999999999996, 0.07550000000000001, 0.07489999999999997, 0.07520000000000004, 0.07799999999999996, 0.14429999999999998, 0.11880000000000002]\n",
      "[0.08582000000000001, 0.07801999999999998, 0.07567999999999997, 0.07389999999999997, 0.07210000000000005, 0.07055999999999996, 0.07133999999999996, 0.13758000000000004, 0.11494000000000004]\n"
     ]
    }
   ],
   "source": [
    "print(err_trains)\n",
    "print(err_vals)"
   ]
  },
  {
   "cell_type": "code",
   "execution_count": 16,
   "metadata": {},
   "outputs": [
    {
     "name": "stdout",
     "output_type": "stream",
     "text": [
      "Best validation score: \n",
      "C = 1\n",
      "Training score = 0.9248\n",
      "Validation score = 0.92944\n"
     ]
    },
    {
     "data": {
      "image/png": "[encoded data removed]",
      "text/plain": [
       "<Figure size 432x288 with 1 Axes>"
      ]
     },
     "metadata": {
      "needs_background": "light"
     },
     "output_type": "display_data"
    }
   ],
   "source": [
    "def plot_score(C, err_trains, err_vals):\n",
    "    score_trains = 1 - np.array(err_trains)\n",
    "    score_vals = 1 - np.array(err_vals)\n",
    "    plt.plot(C, score_trains, color='r', label='training score')\n",
    "    plt.plot(C, score_vals, color='g', label='validation score')\n",
    "    plt.xlabel('C', fontsize=18)\n",
    "    plt.legend()\n",
    "    id = np.argmax(score_vals)\n",
    "    print(\"Best validation score: \")\n",
    "    print(\"C = %s\\nTraining score = %s\\nValidation score = %s\" %(C[id], score_trains[id], score_vals[id]))\n",
    "plot_score(C, err_trains, err_vals)"
   ]
  },
  {
   "cell_type": "code",
   "execution_count": 17,
   "metadata": {},
   "outputs": [
    {
     "name": "stdout",
     "output_type": "stream",
     "text": [
      "C =  0.1\n",
      "Training...\n"
     ]
    },
    {
     "name": "stderr",
     "output_type": "stream",
     "text": [
      "C:\\Users\\CPU12039-local\\Anaconda3\\lib\\site-packages\\sklearn\\svm\\base.py:931: ConvergenceWarning: Liblinear failed to converge, increase the number of iterations.\n",
      "  \"the number of iterations.\", ConvergenceWarning)\n"
     ]
    },
    {
     "name": "stdout",
     "output_type": "stream",
     "text": [
      "Wall time: 4.76 s\n",
      "training score:  0.92434\n",
      "validation score:  0.9249\n",
      "Training Error:  0.07509999999999994\n",
      "Validation Error:  0.07565999999999995\n",
      "C =  0.2\n",
      "Training...\n"
     ]
    },
    {
     "name": "stderr",
     "output_type": "stream",
     "text": [
      "C:\\Users\\CPU12039-local\\Anaconda3\\lib\\site-packages\\sklearn\\svm\\base.py:931: ConvergenceWarning: Liblinear failed to converge, increase the number of iterations.\n",
      "  \"the number of iterations.\", ConvergenceWarning)\n"
     ]
    },
    {
     "name": "stdout",
     "output_type": "stream",
     "text": [
      "Wall time: 6.62 s\n",
      "training score:  0.926\n",
      "validation score:  0.9249\n",
      "Training Error:  0.07509999999999994\n",
      "Validation Error:  0.07399999999999995\n",
      "C =  0.5\n",
      "Training...\n"
     ]
    },
    {
     "name": "stderr",
     "output_type": "stream",
     "text": [
      "C:\\Users\\CPU12039-local\\Anaconda3\\lib\\site-packages\\sklearn\\svm\\base.py:931: ConvergenceWarning: Liblinear failed to converge, increase the number of iterations.\n",
      "  \"the number of iterations.\", ConvergenceWarning)\n"
     ]
    },
    {
     "name": "stdout",
     "output_type": "stream",
     "text": [
      "Wall time: 11.6 s\n",
      "training score:  0.92802\n",
      "validation score:  0.9248\n",
      "Training Error:  0.07520000000000004\n",
      "Validation Error:  0.07198000000000004\n",
      "C =  0.8\n",
      "Training...\n"
     ]
    },
    {
     "name": "stderr",
     "output_type": "stream",
     "text": [
      "C:\\Users\\CPU12039-local\\Anaconda3\\lib\\site-packages\\sklearn\\svm\\base.py:931: ConvergenceWarning: Liblinear failed to converge, increase the number of iterations.\n",
      "  \"the number of iterations.\", ConvergenceWarning)\n"
     ]
    },
    {
     "name": "stdout",
     "output_type": "stream",
     "text": [
      "Wall time: 18 s\n",
      "training score:  0.92898\n",
      "validation score:  0.9254\n",
      "Training Error:  0.0746\n",
      "Validation Error:  0.07101999999999997\n",
      "C =  0.9\n",
      "Training...\n"
     ]
    },
    {
     "name": "stderr",
     "output_type": "stream",
     "text": [
      "C:\\Users\\CPU12039-local\\Anaconda3\\lib\\site-packages\\sklearn\\svm\\base.py:931: ConvergenceWarning: Liblinear failed to converge, increase the number of iterations.\n",
      "  \"the number of iterations.\", ConvergenceWarning)\n"
     ]
    },
    {
     "name": "stdout",
     "output_type": "stream",
     "text": [
      "Wall time: 17.6 s\n",
      "training score:  0.92936\n",
      "validation score:  0.9255\n",
      "Training Error:  0.07450000000000001\n",
      "Validation Error:  0.07064000000000004\n",
      "C =  1\n",
      "Training...\n"
     ]
    },
    {
     "name": "stderr",
     "output_type": "stream",
     "text": [
      "C:\\Users\\CPU12039-local\\Anaconda3\\lib\\site-packages\\sklearn\\svm\\base.py:931: ConvergenceWarning: Liblinear failed to converge, increase the number of iterations.\n",
      "  \"the number of iterations.\", ConvergenceWarning)\n"
     ]
    },
    {
     "name": "stdout",
     "output_type": "stream",
     "text": [
      "Wall time: 20.6 s\n",
      "training score:  0.92954\n",
      "validation score:  0.9251\n",
      "Training Error:  0.07489999999999997\n",
      "Validation Error:  0.07045999999999997\n",
      "C =  1.1\n",
      "Training...\n"
     ]
    },
    {
     "name": "stderr",
     "output_type": "stream",
     "text": [
      "C:\\Users\\CPU12039-local\\Anaconda3\\lib\\site-packages\\sklearn\\svm\\base.py:931: ConvergenceWarning: Liblinear failed to converge, increase the number of iterations.\n",
      "  \"the number of iterations.\", ConvergenceWarning)\n"
     ]
    },
    {
     "name": "stdout",
     "output_type": "stream",
     "text": [
      "Wall time: 21 s\n",
      "training score:  0.92962\n",
      "validation score:  0.925\n",
      "Training Error:  0.07499999999999996\n",
      "Validation Error:  0.07038\n",
      "C =  1.2\n",
      "Training...\n"
     ]
    },
    {
     "name": "stderr",
     "output_type": "stream",
     "text": [
      "C:\\Users\\CPU12039-local\\Anaconda3\\lib\\site-packages\\sklearn\\svm\\base.py:931: ConvergenceWarning: Liblinear failed to converge, increase the number of iterations.\n",
      "  \"the number of iterations.\", ConvergenceWarning)\n"
     ]
    },
    {
     "name": "stdout",
     "output_type": "stream",
     "text": [
      "Wall time: 20.9 s\n",
      "training score:  0.92984\n",
      "validation score:  0.925\n",
      "Training Error:  0.07499999999999996\n",
      "Validation Error:  0.07016\n",
      "C =  2\n",
      "Training...\n"
     ]
    },
    {
     "name": "stderr",
     "output_type": "stream",
     "text": [
      "C:\\Users\\CPU12039-local\\Anaconda3\\lib\\site-packages\\sklearn\\svm\\base.py:931: ConvergenceWarning: Liblinear failed to converge, increase the number of iterations.\n",
      "  \"the number of iterations.\", ConvergenceWarning)\n"
     ]
    },
    {
     "name": "stdout",
     "output_type": "stream",
     "text": [
      "Wall time: 31.2 s\n",
      "training score:  0.92984\n",
      "validation score:  0.9255\n",
      "Training Error:  0.07450000000000001\n",
      "Validation Error:  0.07016\n",
      "C =  5\n",
      "Training...\n"
     ]
    },
    {
     "name": "stderr",
     "output_type": "stream",
     "text": [
      "C:\\Users\\CPU12039-local\\Anaconda3\\lib\\site-packages\\sklearn\\svm\\base.py:931: ConvergenceWarning: Liblinear failed to converge, increase the number of iterations.\n",
      "  \"the number of iterations.\", ConvergenceWarning)\n"
     ]
    },
    {
     "name": "stdout",
     "output_type": "stream",
     "text": [
      "Wall time: 50.5 s\n",
      "training score:  0.93082\n",
      "validation score:  0.9254\n",
      "Training Error:  0.0746\n",
      "Validation Error:  0.06918000000000002\n",
      "[0.07509999999999994, 0.07509999999999994, 0.07520000000000004, 0.0746, 0.07450000000000001, 0.07489999999999997, 0.07499999999999996, 0.07499999999999996, 0.07450000000000001, 0.0746]\n",
      "[0.07565999999999995, 0.07399999999999995, 0.07198000000000004, 0.07101999999999997, 0.07064000000000004, 0.07045999999999997, 0.07038, 0.07016, 0.07016, 0.06918000000000002]\n",
      "Best validation score: \n",
      "C = 0.9\n",
      "Training score = 0.92936\n",
      "Validation score = 0.9255\n"
     ]
    },
    {
     "data": {
      "image/png": "[encoded data removed]",
      "text/plain": [
       "<Figure size 432x288 with 1 Axes>"
      ]
     },
     "metadata": {
      "needs_background": "light"
     },
     "output_type": "display_data"
    }
   ],
   "source": [
    "C = [0.1, 0.2, 0.5, 0.8, 0.9, 1, 1.1, 1.2, 2, 5]\n",
    "max_iter = 1000\n",
    "err_vals, err_trains = run_SVM_linear_kernel(C, max_iter)\n",
    "print(err_trains)\n",
    "print(err_vals)\n",
    "plot_score(C, err_vals, err_trains)"
   ]
  },
  {
   "cell_type": "code",
   "execution_count": 18,
   "metadata": {},
   "outputs": [
    {
     "name": "stdout",
     "output_type": "stream",
     "text": [
      "C =  0.8\n",
      "Training...\n"
     ]
    },
    {
     "name": "stderr",
     "output_type": "stream",
     "text": [
      "C:\\Users\\CPU12039-local\\Anaconda3\\lib\\site-packages\\sklearn\\svm\\base.py:931: ConvergenceWarning: Liblinear failed to converge, increase the number of iterations.\n",
      "  \"the number of iterations.\", ConvergenceWarning)\n"
     ]
    },
    {
     "name": "stdout",
     "output_type": "stream",
     "text": [
      "Wall time: 14.9 s\n",
      "training score:  0.92888\n",
      "validation score:  0.9252\n",
      "Training Error:  0.07479999999999998\n",
      "Validation Error:  0.07111999999999996\n",
      "C =  0.82\n",
      "Training...\n"
     ]
    },
    {
     "name": "stderr",
     "output_type": "stream",
     "text": [
      "C:\\Users\\CPU12039-local\\Anaconda3\\lib\\site-packages\\sklearn\\svm\\base.py:931: ConvergenceWarning: Liblinear failed to converge, increase the number of iterations.\n",
      "  \"the number of iterations.\", ConvergenceWarning)\n"
     ]
    },
    {
     "name": "stdout",
     "output_type": "stream",
     "text": [
      "Wall time: 16.5 s\n",
      "training score:  0.92906\n",
      "validation score:  0.9253\n",
      "Training Error:  0.07469999999999999\n",
      "Validation Error:  0.07094\n",
      "C =  0.84\n",
      "Training...\n"
     ]
    },
    {
     "name": "stderr",
     "output_type": "stream",
     "text": [
      "C:\\Users\\CPU12039-local\\Anaconda3\\lib\\site-packages\\sklearn\\svm\\base.py:931: ConvergenceWarning: Liblinear failed to converge, increase the number of iterations.\n",
      "  \"the number of iterations.\", ConvergenceWarning)\n"
     ]
    },
    {
     "name": "stdout",
     "output_type": "stream",
     "text": [
      "Wall time: 14.7 s\n",
      "training score:  0.92912\n",
      "validation score:  0.9253\n",
      "Training Error:  0.07469999999999999\n",
      "Validation Error:  0.07088000000000005\n",
      "C =  0.86\n",
      "Training...\n"
     ]
    },
    {
     "name": "stderr",
     "output_type": "stream",
     "text": [
      "C:\\Users\\CPU12039-local\\Anaconda3\\lib\\site-packages\\sklearn\\svm\\base.py:931: ConvergenceWarning: Liblinear failed to converge, increase the number of iterations.\n",
      "  \"the number of iterations.\", ConvergenceWarning)\n"
     ]
    },
    {
     "name": "stdout",
     "output_type": "stream",
     "text": [
      "Wall time: 15.5 s\n",
      "training score:  0.92906\n",
      "validation score:  0.9254\n",
      "Training Error:  0.0746\n",
      "Validation Error:  0.07094\n",
      "C =  0.88\n",
      "Training...\n"
     ]
    },
    {
     "name": "stderr",
     "output_type": "stream",
     "text": [
      "C:\\Users\\CPU12039-local\\Anaconda3\\lib\\site-packages\\sklearn\\svm\\base.py:931: ConvergenceWarning: Liblinear failed to converge, increase the number of iterations.\n",
      "  \"the number of iterations.\", ConvergenceWarning)\n"
     ]
    },
    {
     "name": "stdout",
     "output_type": "stream",
     "text": [
      "Wall time: 15.8 s\n",
      "training score:  0.92902\n",
      "validation score:  0.9253\n",
      "Training Error:  0.07469999999999999\n",
      "Validation Error:  0.07098000000000004\n",
      "C =  0.9\n",
      "Training...\n"
     ]
    },
    {
     "name": "stderr",
     "output_type": "stream",
     "text": [
      "C:\\Users\\CPU12039-local\\Anaconda3\\lib\\site-packages\\sklearn\\svm\\base.py:931: ConvergenceWarning: Liblinear failed to converge, increase the number of iterations.\n",
      "  \"the number of iterations.\", ConvergenceWarning)\n"
     ]
    },
    {
     "name": "stdout",
     "output_type": "stream",
     "text": [
      "Wall time: 15.7 s\n",
      "training score:  0.9292\n",
      "validation score:  0.9257\n",
      "Training Error:  0.07430000000000003\n",
      "Validation Error:  0.07079999999999997\n",
      "C =  0.92\n",
      "Training...\n"
     ]
    },
    {
     "name": "stderr",
     "output_type": "stream",
     "text": [
      "C:\\Users\\CPU12039-local\\Anaconda3\\lib\\site-packages\\sklearn\\svm\\base.py:931: ConvergenceWarning: Liblinear failed to converge, increase the number of iterations.\n",
      "  \"the number of iterations.\", ConvergenceWarning)\n"
     ]
    },
    {
     "name": "stdout",
     "output_type": "stream",
     "text": [
      "Wall time: 15.7 s\n",
      "training score:  0.92942\n",
      "validation score:  0.9251\n",
      "Training Error:  0.07489999999999997\n",
      "Validation Error:  0.07057999999999998\n",
      "C =  0.94\n",
      "Training...\n"
     ]
    },
    {
     "name": "stderr",
     "output_type": "stream",
     "text": [
      "C:\\Users\\CPU12039-local\\Anaconda3\\lib\\site-packages\\sklearn\\svm\\base.py:931: ConvergenceWarning: Liblinear failed to converge, increase the number of iterations.\n",
      "  \"the number of iterations.\", ConvergenceWarning)\n"
     ]
    },
    {
     "name": "stdout",
     "output_type": "stream",
     "text": [
      "Wall time: 14.9 s\n",
      "training score:  0.92918\n",
      "validation score:  0.9251\n",
      "Training Error:  0.07489999999999997\n",
      "Validation Error:  0.07082\n",
      "C =  0.96\n",
      "Training...\n"
     ]
    },
    {
     "name": "stderr",
     "output_type": "stream",
     "text": [
      "C:\\Users\\CPU12039-local\\Anaconda3\\lib\\site-packages\\sklearn\\svm\\base.py:931: ConvergenceWarning: Liblinear failed to converge, increase the number of iterations.\n",
      "  \"the number of iterations.\", ConvergenceWarning)\n"
     ]
    },
    {
     "name": "stdout",
     "output_type": "stream",
     "text": [
      "Wall time: 15.4 s\n",
      "training score:  0.92906\n",
      "validation score:  0.925\n",
      "Training Error:  0.07499999999999996\n",
      "Validation Error:  0.07094\n",
      "C =  0.98\n",
      "Training...\n"
     ]
    },
    {
     "name": "stderr",
     "output_type": "stream",
     "text": [
      "C:\\Users\\CPU12039-local\\Anaconda3\\lib\\site-packages\\sklearn\\svm\\base.py:931: ConvergenceWarning: Liblinear failed to converge, increase the number of iterations.\n",
      "  \"the number of iterations.\", ConvergenceWarning)\n"
     ]
    },
    {
     "name": "stdout",
     "output_type": "stream",
     "text": [
      "Wall time: 15.8 s\n",
      "training score:  0.9292\n",
      "validation score:  0.9254\n",
      "Training Error:  0.0746\n",
      "Validation Error:  0.07079999999999997\n",
      "C =  1\n",
      "Training...\n"
     ]
    },
    {
     "name": "stderr",
     "output_type": "stream",
     "text": [
      "C:\\Users\\CPU12039-local\\Anaconda3\\lib\\site-packages\\sklearn\\svm\\base.py:931: ConvergenceWarning: Liblinear failed to converge, increase the number of iterations.\n",
      "  \"the number of iterations.\", ConvergenceWarning)\n"
     ]
    },
    {
     "name": "stdout",
     "output_type": "stream",
     "text": [
      "Wall time: 15.6 s\n",
      "training score:  0.9292\n",
      "validation score:  0.9251\n",
      "Training Error:  0.07489999999999997\n",
      "Validation Error:  0.07079999999999997\n",
      "C =  1.2\n",
      "Training...\n"
     ]
    },
    {
     "name": "stderr",
     "output_type": "stream",
     "text": [
      "C:\\Users\\CPU12039-local\\Anaconda3\\lib\\site-packages\\sklearn\\svm\\base.py:931: ConvergenceWarning: Liblinear failed to converge, increase the number of iterations.\n",
      "  \"the number of iterations.\", ConvergenceWarning)\n"
     ]
    },
    {
     "name": "stdout",
     "output_type": "stream",
     "text": [
      "Wall time: 18.3 s\n",
      "training score:  0.92972\n",
      "validation score:  0.9245\n",
      "Training Error:  0.07550000000000001\n",
      "Validation Error:  0.07028000000000001\n",
      "C =  1.4\n",
      "Training...\n"
     ]
    },
    {
     "name": "stderr",
     "output_type": "stream",
     "text": [
      "C:\\Users\\CPU12039-local\\Anaconda3\\lib\\site-packages\\sklearn\\svm\\base.py:931: ConvergenceWarning: Liblinear failed to converge, increase the number of iterations.\n",
      "  \"the number of iterations.\", ConvergenceWarning)\n"
     ]
    },
    {
     "name": "stdout",
     "output_type": "stream",
     "text": [
      "Wall time: 21 s\n",
      "training score:  0.9301\n",
      "validation score:  0.9257\n",
      "Training Error:  0.07430000000000003\n",
      "Validation Error:  0.06989999999999996\n",
      "C =  1.6\n",
      "Training...\n"
     ]
    },
    {
     "name": "stderr",
     "output_type": "stream",
     "text": [
      "C:\\Users\\CPU12039-local\\Anaconda3\\lib\\site-packages\\sklearn\\svm\\base.py:931: ConvergenceWarning: Liblinear failed to converge, increase the number of iterations.\n",
      "  \"the number of iterations.\", ConvergenceWarning)\n"
     ]
    },
    {
     "name": "stdout",
     "output_type": "stream",
     "text": [
      "Wall time: 22.2 s\n",
      "training score:  0.9298\n",
      "validation score:  0.9255\n",
      "Training Error:  0.07450000000000001\n",
      "Validation Error:  0.07020000000000004\n",
      "C =  1.8\n",
      "Training...\n"
     ]
    },
    {
     "name": "stderr",
     "output_type": "stream",
     "text": [
      "C:\\Users\\CPU12039-local\\Anaconda3\\lib\\site-packages\\sklearn\\svm\\base.py:931: ConvergenceWarning: Liblinear failed to converge, increase the number of iterations.\n",
      "  \"the number of iterations.\", ConvergenceWarning)\n"
     ]
    },
    {
     "name": "stdout",
     "output_type": "stream",
     "text": [
      "Wall time: 28 s\n",
      "training score:  0.92994\n",
      "validation score:  0.9261\n",
      "Training Error:  0.07389999999999997\n",
      "Validation Error:  0.07006000000000001\n",
      "C =  2\n",
      "Training...\n"
     ]
    },
    {
     "name": "stderr",
     "output_type": "stream",
     "text": [
      "C:\\Users\\CPU12039-local\\Anaconda3\\lib\\site-packages\\sklearn\\svm\\base.py:931: ConvergenceWarning: Liblinear failed to converge, increase the number of iterations.\n",
      "  \"the number of iterations.\", ConvergenceWarning)\n"
     ]
    },
    {
     "name": "stdout",
     "output_type": "stream",
     "text": [
      "Wall time: 24.6 s\n",
      "training score:  0.93028\n",
      "validation score:  0.9258\n",
      "Training Error:  0.07420000000000004\n",
      "Validation Error:  0.06972\n",
      "C =  2.2\n",
      "Training...\n"
     ]
    },
    {
     "name": "stderr",
     "output_type": "stream",
     "text": [
      "C:\\Users\\CPU12039-local\\Anaconda3\\lib\\site-packages\\sklearn\\svm\\base.py:931: ConvergenceWarning: Liblinear failed to converge, increase the number of iterations.\n",
      "  \"the number of iterations.\", ConvergenceWarning)\n"
     ]
    },
    {
     "name": "stdout",
     "output_type": "stream",
     "text": [
      "Wall time: 27 s\n",
      "training score:  0.92988\n",
      "validation score:  0.9251\n",
      "Training Error:  0.07489999999999997\n",
      "Validation Error:  0.07011999999999996\n",
      "C =  2.4\n",
      "Training...\n"
     ]
    },
    {
     "name": "stderr",
     "output_type": "stream",
     "text": [
      "C:\\Users\\CPU12039-local\\Anaconda3\\lib\\site-packages\\sklearn\\svm\\base.py:931: ConvergenceWarning: Liblinear failed to converge, increase the number of iterations.\n",
      "  \"the number of iterations.\", ConvergenceWarning)\n"
     ]
    },
    {
     "name": "stdout",
     "output_type": "stream",
     "text": [
      "Wall time: 29.5 s\n",
      "training score:  0.93056\n",
      "validation score:  0.9259\n",
      "Training Error:  0.07410000000000005\n",
      "Validation Error:  0.06943999999999995\n",
      "C =  2.6\n",
      "Training...\n"
     ]
    },
    {
     "name": "stderr",
     "output_type": "stream",
     "text": [
      "C:\\Users\\CPU12039-local\\Anaconda3\\lib\\site-packages\\sklearn\\svm\\base.py:931: ConvergenceWarning: Liblinear failed to converge, increase the number of iterations.\n",
      "  \"the number of iterations.\", ConvergenceWarning)\n"
     ]
    },
    {
     "name": "stdout",
     "output_type": "stream",
     "text": [
      "Wall time: 30.2 s\n",
      "training score:  0.92996\n",
      "validation score:  0.926\n",
      "Training Error:  0.07399999999999995\n",
      "Validation Error:  0.07003999999999999\n",
      "C =  2.8\n",
      "Training...\n"
     ]
    },
    {
     "name": "stderr",
     "output_type": "stream",
     "text": [
      "C:\\Users\\CPU12039-local\\Anaconda3\\lib\\site-packages\\sklearn\\svm\\base.py:931: ConvergenceWarning: Liblinear failed to converge, increase the number of iterations.\n",
      "  \"the number of iterations.\", ConvergenceWarning)\n"
     ]
    },
    {
     "name": "stdout",
     "output_type": "stream",
     "text": [
      "Wall time: 32.2 s\n",
      "training score:  0.93016\n",
      "validation score:  0.9255\n",
      "Training Error:  0.07450000000000001\n",
      "Validation Error:  0.06984000000000001\n",
      "C =  3\n",
      "Training...\n"
     ]
    },
    {
     "name": "stderr",
     "output_type": "stream",
     "text": [
      "C:\\Users\\CPU12039-local\\Anaconda3\\lib\\site-packages\\sklearn\\svm\\base.py:931: ConvergenceWarning: Liblinear failed to converge, increase the number of iterations.\n",
      "  \"the number of iterations.\", ConvergenceWarning)\n"
     ]
    },
    {
     "name": "stdout",
     "output_type": "stream",
     "text": [
      "Wall time: 34.3 s\n",
      "training score:  0.93012\n",
      "validation score:  0.9259\n",
      "Training Error:  0.07410000000000005\n",
      "Validation Error:  0.06988000000000005\n",
      "[0.07479999999999998, 0.07469999999999999, 0.07469999999999999, 0.0746, 0.07469999999999999, 0.07430000000000003, 0.07489999999999997, 0.07489999999999997, 0.07499999999999996, 0.0746, 0.07489999999999997, 0.07550000000000001, 0.07430000000000003, 0.07450000000000001, 0.07389999999999997, 0.07420000000000004, 0.07489999999999997, 0.07410000000000005, 0.07399999999999995, 0.07450000000000001, 0.07410000000000005]\n",
      "[0.07111999999999996, 0.07094, 0.07088000000000005, 0.07094, 0.07098000000000004, 0.07079999999999997, 0.07057999999999998, 0.07082, 0.07094, 0.07079999999999997, 0.07079999999999997, 0.07028000000000001, 0.06989999999999996, 0.07020000000000004, 0.07006000000000001, 0.06972, 0.07011999999999996, 0.06943999999999995, 0.07003999999999999, 0.06984000000000001, 0.06988000000000005]\n",
      "Best validation score: \n",
      "C = 1.8\n",
      "Training score = 0.92994\n",
      "Validation score = 0.9261\n"
     ]
    },
    {
     "data": {
      "image/png": "[encoded data removed]",
      "text/plain": [
       "<Figure size 432x288 with 1 Axes>"
      ]
     },
     "metadata": {
      "needs_background": "light"
     },
     "output_type": "display_data"
    }
   ],
   "source": [
    "C = [0.8, 0.82, 0.84, 0.86, 0.88, 0.9, 0.92, 0.94, 0.96, 0.98, 1, 1.2, 1.4, 1.6, 1.8, 2, 2.2, 2.4, 2.6,2.8,3]\n",
    "max_iter = 1000\n",
    "err_vals, err_trains = run_SVM_linear_kernel(C, max_iter)\n",
    "print(err_trains)\n",
    "print(err_vals)\n",
    "plot_score(C, err_vals, err_trains)"
   ]
  },
  {
   "cell_type": "code",
   "execution_count": null,
   "metadata": {},
   "outputs": [],
   "source": [
    "C = [0.8, 0.82, 0.84, 0.86, 0.88, 0.9, 0.92, 0.94, 0.96, 0.98, 1, 1.2, 1.4, 1.6, 1.8, 2, 2.2, 2.4, 2.6,2.8,3]\n",
    "max_iter = 1000\n",
    "err_vals, err_trains = run_SVM_linear_kernel(C, max_iter)\n",
    "print(err_trains)\n",
    "print(err_vals)\n",
    "plot_score(C, err_vals, err_trains)"
   ]
  }
 ],
 "metadata": {
  "kernelspec": {
   "display_name": "Python 3",
   "language": "python",
   "name": "python3"
  },
  "language_info": {
   "codemirror_mode": {
    "name": "ipython",
    "version": 3
   },
   "file_extension": ".py",
   "mimetype": "text/x-python",
   "name": "python",
   "nbconvert_exporter": "python",
   "pygments_lexer": "ipython3",
   "version": "3.7.3"
  }
 },
 "nbformat": 4,
 "nbformat_minor": 2
}
