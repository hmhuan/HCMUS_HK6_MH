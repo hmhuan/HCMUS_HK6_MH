{
 "cells": [
  {
   "cell_type": "code",
   "execution_count": 1,
   "metadata": {},
   "outputs": [],
   "source": [
    "import numpy as np\n",
    "import pickle\n",
    "import gzip\n",
    "\n",
    "def read_mnist(mnist_file):\n",
    "    f = gzip.open(mnist_file, 'rb')\n",
    "    train_data, val_data, test_data = pickle.load(f, encoding='latin1')\n",
    "    f.close()\n",
    "    \n",
    "    train_X, train_Y = train_data\n",
    "    val_X, val_Y = val_data\n",
    "    test_X, test_Y = test_data    \n",
    "    \n",
    "    return train_X, train_Y, val_X, val_Y, test_X, test_Y"
   ]
  },
  {
   "cell_type": "code",
   "execution_count": 2,
   "metadata": {},
   "outputs": [],
   "source": [
    "train_X, train_Y, val_X, val_Y, test_X, test_Y = read_mnist('mnist.pkl.gz')"
   ]
  },
  {
   "cell_type": "code",
   "execution_count": 3,
   "metadata": {},
   "outputs": [],
   "source": [
    "from sklearn.svm import SVC\n",
    "def run_RBF_kernel(train_X, train_Y, val_X, val_Y, c = 1.0, gamma = 0.001, max_iter = -1):\n",
    "    \"\"\"\n",
    "    \"\"\"\n",
    "    clf = SVC(C = c, kernel = 'rbf', gamma = gamma, max_iter = max_iter)\n",
    "    print(\"Training...\")\n",
    "    %time clf.fit(train_X, train_Y)\n",
    "    print(\"Training done!\")\n",
    "    training_score = clf.score(train_X, train_Y)\n",
    "    validation_score = clf.score(val_X, val_Y)\n",
    "    err_train = 1 - training_score\n",
    "    err_val = 1 - validation_score\n",
    "    print(\"train score: \", training_score)\n",
    "    print(\"validation score: \", validation_score)\n",
    "    return err_train, err_val"
   ]
  },
  {
   "cell_type": "code",
   "execution_count": 5,
   "metadata": {},
   "outputs": [],
   "source": [
    "def run_SVM_RBF_kernel(max_iter = -1):\n",
    "    \"\"\"\n",
    "    \"\"\"\n",
    "    C, gamma = 0.1, 0.001\n",
    "    k = 0\n",
    "    for i in range(4):\n",
    "        gamma = 0.001\n",
    "        for j in range(5):\n",
    "            k += 1\n",
    "            print(\"\\nIter %d:\" %k)\n",
    "            print(\"C = %s, gamma = %s\" %(C, gamma))\n",
    "            err_train, err_val = (0, 0)\n",
    "            %time (err_train, err_val) = run_RBF_kernel(train_X, train_Y, val_X, val_Y, C, gamma, max_iter)\n",
    "            print(\"Error train: \", err_train)\n",
    "            print(\"Error validation: \", err_val)\n",
    "            gamma *= 10\n",
    "        C *= 10"
   ]
  },
  {
   "cell_type": "code",
   "execution_count": null,
   "metadata": {},
   "outputs": [
    {
     "name": "stdout",
     "output_type": "stream",
     "text": [
      "\n",
      "Iter 1:\n",
      "C = 0.1, gamma = 0.001\n",
      "Training...\n",
      "Wall time: 23min 55s\n",
      "Training done!\n",
      "train score:  0.90176\n",
      "validation score:  0.9139\n",
      "Wall time: 54min 57s\n",
      "Error train:  0\n",
      "Error validation:  0\n",
      "\n",
      "Iter 2:\n",
      "C = 0.1, gamma = 0.01\n",
      "Training...\n",
      "Wall time: 11min 27s\n",
      "Training done!\n",
      "train score:  0.95298\n",
      "validation score:  0.9578\n",
      "Wall time: 30min 9s\n",
      "Error train:  0\n",
      "Error validation:  0\n",
      "\n",
      "Iter 3:\n",
      "C = 0.1, gamma = 0.1\n",
      "Training...\n",
      "Wall time: 58min 20s\n",
      "Training done!\n"
     ]
    }
   ],
   "source": [
    "run_SVM_RBF_kernel(max_iter = 1000)"
   ]
  }
 ],
 "metadata": {
  "kernelspec": {
   "display_name": "Python 3",
   "language": "python",
   "name": "python3"
  },
  "language_info": {
   "codemirror_mode": {
    "name": "ipython",
    "version": 3
   },
   "file_extension": ".py",
   "mimetype": "text/x-python",
   "name": "python",
   "nbconvert_exporter": "python",
   "pygments_lexer": "ipython3",
   "version": "3.7.1"
  }
 },
 "nbformat": 4,
 "nbformat_minor": 2
}
