{
 "cells": [
  {
   "cell_type": "code",
   "execution_count": 1,
   "metadata": {},
   "outputs": [],
   "source": [
    "import numpy as np\n",
    "import pickle\n",
    "import gzip"
   ]
  },
  {
   "cell_type": "code",
   "execution_count": 2,
   "metadata": {},
   "outputs": [],
   "source": [
    "def read_mnist(mnist_file):\n",
    "    \"\"\"\n",
    "    Reads MNIST data.\n",
    "    \n",
    "    Parameters\n",
    "    ----------\n",
    "    mnist_file : string\n",
    "        The name of the MNIST file (e.g., 'mnist.pkl.gz').\n",
    "    \n",
    "    Returns\n",
    "    -------\n",
    "    (train_X, train_Y, val_X, val_Y, test_X, test_Y) : tuple\n",
    "        train_X : numpy array, shape (N=50000, d=784)\n",
    "            Input vectors of the training set.\n",
    "        train_Y: numpy array, shape (N=50000)\n",
    "            Outputs of the training set.\n",
    "        val_X : numpy array, shape (N=10000, d=784)\n",
    "            Input vectors of the validation set.\n",
    "        val_Y: numpy array, shape (N=10000)\n",
    "            Outputs of the validation set.\n",
    "        test_X : numpy array, shape (N=10000, d=784)\n",
    "            Input vectors of the test set.\n",
    "        test_Y: numpy array, shape (N=10000)\n",
    "            Outputs of the test set.\n",
    "    \"\"\"\n",
    "    f = gzip.open(mnist_file, 'rb')\n",
    "    train_data, val_data, test_data = pickle.load(f, encoding='latin1')\n",
    "    f.close()\n",
    "    \n",
    "    train_X, train_Y = train_data\n",
    "    val_X, val_Y = val_data\n",
    "    test_X, test_Y = test_data    \n",
    "    \n",
    "    return train_X, train_Y, val_X, val_Y, test_X, test_Y"
   ]
  },
  {
   "cell_type": "code",
   "execution_count": 3,
   "metadata": {},
   "outputs": [
    {
     "name": "stdout",
     "output_type": "stream",
     "text": [
      "train_X.shape = (50000, 784)\n",
      "train_Y.shape = (50000,)\n",
      "val_X.shape   = (10000, 784)\n",
      "val_Y.shape   = (10000,)\n",
      "test_X.shape  = (10000, 784)\n",
      "test_Y.shape  = (10000,)\n",
      "\n",
      "train_X: min = 0.000, max = 0.996\n",
      "train_Y: min = 0, max = 9\n"
     ]
    }
   ],
   "source": [
    "# Test\n",
    "train_X, train_Y, val_X, val_Y, test_X, test_Y = read_mnist('mnist.pkl.gz')\n",
    "\n",
    "print('train_X.shape =', train_X.shape)\n",
    "print('train_Y.shape =', train_Y.shape)\n",
    "print('val_X.shape   =', val_X.shape)\n",
    "print('val_Y.shape   =', val_Y.shape)\n",
    "print('test_X.shape  =', test_X.shape)\n",
    "print('test_Y.shape  =', test_Y.shape)\n",
    "\n",
    "print('\\ntrain_X: min = %.3f, max = %.3f' %(train_X.min(), train_X.max()))\n",
    "print('train_Y: min = %d, max = %d' %(train_Y.min(), train_Y.max()))"
   ]
  },
  {
   "cell_type": "markdown",
   "metadata": {},
   "source": [
    "#### Test theo documents"
   ]
  },
  {
   "cell_type": "code",
   "execution_count": 4,
   "metadata": {
    "scrolled": true
   },
   "outputs": [],
   "source": [
    "from sklearn.svm import LinearSVC\n",
    "#clf = LinearSVC(random_state=0, tol=1e-5, max_iter = 50000)\n",
    "#clf = LinearSVC(C=0.25, max_iter = 5000)\n",
    "#clf.fit(train_X, train_Y)"
   ]
  },
  {
   "cell_type": "code",
   "execution_count": 5,
   "metadata": {},
   "outputs": [],
   "source": [
    "def run_linear_kernel(train_X, train_Y, val_X, val_Y, c):\n",
    "    clf = LinearSVC(C = c, max_iter = 50000)\n",
    "    clf.fit(train_X, train_Y)\n",
    "    err_train = 1 - clf.score(train_X, train_Y)\n",
    "    err_val = 1 - clf.score(val_X, val_Y)\n",
    "    print(\"train score: \", clf.score(train_X, train_Y))\n",
    "    print(\"validation score: \", clf.score(val_X, val_Y))\n",
    "    return err_train, err_val"
   ]
  },
  {
   "cell_type": "code",
   "execution_count": 13,
   "metadata": {},
   "outputs": [
    {
     "name": "stdout",
     "output_type": "stream",
     "text": [
      "train score:  0.92636\n",
      "validation score:  0.9205\n",
      "Wall time: 3min 46s\n",
      "Error train:  0.07364000000000004\n",
      "Error validation:  0.07950000000000002\n"
     ]
    }
   ],
   "source": [
    "%time err_train, err_val = run_linear_kernel(train_X, train_Y, val_X, val_Y, 1)\n",
    "print(\"Error train: \", err_train)\n",
    "print(\"Error validation: \", err_val)"
   ]
  },
  {
   "cell_type": "code",
   "execution_count": 11,
   "metadata": {},
   "outputs": [],
   "source": [
    "def run_SVM(maxC):\n",
    "    \"\"\"\n",
    "    \"\"\"\n",
    "    c = 0\n",
    "    k = 0\n",
    "    err_train = 0\n",
    "    err_val = 0\n",
    "    while (k <= maxC):\n",
    "        print(k+1)\n",
    "        print(\"C = \", c)\n",
    "        c += 0.05\n",
    "        %time err_train, err_val = run_linear_kernel(train_X, train_Y, val_X, val_Y, c)\n",
    "        #print(\"Error train: \", err_train)\n",
    "        #print(\"Error validation: \", err_val)\n",
    "        k += 1"
   ]
  },
  {
   "cell_type": "code",
   "execution_count": 12,
   "metadata": {},
   "outputs": [
    {
     "name": "stdout",
     "output_type": "stream",
     "text": [
      "1\n",
      "C =  0\n",
      "train score:  0.92274\n",
      "validation score:  0.9215\n",
      "Wall time: 10.9 s\n",
      "2\n",
      "C =  0.05\n",
      "train score:  0.92396\n",
      "validation score:  0.9214\n",
      "Wall time: 19.2 s\n",
      "3\n",
      "C =  0.1\n",
      "train score:  0.92424\n",
      "validation score:  0.921\n",
      "Wall time: 27.3 s\n",
      "4\n",
      "C =  0.15000000000000002\n",
      "train score:  0.9244\n",
      "validation score:  0.921\n",
      "Wall time: 43.1 s\n",
      "5\n",
      "C =  0.2\n",
      "train score:  0.9247\n",
      "validation score:  0.9213\n",
      "Wall time: 56.5 s\n",
      "6\n",
      "C =  0.25\n",
      "train score:  0.92496\n",
      "validation score:  0.9218\n",
      "Wall time: 1min 7s\n",
      "7\n",
      "C =  0.3\n",
      "train score:  0.9253\n",
      "validation score:  0.9216\n",
      "Wall time: 1min 14s\n",
      "8\n",
      "C =  0.35\n",
      "train score:  0.9253\n",
      "validation score:  0.9215\n",
      "Wall time: 1min 26s\n",
      "9\n",
      "C =  0.39999999999999997\n",
      "train score:  0.92536\n",
      "validation score:  0.9211\n",
      "Wall time: 1min 37s\n",
      "10\n",
      "C =  0.44999999999999996\n",
      "train score:  0.9255\n",
      "validation score:  0.9212\n",
      "Wall time: 1min 53s\n",
      "11\n",
      "C =  0.49999999999999994\n",
      "train score:  0.92564\n",
      "validation score:  0.9213\n",
      "Wall time: 1min 53s\n",
      "12\n",
      "C =  0.5499999999999999\n",
      "train score:  0.92566\n",
      "validation score:  0.9212\n",
      "Wall time: 2min 4s\n",
      "13\n",
      "C =  0.6\n",
      "train score:  0.9257\n",
      "validation score:  0.921\n",
      "Wall time: 2min\n",
      "14\n",
      "C =  0.65\n",
      "train score:  0.92582\n",
      "validation score:  0.9211\n",
      "Wall time: 2min 14s\n",
      "15\n",
      "C =  0.7000000000000001\n",
      "train score:  0.92586\n",
      "validation score:  0.921\n",
      "Wall time: 2min 47s\n",
      "16\n",
      "C =  0.7500000000000001\n",
      "train score:  0.92596\n",
      "validation score:  0.9209\n",
      "Wall time: 2min 36s\n",
      "17\n",
      "C =  0.8000000000000002\n",
      "train score:  0.92596\n",
      "validation score:  0.9208\n",
      "Wall time: 2min 41s\n",
      "18\n",
      "C =  0.8500000000000002\n",
      "train score:  0.9261\n",
      "validation score:  0.9206\n",
      "Wall time: 3min 4s\n",
      "19\n",
      "C =  0.9000000000000002\n",
      "train score:  0.92622\n",
      "validation score:  0.9205\n",
      "Wall time: 3min 20s\n",
      "20\n",
      "C =  0.9500000000000003\n",
      "train score:  0.92636\n",
      "validation score:  0.9205\n",
      "Wall time: 3min 28s\n",
      "21\n",
      "C =  1.0000000000000002\n",
      "train score:  0.92634\n",
      "validation score:  0.9207\n",
      "Wall time: 4min 5s\n",
      "Wall time: 40min 15s\n"
     ]
    }
   ],
   "source": [
    "%time run_SVM(20)"
   ]
  }
 ],
 "metadata": {
  "anaconda-cloud": {},
  "kernelspec": {
   "display_name": "Python 3",
   "language": "python",
   "name": "python3"
  },
  "language_info": {
   "codemirror_mode": {
    "name": "ipython",
    "version": 3
   },
   "file_extension": ".py",
   "mimetype": "text/x-python",
   "name": "python",
   "nbconvert_exporter": "python",
   "pygments_lexer": "ipython3",
   "version": "3.7.3"
  },
  "toc": {
   "nav_menu": {},
   "number_sections": false,
   "sideBar": true,
   "skip_h1_title": false,
   "title_cell": "Table of Contents",
   "title_sidebar": "Contents",
   "toc_cell": false,
   "toc_position": {},
   "toc_section_display": true,
   "toc_window_display": true
  }
 },
 "nbformat": 4,
 "nbformat_minor": 1
}
