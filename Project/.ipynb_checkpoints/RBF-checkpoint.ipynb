{
 "cells": [
  {
   "cell_type": "code",
   "execution_count": 1,
   "metadata": {},
   "outputs": [],
   "source": [
    "import numpy as np\n",
    "import pickle\n",
    "import gzip\n",
    "\n",
    "def read_mnist(mnist_file):\n",
    "    f = gzip.open(mnist_file, 'rb')\n",
    "    train_data, val_data, test_data = pickle.load(f, encoding='latin1')\n",
    "    f.close()\n",
    "    \n",
    "    train_X, train_Y = train_data\n",
    "    val_X, val_Y = val_data\n",
    "    test_X, test_Y = test_data    \n",
    "    \n",
    "    return train_X, train_Y, val_X, val_Y, test_X, test_Y"
   ]
  },
  {
   "cell_type": "code",
   "execution_count": 2,
   "metadata": {},
   "outputs": [],
   "source": [
    "train_X, train_Y, val_X, val_Y, test_X, test_Y = read_mnist('mnist.pkl.gz')"
   ]
  },
  {
   "cell_type": "code",
   "execution_count": 3,
   "metadata": {},
   "outputs": [],
   "source": [
    "from sklearn.svm import SVC\n",
    "def run_RBF_kernel(train_X, train_Y, val_X, val_Y, c = 1.0, gamma = 1.0, max_iter = -1):\n",
    "    \"\"\"\n",
    "    input: \n",
    "        data train and validation\n",
    "        c: hyperparameter C\n",
    "        gamma: hyperparameter gamma\n",
    "        max_iter:\n",
    "    output:\n",
    "        (training score, validation score)\n",
    "    \"\"\"\n",
    "    err_train, err_val = 0, 0\n",
    "    clf = SVC(C = c, kernel = 'rbf', gamma = gamma, max_iter = max_iter)\n",
    "    print(\"Training...\")\n",
    "    %time clf.fit(train_X, train_Y)\n",
    "    print(\"Training done!\")\n",
    "    training_score = clf.score(train_X, train_Y)\n",
    "    validation_score = clf.score(val_X, val_Y)\n",
    "    err_train = 1 - training_score\n",
    "    err_val = 1 - validation_score\n",
    "    print(\"train score: \", training_score)\n",
    "    print(\"validation score: \", validation_score)\n",
    "    return (err_train, err_val)"
   ]
  },
  {
   "cell_type": "markdown",
   "metadata": {},
   "source": [
    "### thử bộ siêu tham số C = 10, gamma = 0.01 với tập test"
   ]
  },
  {
   "cell_type": "code",
   "execution_count": 4,
   "metadata": {},
   "outputs": [
    {
     "name": "stdout",
     "output_type": "stream",
     "text": [
      "Training...\n",
      "Wall time: 4min 47s\n",
      "Training done!\n",
      "train score:  0.99942\n",
      "validation score:  0.982\n"
     ]
    }
   ],
   "source": [
    "(err_train, err_val) = run_RBF_kernel(train_X, train_Y, test_X, test_Y, c = 10, gamma = 0.01, max_iter = -1)"
   ]
  },
  {
   "cell_type": "code",
   "execution_count": 4,
   "metadata": {},
   "outputs": [
    {
     "name": "stdout",
     "output_type": "stream",
     "text": [
      "Training...\n",
      "Wall time: 22min 59s\n",
      "Training done!\n",
      "train score:  1.0\n",
      "validation score:  0.9833\n"
     ]
    }
   ],
   "source": [
    "(err_train, err_val) = run_RBF_kernel(train_X, train_Y, val_X, val_Y, c = 5, gamma = 0.05, max_iter = -1)"
   ]
  },
  {
   "cell_type": "code",
   "execution_count": null,
   "metadata": {},
   "outputs": [
    {
     "name": "stdout",
     "output_type": "stream",
     "text": [
      "Training...\n",
      "Wall time: 19min 10s\n",
      "Training done!\n",
      "train score:  1.0\n",
      "validation score:  0.9833\n"
     ]
    }
   ],
   "source": [
    "(err_train, err_val) = run_RBF_kernel(train_X, train_Y, val_X, val_Y, c = 10, gamma = 0.05, max_iter = -1)"
   ]
  },
  {
   "cell_type": "code",
   "execution_count": null,
   "metadata": {},
   "outputs": [
    {
     "name": "stdout",
     "output_type": "stream",
     "text": [
      "Training...\n"
     ]
    }
   ],
   "source": [
    "(err_train, err_val) = run_RBF_kernel(train_X, train_Y, val_X, val_Y, c = 10, gamma = 0.1, max_iter = -1)"
   ]
  },
  {
   "cell_type": "code",
   "execution_count": 4,
   "metadata": {},
   "outputs": [
    {
     "name": "stdout",
     "output_type": "stream",
     "text": [
      "Training...\n",
      "Wall time: 4min 51s\n",
      "Training done!\n",
      "train score:  0.99212\n",
      "validation score:  0.9812\n"
     ]
    }
   ],
   "source": [
    "(err_train, err_val) = run_RBF_kernel(train_X, train_Y, val_X, val_Y, c = 2, gamma = 0.01, max_iter = -1)"
   ]
  },
  {
   "cell_type": "code",
   "execution_count": 5,
   "metadata": {},
   "outputs": [
    {
     "name": "stdout",
     "output_type": "stream",
     "text": [
      "Training...\n",
      "Wall time: 4min 49s\n",
      "Training done!\n",
      "train score:  0.99524\n",
      "validation score:  0.9818\n"
     ]
    }
   ],
   "source": [
    "(err_train, err_val) = run_RBF_kernel(train_X, train_Y, val_X, val_Y, c = 3, gamma = 0.01, max_iter = -1)"
   ]
  },
  {
   "cell_type": "code",
   "execution_count": 6,
   "metadata": {},
   "outputs": [
    {
     "name": "stdout",
     "output_type": "stream",
     "text": [
      "Training...\n",
      "Wall time: 5min 24s\n",
      "Training done!\n",
      "train score:  0.9971\n",
      "validation score:  0.9826\n"
     ]
    }
   ],
   "source": [
    "(err_train, err_val) = run_RBF_kernel(train_X, train_Y, val_X, val_Y, c = 4, gamma = 0.01, max_iter = -1)"
   ]
  },
  {
   "cell_type": "code",
   "execution_count": 8,
   "metadata": {},
   "outputs": [
    {
     "name": "stdout",
     "output_type": "stream",
     "text": [
      "Training...\n",
      "Wall time: 4min 46s\n",
      "Training done!\n",
      "train score:  0.99818\n",
      "validation score:  0.9828\n"
     ]
    }
   ],
   "source": [
    "(err_train, err_val) = run_RBF_kernel(train_X, train_Y, val_X, val_Y, c = 5, gamma = 0.01, max_iter = -1)"
   ]
  },
  {
   "cell_type": "code",
   "execution_count": 7,
   "metadata": {},
   "outputs": [
    {
     "name": "stdout",
     "output_type": "stream",
     "text": [
      "Training...\n",
      "Wall time: 4min 53s\n",
      "Training done!\n",
      "train score:  0.99872\n",
      "validation score:  0.983\n"
     ]
    }
   ],
   "source": [
    "(err_train, err_val) = run_RBF_kernel(train_X, train_Y, val_X, val_Y, c = 6, gamma = 0.01, max_iter = -1)"
   ]
  },
  {
   "cell_type": "code",
   "execution_count": 9,
   "metadata": {},
   "outputs": [
    {
     "name": "stdout",
     "output_type": "stream",
     "text": [
      "Training...\n",
      "Wall time: 5min 35s\n",
      "Training done!\n",
      "train score:  0.99892\n",
      "validation score:  0.9827\n"
     ]
    }
   ],
   "source": [
    "(err_train, err_val) = run_RBF_kernel(train_X, train_Y, val_X, val_Y, c = 7, gamma = 0.01, max_iter = -1)"
   ]
  },
  {
   "cell_type": "code",
   "execution_count": 10,
   "metadata": {},
   "outputs": [
    {
     "name": "stdout",
     "output_type": "stream",
     "text": [
      "Training...\n",
      "Wall time: 4min 45s\n",
      "Training done!\n",
      "train score:  0.99914\n",
      "validation score:  0.9829\n"
     ]
    }
   ],
   "source": [
    "(err_train, err_val) = run_RBF_kernel(train_X, train_Y, val_X, val_Y, c = 8, gamma = 0.01, max_iter = -1)"
   ]
  },
  {
   "cell_type": "code",
   "execution_count": 11,
   "metadata": {},
   "outputs": [
    {
     "name": "stdout",
     "output_type": "stream",
     "text": [
      "Training...\n",
      "Wall time: 5min 34s\n",
      "Training done!\n",
      "train score:  0.99926\n",
      "validation score:  0.9832\n"
     ]
    }
   ],
   "source": [
    "(err_train, err_val) = run_RBF_kernel(train_X, train_Y, val_X, val_Y, c = 9, gamma = 0.01, max_iter = -1)"
   ]
  },
  {
   "cell_type": "code",
   "execution_count": 4,
   "metadata": {},
   "outputs": [
    {
     "name": "stdout",
     "output_type": "stream",
     "text": [
      "Training...\n",
      "Wall time: 6min 6s\n",
      "Training done!\n",
      "train score:  0.98474\n",
      "validation score:  0.9777\n"
     ]
    }
   ],
   "source": [
    "(err_train, err_val) = run_RBF_kernel(train_X, train_Y, val_X, val_Y, c = 1, gamma = 0.01, max_iter = -1)"
   ]
  },
  {
   "cell_type": "code",
   "execution_count": 5,
   "metadata": {},
   "outputs": [
    {
     "name": "stdout",
     "output_type": "stream",
     "text": [
      "Training...\n",
      "Wall time: 10min 4s\n",
      "Training done!\n",
      "train score:  0.93578\n",
      "validation score:  0.9411\n"
     ]
    }
   ],
   "source": [
    "(err_train, err_val) = run_RBF_kernel(train_X, train_Y, val_X, val_Y, c = 1, gamma = 0.001, max_iter = -1)"
   ]
  },
  {
   "cell_type": "code",
   "execution_count": 6,
   "metadata": {},
   "outputs": [
    {
     "name": "stdout",
     "output_type": "stream",
     "text": [
      "Training...\n",
      "Wall time: 4min 22s\n",
      "Training done!\n",
      "train score:  0.99942\n",
      "validation score:  0.9835\n"
     ]
    }
   ],
   "source": [
    "(err_train, err_val) = run_RBF_kernel(train_X, train_Y, val_X, val_Y, c = 10, gamma = 0.01, max_iter = -1)"
   ]
  },
  {
   "cell_type": "code",
   "execution_count": 7,
   "metadata": {},
   "outputs": [
    {
     "name": "stdout",
     "output_type": "stream",
     "text": [
      "Training...\n",
      "Wall time: 4min 17s\n",
      "Training done!\n",
      "train score:  1.0\n",
      "validation score:  0.9832\n"
     ]
    }
   ],
   "source": [
    "(err_train, err_val) = run_RBF_kernel(train_X, train_Y, val_X, val_Y, c = 100, gamma = 0.01, max_iter = -1)"
   ]
  },
  {
   "cell_type": "code",
   "execution_count": 9,
   "metadata": {},
   "outputs": [
    {
     "name": "stdout",
     "output_type": "stream",
     "text": [
      "Training...\n",
      "Wall time: 4min 40s\n",
      "Training done!\n",
      "train score:  1.0\n",
      "validation score:  0.9832\n"
     ]
    }
   ],
   "source": [
    "(err_train, err_val) = run_RBF_kernel(train_X, train_Y, val_X, val_Y, c = 1000, gamma = 0.01, max_iter = -1)"
   ]
  },
  {
   "cell_type": "code",
   "execution_count": 10,
   "metadata": {},
   "outputs": [
    {
     "name": "stdout",
     "output_type": "stream",
     "text": [
      "Training...\n",
      "Wall time: 4min 32s\n",
      "Training done!\n",
      "train score:  0.99926\n",
      "validation score:  0.9832\n"
     ]
    }
   ],
   "source": [
    "(err_train, err_val) = run_RBF_kernel(train_X, train_Y, val_X, val_Y, c = 9, gamma = 0.01, max_iter = -1)"
   ]
  },
  {
   "cell_type": "code",
   "execution_count": 11,
   "metadata": {},
   "outputs": [
    {
     "name": "stdout",
     "output_type": "stream",
     "text": [
      "Training...\n",
      "Wall time: 4min 13s\n",
      "Training done!\n",
      "train score:  0.99914\n",
      "validation score:  0.9829\n"
     ]
    }
   ],
   "source": [
    "(err_train, err_val) = run_RBF_kernel(train_X, train_Y, val_X, val_Y, c = 8, gamma = 0.01, max_iter = -1)"
   ]
  },
  {
   "cell_type": "code",
   "execution_count": 5,
   "metadata": {},
   "outputs": [
    {
     "name": "stdout",
     "output_type": "stream",
     "text": [
      "Training...\n",
      "Wall time: 1h 30min 32s\n",
      "Training done!\n",
      "train score:  0.99996\n",
      "validation score:  0.9552\n"
     ]
    }
   ],
   "source": [
    "(err_train, err_val) = run_RBF_kernel(train_X, train_Y, val_X, val_Y, c = 1, gamma = 0.1, max_iter = -1)"
   ]
  },
  {
   "cell_type": "code",
   "execution_count": 4,
   "metadata": {
    "scrolled": true
   },
   "outputs": [
    {
     "name": "stdout",
     "output_type": "stream",
     "text": [
      "Training...\n"
     ]
    },
    {
     "name": "stderr",
     "output_type": "stream",
     "text": [
      "C:\\Users\\CPU12039-local\\Anaconda3\\lib\\site-packages\\sklearn\\svm\\base.py:244: ConvergenceWarning: Solver terminated early (max_iter=1000).  Consider pre-processing your data with StandardScaler or MinMaxScaler.\n",
      "  % self.max_iter, ConvergenceWarning)\n"
     ]
    },
    {
     "name": "stdout",
     "output_type": "stream",
     "text": [
      "Wall time: 15min 8s\n",
      "Training done!\n",
      "train score:  0.96566\n",
      "validation score:  0.8801\n",
      "Wall time: 30min 11s\n"
     ]
    }
   ],
   "source": [
    "%time (err_train, err_val) = run_RBF_kernel(train_X, train_Y, val_X, val_Y, max_iter = 1000)"
   ]
  },
  {
   "cell_type": "code",
   "execution_count": 14,
   "metadata": {},
   "outputs": [],
   "source": [
    "def run_SVM_RBF_kernel(C, gammas, max_iter = 1000):\n",
    "    \"\"\"\n",
    "    \"\"\"\n",
    "    training_error, validation_error = 0, 0\n",
    "    #err_vals = []\n",
    "    #err_trains = []\n",
    "    for c in C:\n",
    "        for gamma in gammas:\n",
    "            print(\"C = %s, gamma = %s\" %(c, gamma))\n",
    "            (training_score, validation_score) = run_RBF_kernel(train_X, train_Y, val_X, val_Y, c, gamma, max_iter)\n",
    "            err_train = 1 - training_score\n",
    "            err_val = 1 - validation_score\n",
    "            print(\"Error train: \", err_train)\n",
    "            print(\"Error validation: \", err_val)"
   ]
  },
  {
   "cell_type": "code",
   "execution_count": 12,
   "metadata": {},
   "outputs": [
    {
     "name": "stdout",
     "output_type": "stream",
     "text": [
      "C = 0.1, gamma = 0.01\n",
      "Training...\n"
     ]
    },
    {
     "name": "stderr",
     "output_type": "stream",
     "text": [
      "D:\\Anaconda3\\lib\\site-packages\\sklearn\\svm\\base.py:244: ConvergenceWarning: Solver terminated early (max_iter=1000).  Consider pre-processing your data with StandardScaler or MinMaxScaler.\n",
      "  % self.max_iter, ConvergenceWarning)\n"
     ]
    },
    {
     "name": "stdout",
     "output_type": "stream",
     "text": [
      "Wall time: 12min 10s\n",
      "Training done!\n",
      "train score:  0.9526\n",
      "validation score:  0.9563\n"
     ]
    },
    {
     "ename": "NameError",
     "evalue": "name 'err_train' is not defined",
     "output_type": "error",
     "traceback": [
      "\u001b[1;31m---------------------------------------------------------------------------\u001b[0m",
      "\u001b[1;31mNameError\u001b[0m                                 Traceback (most recent call last)",
      "\u001b[1;32m<ipython-input-12-91b6aa885ba0>\u001b[0m in \u001b[0;36m<module>\u001b[1;34m\u001b[0m\n\u001b[0;32m      1\u001b[0m \u001b[0mC\u001b[0m \u001b[1;33m=\u001b[0m \u001b[1;33m[\u001b[0m\u001b[1;36m0.1\u001b[0m\u001b[1;33m,\u001b[0m \u001b[1;36m1\u001b[0m\u001b[1;33m,\u001b[0m \u001b[1;36m10\u001b[0m\u001b[1;33m]\u001b[0m\u001b[1;33m\u001b[0m\u001b[1;33m\u001b[0m\u001b[0m\n\u001b[0;32m      2\u001b[0m \u001b[0mgammas\u001b[0m \u001b[1;33m=\u001b[0m \u001b[1;33m[\u001b[0m\u001b[1;36m0.01\u001b[0m\u001b[1;33m,\u001b[0m \u001b[1;36m0.1\u001b[0m\u001b[1;33m,\u001b[0m \u001b[1;36m1\u001b[0m\u001b[1;33m]\u001b[0m\u001b[1;33m\u001b[0m\u001b[1;33m\u001b[0m\u001b[0m\n\u001b[1;32m----> 3\u001b[1;33m \u001b[0mrun_SVM_RBF_kernel\u001b[0m\u001b[1;33m(\u001b[0m\u001b[0mC\u001b[0m\u001b[1;33m,\u001b[0m \u001b[0mgammas\u001b[0m\u001b[1;33m,\u001b[0m \u001b[1;36m1000\u001b[0m\u001b[1;33m)\u001b[0m\u001b[1;33m\u001b[0m\u001b[1;33m\u001b[0m\u001b[0m\n\u001b[0m",
      "\u001b[1;32m<ipython-input-11-f89dfab5442f>\u001b[0m in \u001b[0;36mrun_SVM_RBF_kernel\u001b[1;34m(C, gammas, max_iter)\u001b[0m\n\u001b[0;32m     11\u001b[0m             \u001b[0mtraining_error\u001b[0m \u001b[1;33m=\u001b[0m \u001b[1;36m1\u001b[0m \u001b[1;33m-\u001b[0m \u001b[0mtraining_score\u001b[0m\u001b[1;33m\u001b[0m\u001b[1;33m\u001b[0m\u001b[0m\n\u001b[0;32m     12\u001b[0m             \u001b[0mvalidation_error\u001b[0m \u001b[1;33m=\u001b[0m \u001b[1;36m1\u001b[0m \u001b[1;33m-\u001b[0m \u001b[0mvalidation_score\u001b[0m\u001b[1;33m\u001b[0m\u001b[1;33m\u001b[0m\u001b[0m\n\u001b[1;32m---> 13\u001b[1;33m             \u001b[0mprint\u001b[0m\u001b[1;33m(\u001b[0m\u001b[1;34m\"Error train: \"\u001b[0m\u001b[1;33m,\u001b[0m \u001b[0merr_train\u001b[0m\u001b[1;33m)\u001b[0m\u001b[1;33m\u001b[0m\u001b[1;33m\u001b[0m\u001b[0m\n\u001b[0m\u001b[0;32m     14\u001b[0m             \u001b[0mprint\u001b[0m\u001b[1;33m(\u001b[0m\u001b[1;34m\"Error validation: \"\u001b[0m\u001b[1;33m,\u001b[0m \u001b[0mvalidation_error\u001b[0m\u001b[1;33m)\u001b[0m\u001b[1;33m\u001b[0m\u001b[1;33m\u001b[0m\u001b[0m\n",
      "\u001b[1;31mNameError\u001b[0m: name 'err_train' is not defined"
     ]
    }
   ],
   "source": [
    "C = [100]\n",
    "gammas = [0.01, 0.1, 1]\n",
    "run_SVM_RBF_kernel(C, gammas, 1000)"
   ]
  },
  {
   "cell_type": "code",
   "execution_count": null,
   "metadata": {},
   "outputs": [
    {
     "name": "stdout",
     "output_type": "stream",
     "text": [
      "\n",
      "Iter 1:\n",
      "C = 0.1, gamma = 0.001\n",
      "Training...\n",
      "Wall time: 24min 28s\n",
      "Training done!\n",
      "validation score:  0.9139\n",
      "Error validation:  0.08609999999999995\n",
      "\n",
      "Iter 2:\n",
      "C = 0.1, gamma = 0.01\n",
      "Training...\n",
      "Wall time: 11min 47s\n",
      "Training done!\n",
      "validation score:  0.9578\n",
      "Error validation:  0.042200000000000015\n",
      "\n",
      "Iter 3:\n",
      "C = 0.1, gamma = 0.1\n",
      "Training...\n",
      "Wall time: 1h 3min 58s\n",
      "Training done!\n",
      "validation score:  0.6875\n",
      "Error validation:  0.3125\n",
      "\n",
      "Iter 4:\n",
      "C = 0.1, gamma = 1.0\n",
      "Training...\n"
     ]
    }
   ],
   "source": [
    "run_SVM_RBF_kernel()"
   ]
  }
 ],
 "metadata": {
  "kernelspec": {
   "display_name": "Python 3",
   "language": "python",
   "name": "python3"
  },
  "language_info": {
   "codemirror_mode": {
    "name": "ipython",
    "version": 3
   },
   "file_extension": ".py",
   "mimetype": "text/x-python",
   "name": "python",
   "nbconvert_exporter": "python",
   "pygments_lexer": "ipython3",
   "version": "3.7.1"
  }
 },
 "nbformat": 4,
 "nbformat_minor": 2
}
