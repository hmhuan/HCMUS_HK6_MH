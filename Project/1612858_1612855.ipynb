{
 "cells": [
  {
   "cell_type": "code",
   "execution_count": 1,
   "metadata": {},
   "outputs": [],
   "source": [
    "import numpy as np\n",
    "import pickle\n",
    "import gzip"
   ]
  },
  {
   "cell_type": "code",
   "execution_count": 2,
   "metadata": {},
   "outputs": [],
   "source": [
    "def read_mnist(mnist_file):\n",
    "    \"\"\"\n",
    "    Reads MNIST data.\n",
    "    \n",
    "    Parameters\n",
    "    ----------\n",
    "    mnist_file : string\n",
    "        The name of the MNIST file (e.g., 'mnist.pkl.gz').\n",
    "    \n",
    "    Returns\n",
    "    -------\n",
    "    (train_X, train_Y, val_X, val_Y, test_X, test_Y) : tuple\n",
    "        train_X : numpy array, shape (N=50000, d=784)\n",
    "            Input vectors of the training set.\n",
    "        train_Y: numpy array, shape (N=50000)\n",
    "            Outputs of the training set.\n",
    "        val_X : numpy array, shape (N=10000, d=784)\n",
    "            Input vectors of the validation set.\n",
    "        val_Y: numpy array, shape (N=10000)\n",
    "            Outputs of the validation set.\n",
    "        test_X : numpy array, shape (N=10000, d=784)\n",
    "            Input vectors of the test set.\n",
    "        test_Y: numpy array, shape (N=10000)\n",
    "            Outputs of the test set.\n",
    "    \"\"\"\n",
    "    f = gzip.open(mnist_file, 'rb')\n",
    "    train_data, val_data, test_data = pickle.load(f, encoding='latin1')\n",
    "    f.close()\n",
    "    \n",
    "    train_X, train_Y = train_data\n",
    "    val_X, val_Y = val_data\n",
    "    test_X, test_Y = test_data    \n",
    "    \n",
    "    return train_X, train_Y, val_X, val_Y, test_X, test_Y"
   ]
  },
  {
   "cell_type": "code",
   "execution_count": 3,
   "metadata": {},
   "outputs": [
    {
     "name": "stdout",
     "output_type": "stream",
     "text": [
      "train_X.shape = (50000, 784)\n",
      "train_Y.shape = (50000,)\n",
      "val_X.shape   = (10000, 784)\n",
      "val_Y.shape   = (10000,)\n",
      "test_X.shape  = (10000, 784)\n",
      "test_Y.shape  = (10000,)\n",
      "\n",
      "train_X: min = 0.000, max = 0.996\n",
      "train_Y: min = 0, max = 9\n"
     ]
    }
   ],
   "source": [
    "# Test\n",
    "train_X, train_Y, val_X, val_Y, test_X, test_Y = read_mnist('mnist.pkl.gz')\n",
    "\n",
    "print('train_X.shape =', train_X.shape)\n",
    "print('train_Y.shape =', train_Y.shape)\n",
    "print('val_X.shape   =', val_X.shape)\n",
    "print('val_Y.shape   =', val_Y.shape)\n",
    "print('test_X.shape  =', test_X.shape)\n",
    "print('test_Y.shape  =', test_Y.shape)\n",
    "\n",
    "print('\\ntrain_X: min = %.3f, max = %.3f' %(train_X.min(), train_X.max()))\n",
    "print('train_Y: min = %d, max = %d' %(train_Y.min(), train_Y.max()))"
   ]
  },
  {
   "cell_type": "code",
   "execution_count": 10,
   "metadata": {},
   "outputs": [],
   "source": [
    "from sklearn.svm import SVC\n",
    "def run_RBF_kernel(train_X, train_Y, val_X, val_Y, c = 1.0, gamma = 0.001, max_iter = -1):\n",
    "    \"\"\"\n",
    "    \"\"\"\n",
    "    clf = SVC(C = c, kernel = 'rbf', gamma = gamma, max_iter = max_iter)\n",
    "    print(\"Training...\")\n",
    "    %time clf.fit(train_X, train_Y)\n",
    "    print(\"Training done!\")\n",
    "    %time training_score = clf.score(train_X, train_Y)\n",
    "    %time validation_score = clf.score(val_X, val_Y)\n",
    "    err_train = 1 - training_score\n",
    "    err_val = 1 - validation_score\n",
    "    print(\"train score: \", training_score)\n",
    "    print(\"validation score: \", validation_score)\n",
    "    return err_train, err_val"
   ]
  },
  {
   "cell_type": "code",
   "execution_count": null,
   "metadata": {},
   "outputs": [],
   "source": [
    "run_RBF_kernel(train_X, train_Y, val_X, val_Y, c = 1.0, gamma = 0.1, max_iter = 10000)"
   ]
  },
  {
   "cell_type": "code",
   "execution_count": null,
   "metadata": {},
   "outputs": [
    {
     "name": "stdout",
     "output_type": "stream",
     "text": [
      "Training...\n"
     ]
    }
   ],
   "source": [
    "run_RBF_kernel(train_X, train_Y, val_X, val_Y, c = 5.0, gamma = 0.1, max_iter = 10000)"
   ]
  },
  {
   "cell_type": "code",
   "execution_count": null,
   "metadata": {},
   "outputs": [],
   "source": [
    "run_RBF_kernel(train_X, train_Y, val_X, val_Y, c = 1.0, gamma = 1, max_iter = 10000)"
   ]
  },
  {
   "cell_type": "code",
   "execution_count": null,
   "metadata": {},
   "outputs": [],
   "source": [
    "run_RBF_kernel(train_X, train_Y, val_X, val_Y, c = 5.0, gamma = 1.0, max_iter = 10000)"
   ]
  },
  {
   "cell_type": "code",
   "execution_count": 5,
   "metadata": {},
   "outputs": [],
   "source": [
    "def run_SVM_RBF_kernel():\n",
    "    \"\"\"\n",
    "    \"\"\"\n",
    "    C, gamma = 0.1, 0.001\n",
    "    k = 0\n",
    "    for i in range(4):\n",
    "        gamma = 0.001\n",
    "        for j in range(2):\n",
    "            k += 1\n",
    "            print(\"\\nIter %d:\" %k)\n",
    "            print(\"C = %s, gamma = %s\" %(C, gamma))\n",
    "            err_train, err_val = (0, 0)\n",
    "            %time (err_train, err_val) = run_RBF_kernel(train_X, train_Y, val_X, val_Y, C, gamma)\n",
    "            print(\"Error train: \", err_train)\n",
    "            print(\"Error validation: \", err_val)\n",
    "            gamma *= 10\n",
    "        C *= 10"
   ]
  },
  {
   "cell_type": "code",
   "execution_count": 6,
   "metadata": {},
   "outputs": [
    {
     "name": "stdout",
     "output_type": "stream",
     "text": [
      "\n",
      "Iter 1:\n",
      "C = 0.1, gamma = 0.001\n",
      "train score:  0.90176\n",
      "validation score:  0.9139\n",
      "Wall time: 1h 29min 39s\n",
      "Error train:  0\n",
      "Error validation:  0\n",
      "\n",
      "Iter 2:\n",
      "C = 0.1, gamma = 0.01\n",
      "train score:  0.95298\n",
      "validation score:  0.9578\n",
      "Wall time: 50min 55s\n",
      "Error train:  0\n",
      "Error validation:  0\n",
      "\n",
      "Iter 3:\n",
      "C = 1.0, gamma = 0.001\n",
      "train score:  0.93578\n",
      "validation score:  0.9411\n",
      "Wall time: 44min 44s\n",
      "Error train:  0\n",
      "Error validation:  0\n",
      "\n",
      "Iter 4:\n",
      "C = 1.0, gamma = 0.01\n",
      "train score:  0.98474\n",
      "validation score:  0.9777\n",
      "Wall time: 26min 37s\n",
      "Error train:  0\n",
      "Error validation:  0\n",
      "\n",
      "Iter 5:\n",
      "C = 10.0, gamma = 0.001\n",
      "train score:  0.96206\n",
      "validation score:  0.9592\n",
      "Wall time: 28min 12s\n",
      "Error train:  0\n",
      "Error validation:  0\n",
      "\n",
      "Iter 6:\n",
      "C = 10.0, gamma = 0.01\n",
      "train score:  0.99942\n",
      "validation score:  0.9835\n",
      "Wall time: 24min 58s\n",
      "Error train:  0\n",
      "Error validation:  0\n",
      "\n",
      "Iter 7:\n",
      "C = 100.0, gamma = 0.001\n",
      "train score:  0.99058\n",
      "validation score:  0.9718\n",
      "Wall time: 21min 14s\n",
      "Error train:  0\n",
      "Error validation:  0\n",
      "\n",
      "Iter 8:\n",
      "C = 100.0, gamma = 0.01\n",
      "train score:  1.0\n",
      "validation score:  0.9832\n",
      "Wall time: 22min 55s\n",
      "Error train:  0\n",
      "Error validation:  0\n",
      "Wall time: 5h 9min 17s\n"
     ]
    }
   ],
   "source": [
    "%time run_SVM_RBF_kernel()"
   ]
  },
  {
   "cell_type": "markdown",
   "metadata": {},
   "source": [
    "### RBF kernel"
   ]
  },
  {
   "cell_type": "code",
   "execution_count": 5,
   "metadata": {},
   "outputs": [
    {
     "name": "stdout",
     "output_type": "stream",
     "text": [
      "C =  0.1\n",
      "train score:  0.90718\n",
      "validation score:  0.9178\n",
      "Wall time: 1h 48min 42s\n",
      "Error train:  0.09282000000000001\n",
      "Error validation:  0.08220000000000005\n"
     ]
    }
   ],
   "source": [
    "C = 0.1\n",
    "print(\"C = \", C)\n",
    "err_train, err_val = (0, 0)\n",
    "%time (err_train, err_val) = run_RBF_kernel(train_X, train_Y, val_X, val_Y, C, 'auto')\n",
    "print(\"Error train: \", err_train)\n",
    "print(\"Error validation: \", err_val)"
   ]
  },
  {
   "cell_type": "code",
   "execution_count": 15,
   "metadata": {},
   "outputs": [
    {
     "name": "stdout",
     "output_type": "stream",
     "text": [
      "C =  1.0\n",
      "train score:  0.93998\n",
      "validation score:  0.9448\n",
      "Wall time: 49min 56s\n",
      "Error train:  0.06001999999999996\n",
      "Error validation:  0.05520000000000003\n"
     ]
    }
   ],
   "source": [
    "C = 1.0\n",
    "print(\"C = \", C)\n",
    "err_train, err_val = (0, 0)\n",
    "%time (err_train, err_val) = run_RBF_kernel(train_X, train_Y, val_X, val_Y, C, 'auto')\n",
    "print(\"Error train: \", err_train)\n",
    "print(\"Error validation: \", err_val)"
   ]
  },
  {
   "cell_type": "code",
   "execution_count": 6,
   "metadata": {},
   "outputs": [
    {
     "name": "stdout",
     "output_type": "stream",
     "text": [
      "C =  10\n",
      "train score:  0.9678\n",
      "validation score:  0.9643\n",
      "Wall time: 29min 15s\n",
      "Error train:  0.032200000000000006\n",
      "Error validation:  0.035699999999999954\n"
     ]
    }
   ],
   "source": [
    "C = 10\n",
    "print(\"C = \", C)\n",
    "err_train, err_val = (0, 0)\n",
    "%time (err_train, err_val) = run_RBF_kernel(train_X, train_Y, val_X, val_Y, C, 'auto')\n",
    "print(\"Error train: \", err_train)\n",
    "print(\"Error validation: \", err_val)"
   ]
  },
  {
   "cell_type": "code",
   "execution_count": 7,
   "metadata": {},
   "outputs": [
    {
     "name": "stdout",
     "output_type": "stream",
     "text": [
      "C =  100\n",
      "train score:  0.99436\n",
      "validation score:  0.9753\n",
      "Wall time: 22min 48s\n",
      "Error train:  0.005639999999999978\n",
      "Error validation:  0.024700000000000055\n"
     ]
    }
   ],
   "source": [
    "C = 100\n",
    "print(\"C = \", C)\n",
    "err_train, err_val = (0, 0)\n",
    "%time (err_train, err_val) = run_RBF_kernel(train_X, train_Y, val_X, val_Y, C, 'auto')\n",
    "print(\"Error train: \", err_train)\n",
    "print(\"Error validation: \", err_val)"
   ]
  },
  {
   "cell_type": "code",
   "execution_count": 8,
   "metadata": {},
   "outputs": [
    {
     "name": "stdout",
     "output_type": "stream",
     "text": [
      "C =  1000\n",
      "train score:  1.0\n",
      "validation score:  0.9734\n",
      "Wall time: 22min 58s\n",
      "Error train:  0.0\n",
      "Error validation:  0.026599999999999957\n"
     ]
    }
   ],
   "source": [
    "C = 1000\n",
    "print(\"C = \", C)\n",
    "err_train, err_val = (0, 0)\n",
    "%time (err_train, err_val) = run_RBF_kernel(train_X, train_Y, val_X, val_Y, C, 'auto')\n",
    "print(\"Error train: \", err_train)\n",
    "print(\"Error validation: \", err_val)"
   ]
  },
  {
   "cell_type": "markdown",
   "metadata": {},
   "source": [
    "---"
   ]
  },
  {
   "cell_type": "markdown",
   "metadata": {},
   "source": [
    "### Linear kernel"
   ]
  },
  {
   "cell_type": "code",
   "execution_count": 3,
   "metadata": {},
   "outputs": [],
   "source": [
    "from sklearn.svm import LinearSVC\n",
    "def run_linear_kernel(train_X, train_Y, val_X, val_Y, c):\n",
    "    \"\"\"\n",
    "    \"\"\"\n",
    "    clf = LinearSVC(C = c, max_iter = 50000)\n",
    "    clf.fit(train_X, train_Y)\n",
    "    err_train = 1 - clf.score(train_X, train_Y)\n",
    "    err_val = 1 - clf.score(val_X, val_Y)\n",
    "    print(\"train score: \", clf.score(train_X, train_Y))\n",
    "    print(\"validation score: \", clf.score(val_X, val_Y))\n",
    "    return err_train, err_val"
   ]
  },
  {
   "cell_type": "code",
   "execution_count": 8,
   "metadata": {},
   "outputs": [
    {
     "name": "stdout",
     "output_type": "stream",
     "text": [
      "C =  0.1\n",
      "train score:  0.92396\n",
      "validation score:  0.9214\n",
      "Wall time: 37.7 s\n",
      "Error train:  0.07604\n",
      "Error validation:  0.0786\n"
     ]
    }
   ],
   "source": [
    "C = 0.1\n",
    "print(\"C = \", C)\n",
    "%time (err_train, err_val) = run_linear_kernel(train_X, train_Y, val_X, val_Y, C)\n",
    "print(\"Error train: \", err_train)\n",
    "print(\"Error validation: \", err_val)"
   ]
  },
  {
   "cell_type": "code",
   "execution_count": 5,
   "metadata": {},
   "outputs": [
    {
     "name": "stdout",
     "output_type": "stream",
     "text": [
      "C =  0.1\n",
      "train score:  0.92396\n",
      "validation score:  0.9214\n",
      "Wall time: 39.8 s\n",
      "Error train:  0.07604\n",
      "Error validation:  0.0786\n"
     ]
    }
   ],
   "source": [
    "C = 0.1\n",
    "print(\"C = \", C)\n",
    "%time (err_train, err_val) = run_linear_kernel(train_X, train_Y, val_X, val_Y, C)\n",
    "print(\"Error train: \", err_train)\n",
    "print(\"Error validation: \", err_val)"
   ]
  },
  {
   "cell_type": "code",
   "execution_count": 6,
   "metadata": {},
   "outputs": [
    {
     "name": "stdout",
     "output_type": "stream",
     "text": [
      "C =  0.3\n",
      "train score:  0.92496\n",
      "validation score:  0.9218\n",
      "Wall time: 1min 41s\n",
      "Error train:  0.07504\n",
      "Error validation:  0.07820000000000005\n"
     ]
    }
   ],
   "source": [
    "C = 0.3\n",
    "print(\"C = \", C)\n",
    "%time (err_train, err_val) = run_linear_kernel(train_X, train_Y, val_X, val_Y, C)\n",
    "print(\"Error train: \", err_train)\n",
    "print(\"Error validation: \", err_val)"
   ]
  },
  {
   "cell_type": "code",
   "execution_count": 8,
   "metadata": {},
   "outputs": [
    {
     "name": "stdout",
     "output_type": "stream",
     "text": [
      "C =  0.29\n",
      "train score:  0.92494\n",
      "validation score:  0.9217\n",
      "Wall time: 1min 55s\n",
      "Error train:  0.07506000000000002\n",
      "Error validation:  0.07830000000000004\n"
     ]
    }
   ],
   "source": [
    "C = 0.29\n",
    "print(\"C = \", C)\n",
    "%time (err_train, err_val) = run_linear_kernel(train_X, train_Y, val_X, val_Y, C)\n",
    "print(\"Error train: \", err_train)\n",
    "print(\"Error validation: \", err_val)"
   ]
  },
  {
   "cell_type": "code",
   "execution_count": 9,
   "metadata": {},
   "outputs": [
    {
     "name": "stdout",
     "output_type": "stream",
     "text": [
      "C =  0.32\n",
      "train score:  0.9251\n",
      "validation score:  0.9216\n",
      "Wall time: 2min 19s\n",
      "Error train:  0.07489999999999997\n",
      "Error validation:  0.07840000000000003\n"
     ]
    }
   ],
   "source": [
    "C = 0.32\n",
    "print(\"C = \", C)\n",
    "%time (err_train, err_val) = run_linear_kernel(train_X, train_Y, val_X, val_Y, C)\n",
    "print(\"Error train: \", err_train)\n",
    "print(\"Error validation: \", err_val)"
   ]
  },
  {
   "cell_type": "code",
   "execution_count": 10,
   "metadata": {},
   "outputs": [
    {
     "name": "stdout",
     "output_type": "stream",
     "text": [
      "C =  0.28\n",
      "train score:  0.92492\n",
      "validation score:  0.9216\n",
      "Wall time: 1min 32s\n",
      "Error train:  0.07508000000000004\n",
      "Error validation:  0.07840000000000003\n"
     ]
    }
   ],
   "source": [
    "C = 0.28\n",
    "print(\"C = \", C)\n",
    "%time (err_train, err_val) = run_linear_kernel(train_X, train_Y, val_X, val_Y, C)\n",
    "print(\"Error train: \", err_train)\n",
    "print(\"Error validation: \", err_val)"
   ]
  },
  {
   "cell_type": "code",
   "execution_count": 11,
   "metadata": {},
   "outputs": [
    {
     "name": "stdout",
     "output_type": "stream",
     "text": [
      "C =  0.315\n",
      "train score:  0.9251\n",
      "validation score:  0.9218\n",
      "Wall time: 1min 42s\n",
      "Error train:  0.07489999999999997\n",
      "Error validation:  0.07820000000000005\n"
     ]
    }
   ],
   "source": [
    "C = 0.315\n",
    "print(\"C = \", C)\n",
    "%time (err_train, err_val) = run_linear_kernel(train_X, train_Y, val_X, val_Y, C)\n",
    "print(\"Error train: \", err_train)\n",
    "print(\"Error validation: \", err_val)"
   ]
  },
  {
   "cell_type": "code",
   "execution_count": 13,
   "metadata": {},
   "outputs": [
    {
     "name": "stdout",
     "output_type": "stream",
     "text": [
      "C =  0.31525\n",
      "train score:  0.9251\n",
      "validation score:  0.9218\n",
      "Wall time: 1min 45s\n",
      "Error train:  0.07489999999999997\n",
      "Error validation:  0.07820000000000005\n"
     ]
    }
   ],
   "source": [
    "C = 0.31525\n",
    "print(\"C = \", C)\n",
    "%time (err_train, err_val) = run_linear_kernel(train_X, train_Y, val_X, val_Y, C)\n",
    "print(\"Error train: \", err_train)\n",
    "print(\"Error validation: \", err_val)"
   ]
  },
  {
   "cell_type": "code",
   "execution_count": 14,
   "metadata": {},
   "outputs": [
    {
     "name": "stdout",
     "output_type": "stream",
     "text": [
      "C =  0.3154\n",
      "train score:  0.9251\n",
      "validation score:  0.9218\n",
      "Wall time: 1min 37s\n",
      "Error train:  0.07489999999999997\n",
      "Error validation:  0.07820000000000005\n"
     ]
    }
   ],
   "source": [
    "C = 0.3154\n",
    "print(\"C = \", C)\n",
    "%time (err_train, err_val) = run_linear_kernel(train_X, train_Y, val_X, val_Y, C)\n",
    "print(\"Error train: \", err_train)\n",
    "print(\"Error validation: \", err_val)"
   ]
  },
  {
   "cell_type": "code",
   "execution_count": 15,
   "metadata": {},
   "outputs": [
    {
     "name": "stdout",
     "output_type": "stream",
     "text": [
      "C =  0.3153\n",
      "train score:  0.9251\n",
      "validation score:  0.9218\n",
      "Wall time: 1min 39s\n",
      "Error train:  0.07489999999999997\n",
      "Error validation:  0.07820000000000005\n"
     ]
    }
   ],
   "source": [
    "C = 0.3153\n",
    "print(\"C = \", C)\n",
    "%time (err_train, err_val) = run_linear_kernel(train_X, train_Y, val_X, val_Y, C)\n",
    "print(\"Error train: \", err_train)\n",
    "print(\"Error validation: \", err_val)"
   ]
  },
  {
   "cell_type": "code",
   "execution_count": 16,
   "metadata": {},
   "outputs": [
    {
     "name": "stdout",
     "output_type": "stream",
     "text": [
      "C =  0.3152\n",
      "train score:  0.9251\n",
      "validation score:  0.9218\n",
      "Wall time: 1min 31s\n",
      "Error train:  0.07489999999999997\n",
      "Error validation:  0.07820000000000005\n"
     ]
    }
   ],
   "source": [
    "C = 0.3152\n",
    "print(\"C = \", C)\n",
    "%time (err_train, err_val) = run_linear_kernel(train_X, train_Y, val_X, val_Y, C)\n",
    "print(\"Error train: \", err_train)\n",
    "print(\"Error validation: \", err_val)"
   ]
  },
  {
   "cell_type": "code",
   "execution_count": 17,
   "metadata": {},
   "outputs": [
    {
     "name": "stdout",
     "output_type": "stream",
     "text": [
      "C =  0.3151\n",
      "train score:  0.9251\n",
      "validation score:  0.9218\n",
      "Wall time: 1min 50s\n",
      "Error train:  0.07489999999999997\n",
      "Error validation:  0.07820000000000005\n"
     ]
    }
   ],
   "source": [
    "C = 0.3151\n",
    "print(\"C = \", C)\n",
    "%time (err_train, err_val) = run_linear_kernel(train_X, train_Y, val_X, val_Y, C)\n",
    "print(\"Error train: \", err_train)\n",
    "print(\"Error validation: \", err_val)"
   ]
  },
  {
   "cell_type": "code",
   "execution_count": 18,
   "metadata": {},
   "outputs": [
    {
     "name": "stdout",
     "output_type": "stream",
     "text": [
      "C =  0.3125\n",
      "train score:  0.9251\n",
      "validation score:  0.9219\n",
      "Wall time: 1min 30s\n",
      "Error train:  0.07489999999999997\n",
      "Error validation:  0.07809999999999995\n"
     ]
    }
   ],
   "source": [
    "C = 0.3125\n",
    "print(\"C = \", C)\n",
    "%time (err_train, err_val) = run_linear_kernel(train_X, train_Y, val_X, val_Y, C)\n",
    "print(\"Error train: \", err_train)\n",
    "print(\"Error validation: \", err_val)"
   ]
  },
  {
   "cell_type": "code",
   "execution_count": 22,
   "metadata": {},
   "outputs": [
    {
     "name": "stdout",
     "output_type": "stream",
     "text": [
      "C =  0.31275\n",
      "train score:  0.9251\n",
      "validation score:  0.9219\n",
      "Wall time: 1min 27s\n",
      "Error train:  0.07489999999999997\n",
      "Error validation:  0.07809999999999995\n"
     ]
    }
   ],
   "source": [
    "C = 0.31275\n",
    "print(\"C = \", C)\n",
    "%time (err_train, err_val) = run_linear_kernel(train_X, train_Y, val_X, val_Y, C)\n",
    "print(\"Error train: \", err_train)\n",
    "print(\"Error validation: \", err_val)"
   ]
  },
  {
   "cell_type": "code",
   "execution_count": 23,
   "metadata": {},
   "outputs": [
    {
     "name": "stdout",
     "output_type": "stream",
     "text": [
      "C =  0.311\n",
      "train score:  0.92506\n",
      "validation score:  0.9218\n",
      "Wall time: 1min 49s\n",
      "Error train:  0.07494\n",
      "Error validation:  0.07820000000000005\n"
     ]
    }
   ],
   "source": [
    "C = 0.311\n",
    "print(\"C = \", C)\n",
    "%time (err_train, err_val) = run_linear_kernel(train_X, train_Y, val_X, val_Y, C)\n",
    "print(\"Error train: \", err_train)\n",
    "print(\"Error validation: \", err_val)"
   ]
  },
  {
   "cell_type": "code",
   "execution_count": 24,
   "metadata": {},
   "outputs": [
    {
     "name": "stdout",
     "output_type": "stream",
     "text": [
      "C =  0.312\n",
      "train score:  0.92508\n",
      "validation score:  0.9218\n",
      "Wall time: 1min 40s\n",
      "Error train:  0.07491999999999999\n",
      "Error validation:  0.07820000000000005\n"
     ]
    }
   ],
   "source": [
    "C = 0.312\n",
    "print(\"C = \", C)\n",
    "%time (err_train, err_val) = run_linear_kernel(train_X, train_Y, val_X, val_Y, C)\n",
    "print(\"Error train: \", err_train)\n",
    "print(\"Error validation: \", err_val)"
   ]
  },
  {
   "cell_type": "code",
   "execution_count": 25,
   "metadata": {},
   "outputs": [
    {
     "name": "stdout",
     "output_type": "stream",
     "text": [
      "C =  0.3123\n",
      "train score:  0.92508\n",
      "validation score:  0.9218\n",
      "Wall time: 1min 39s\n",
      "Error train:  0.07491999999999999\n",
      "Error validation:  0.07820000000000005\n"
     ]
    }
   ],
   "source": [
    "C = 0.3123\n",
    "print(\"C = \", C)\n",
    "%time (err_train, err_val) = run_linear_kernel(train_X, train_Y, val_X, val_Y, C)\n",
    "print(\"Error train: \", err_train)\n",
    "print(\"Error validation: \", err_val)"
   ]
  },
  {
   "cell_type": "code",
   "execution_count": 26,
   "metadata": {},
   "outputs": [
    {
     "name": "stdout",
     "output_type": "stream",
     "text": [
      "C =  0.314\n",
      "train score:  0.9251\n",
      "validation score:  0.9218\n",
      "Wall time: 1min 34s\n",
      "Error train:  0.07489999999999997\n",
      "Error validation:  0.07820000000000005\n"
     ]
    }
   ],
   "source": [
    "C = 0.314\n",
    "print(\"C = \", C)\n",
    "%time (err_train, err_val) = run_linear_kernel(train_X, train_Y, val_X, val_Y, C)\n",
    "print(\"Error train: \", err_train)\n",
    "print(\"Error validation: \", err_val)"
   ]
  },
  {
   "cell_type": "code",
   "execution_count": 28,
   "metadata": {},
   "outputs": [
    {
     "name": "stdout",
     "output_type": "stream",
     "text": [
      "C =  0.316\n",
      "train score:  0.9251\n",
      "validation score:  0.9217\n",
      "Wall time: 1min 47s\n",
      "Error train:  0.07489999999999997\n",
      "Error validation:  0.07830000000000004\n"
     ]
    }
   ],
   "source": [
    "C = 0.316\n",
    "print(\"C = \", C)\n",
    "%time (err_train, err_val) = run_linear_kernel(train_X, train_Y, val_X, val_Y, C)\n",
    "print(\"Error train: \", err_train)\n",
    "print(\"Error validation: \", err_val)"
   ]
  },
  {
   "cell_type": "code",
   "execution_count": null,
   "metadata": {},
   "outputs": [],
   "source": []
  },
  {
   "cell_type": "code",
   "execution_count": 29,
   "metadata": {},
   "outputs": [
    {
     "name": "stdout",
     "output_type": "stream",
     "text": [
      "C =  0.316\n",
      "train score:  0.9251\n",
      "validation score:  0.9217\n",
      "Wall time: 1min 39s\n",
      "Error train:  0.07489999999999997\n",
      "Error validation:  0.07830000000000004\n"
     ]
    }
   ],
   "source": [
    "C = 0.316\n",
    "print(\"C = \", C)\n",
    "%time (err_train, err_val) = run_linear_kernel(train_X, train_Y, val_X, val_Y, C)\n",
    "print(\"Error train: \", err_train)\n",
    "print(\"Error validation: \", err_val)"
   ]
  },
  {
   "cell_type": "code",
   "execution_count": 30,
   "metadata": {},
   "outputs": [
    {
     "name": "stdout",
     "output_type": "stream",
     "text": [
      "C =  0.317\n",
      "train score:  0.9251\n",
      "validation score:  0.9217\n",
      "Wall time: 1min 38s\n",
      "Error train:  0.07489999999999997\n",
      "Error validation:  0.07830000000000004\n"
     ]
    }
   ],
   "source": [
    "C = 0.317\n",
    "print(\"C = \", C)\n",
    "%time (err_train, err_val) = run_linear_kernel(train_X, train_Y, val_X, val_Y, C)\n",
    "print(\"Error train: \", err_train)\n",
    "print(\"Error validation: \", err_val)"
   ]
  },
  {
   "cell_type": "code",
   "execution_count": 31,
   "metadata": {},
   "outputs": [
    {
     "name": "stdout",
     "output_type": "stream",
     "text": [
      "C =  0.318\n",
      "train score:  0.9251\n",
      "validation score:  0.9216\n",
      "Wall time: 1min 43s\n",
      "Error train:  0.07489999999999997\n",
      "Error validation:  0.07840000000000003\n"
     ]
    }
   ],
   "source": [
    "C = 0.318\n",
    "print(\"C = \", C)\n",
    "%time (err_train, err_val) = run_linear_kernel(train_X, train_Y, val_X, val_Y, C)\n",
    "print(\"Error train: \", err_train)\n",
    "print(\"Error validation: \", err_val)"
   ]
  },
  {
   "cell_type": "code",
   "execution_count": 20,
   "metadata": {},
   "outputs": [
    {
     "name": "stdout",
     "output_type": "stream",
     "text": [
      "C =  0.325\n",
      "train score:  0.92512\n",
      "validation score:  0.9216\n",
      "Wall time: 1min 43s\n",
      "Error train:  0.07487999999999995\n",
      "Error validation:  0.07840000000000003\n"
     ]
    }
   ],
   "source": [
    "C = 0.325\n",
    "print(\"C = \", C)\n",
    "%time (err_train, err_val) = run_linear_kernel(train_X, train_Y, val_X, val_Y, C)\n",
    "print(\"Error train: \", err_train)\n",
    "print(\"Error validation: \", err_val)"
   ]
  },
  {
   "cell_type": "code",
   "execution_count": 19,
   "metadata": {},
   "outputs": [
    {
     "name": "stdout",
     "output_type": "stream",
     "text": [
      "C =  0.3275\n",
      "train score:  0.92516\n",
      "validation score:  0.9216\n",
      "Wall time: 1min 41s\n",
      "Error train:  0.07484000000000002\n",
      "Error validation:  0.07840000000000003\n"
     ]
    }
   ],
   "source": [
    "C = 0.3275\n",
    "print(\"C = \", C)\n",
    "%time (err_train, err_val) = run_linear_kernel(train_X, train_Y, val_X, val_Y, C)\n",
    "print(\"Error train: \", err_train)\n",
    "print(\"Error validation: \", err_val)"
   ]
  },
  {
   "cell_type": "code",
   "execution_count": 21,
   "metadata": {},
   "outputs": [
    {
     "name": "stdout",
     "output_type": "stream",
     "text": [
      "C =  0.3175\n",
      "train score:  0.9251\n",
      "validation score:  0.9217\n",
      "Wall time: 1min 32s\n",
      "Error train:  0.07489999999999997\n",
      "Error validation:  0.07830000000000004\n"
     ]
    }
   ],
   "source": [
    "C = 0.3175\n",
    "print(\"C = \", C)\n",
    "%time (err_train, err_val) = run_linear_kernel(train_X, train_Y, val_X, val_Y, C)\n",
    "print(\"Error train: \", err_train)\n",
    "print(\"Error validation: \", err_val)"
   ]
  },
  {
   "cell_type": "code",
   "execution_count": 7,
   "metadata": {},
   "outputs": [
    {
     "name": "stdout",
     "output_type": "stream",
     "text": [
      "C =  0.31\n",
      "train score:  0.92506\n",
      "validation score:  0.9218\n",
      "Wall time: 1min 56s\n",
      "Error train:  0.07494\n",
      "Error validation:  0.07820000000000005\n"
     ]
    }
   ],
   "source": [
    "C = 0.31\n",
    "print(\"C = \", C)\n",
    "%time (err_train, err_val) = run_linear_kernel(train_X, train_Y, val_X, val_Y, C)\n",
    "print(\"Error train: \", err_train)\n",
    "print(\"Error validation: \", err_val)"
   ]
  },
  {
   "cell_type": "markdown",
   "metadata": {},
   "source": []
  },
  {
   "cell_type": "markdown",
   "metadata": {},
   "source": []
  },
  {
   "cell_type": "code",
   "execution_count": 9,
   "metadata": {},
   "outputs": [
    {
     "name": "stdout",
     "output_type": "stream",
     "text": [
      "C =  1\n",
      "train score:  0.92636\n",
      "validation score:  0.9205\n",
      "Wall time: 6min 1s\n",
      "Error train:  0.07364000000000004\n",
      "Error validation:  0.07950000000000002\n"
     ]
    }
   ],
   "source": [
    "C = 1\n",
    "print(\"C = \", C)\n",
    "%time (err_train, err_val) = run_linear_kernel(train_X, train_Y, val_X, val_Y, C)\n",
    "print(\"Error train: \", err_train)\n",
    "print(\"Error validation: \", err_val)"
   ]
  },
  {
   "cell_type": "markdown",
   "metadata": {},
   "source": []
  },
  {
   "cell_type": "code",
   "execution_count": 10,
   "metadata": {},
   "outputs": [
    {
     "name": "stdout",
     "output_type": "stream",
     "text": [
      "C =  3\n",
      "train score:  0.92716\n",
      "validation score:  0.9205\n",
      "Wall time: 18min 23s\n",
      "Error train:  0.07284000000000002\n",
      "Error validation:  0.07950000000000002\n"
     ]
    }
   ],
   "source": [
    "C = 3\n",
    "print(\"C = \", C)\n",
    "%time (err_train, err_val) = run_linear_kernel(train_X, train_Y, val_X, val_Y, C)\n",
    "print(\"Error train: \", err_train)\n",
    "print(\"Error validation: \", err_val)"
   ]
  }
 ],
 "metadata": {
  "kernelspec": {
   "display_name": "Python 3",
   "language": "python",
   "name": "python3"
  },
  "language_info": {
   "codemirror_mode": {
    "name": "ipython",
    "version": 3
   },
   "file_extension": ".py",
   "mimetype": "text/x-python",
   "name": "python",
   "nbconvert_exporter": "python",
   "pygments_lexer": "ipython3",
   "version": "3.7.3"
  }
 },
 "nbformat": 4,
 "nbformat_minor": 2
}
