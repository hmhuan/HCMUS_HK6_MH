{
 "cells": [
  {
   "cell_type": "code",
   "execution_count": 1,
   "metadata": {},
   "outputs": [],
   "source": [
    "import numpy as np\n",
    "import pickle\n",
    "import gzip"
   ]
  },
  {
   "cell_type": "code",
   "execution_count": 2,
   "metadata": {},
   "outputs": [],
   "source": [
    "def read_mnist(mnist_file):\n",
    "    \"\"\"\n",
    "    Reads MNIST data.\n",
    "    \n",
    "    Parameters\n",
    "    ----------\n",
    "    mnist_file : string\n",
    "        The name of the MNIST file (e.g., 'mnist.pkl.gz').\n",
    "    \n",
    "    Returns\n",
    "    -------\n",
    "    (train_X, train_Y, val_X, val_Y, test_X, test_Y) : tuple\n",
    "        train_X : numpy array, shape (N=50000, d=784)\n",
    "            Input vectors of the training set.\n",
    "        train_Y: numpy array, shape (N=50000)\n",
    "            Outputs of the training set.\n",
    "        val_X : numpy array, shape (N=10000, d=784)\n",
    "            Input vectors of the validation set.\n",
    "        val_Y: numpy array, shape (N=10000)\n",
    "            Outputs of the validation set.\n",
    "        test_X : numpy array, shape (N=10000, d=784)\n",
    "            Input vectors of the test set.\n",
    "        test_Y: numpy array, shape (N=10000)\n",
    "            Outputs of the test set.\n",
    "    \"\"\"\n",
    "    f = gzip.open(mnist_file, 'rb')\n",
    "    train_data, val_data, test_data = pickle.load(f, encoding='latin1')\n",
    "    f.close()\n",
    "    \n",
    "    train_X, train_Y = train_data\n",
    "    val_X, val_Y = val_data\n",
    "    test_X, test_Y = test_data    \n",
    "    \n",
    "    return train_X, train_Y, val_X, val_Y, test_X, test_Y"
   ]
  },
  {
   "cell_type": "code",
   "execution_count": 3,
   "metadata": {},
   "outputs": [
    {
     "name": "stdout",
     "output_type": "stream",
     "text": [
      "train_X.shape = (50000, 784)\n",
      "train_Y.shape = (50000,)\n",
      "val_X.shape   = (10000, 784)\n",
      "val_Y.shape   = (10000,)\n",
      "test_X.shape  = (10000, 784)\n",
      "test_Y.shape  = (10000,)\n",
      "\n",
      "train_X: min = 0.000, max = 0.996\n",
      "train_Y: min = 0, max = 9\n"
     ]
    }
   ],
   "source": [
    "# Test\n",
    "train_X, train_Y, val_X, val_Y, test_X, test_Y = read_mnist('mnist.pkl.gz')\n",
    "\n",
    "print('train_X.shape =', train_X.shape)\n",
    "print('train_Y.shape =', train_Y.shape)\n",
    "print('val_X.shape   =', val_X.shape)\n",
    "print('val_Y.shape   =', val_Y.shape)\n",
    "print('test_X.shape  =', test_X.shape)\n",
    "print('test_Y.shape  =', test_Y.shape)\n",
    "\n",
    "print('\\ntrain_X: min = %.3f, max = %.3f' %(train_X.min(), train_X.max()))\n",
    "print('train_Y: min = %d, max = %d' %(train_Y.min(), train_Y.max()))"
   ]
  },
  {
   "cell_type": "code",
   "execution_count": null,
   "metadata": {},
   "outputs": [],
   "source": [
    "from sklearn.svm import SVC\n",
    "clf = SVC(C = 1.0, kernel = 'linear', gamma = 'auto', max_iter = 50000)\n",
    "%time clf.fit(train_X, train_Y)\n",
    "err_train = 1 - clf.score(train_X, train_Y)\n",
    "err_val = 1 - clf.score(val_X, val_Y)\n",
    "print(\"train score: \", clf.score(train_X, train_Y))\n",
    "print(\"validation score: \", clf.score(val_X, val_Y))\n",
    "#return err_train, err_val"
   ]
  },
  {
   "cell_type": "markdown",
   "metadata": {},
   "source": [
    "#### Test theo documents"
   ]
  },
  {
   "cell_type": "code",
   "execution_count": 4,
   "metadata": {
    "scrolled": true
   },
   "outputs": [
    {
     "name": "stdout",
     "output_type": "stream",
     "text": [
      "Wall time: 47.8 s\n",
      "0.9247\n",
      "0.9213\n"
     ]
    }
   ],
   "source": [
    "from sklearn.svm import LinearSVC\n",
    "#clf = LinearSVC(random_state=0, tol=1e-5, max_iter = 50000)\n",
    "clf = LinearSVC(C=0.25, max_iter = 50000)\n",
    "%time clf.fit(train_X, train_Y)\n",
    "print(clf.score(train_X, train_Y))\n",
    "print(clf.score(val_X, val_Y))"
   ]
  },
  {
   "cell_type": "code",
   "execution_count": 5,
   "metadata": {},
   "outputs": [],
   "source": [
    "def run_linear_kernel(train_X, train_Y, val_X, val_Y, c):\n",
    "    clf = LinearSVC(C = c, max_iter = 50000)\n",
    "    clf.fit(train_X, train_Y)\n",
    "    err_train = 1 - clf.score(train_X, train_Y)\n",
    "    err_val = 1 - clf.score(val_X, val_Y)\n",
    "    print(\"train score: \", clf.score(train_X, train_Y))\n",
    "    print(\"validation score: \", clf.score(val_X, val_Y))\n",
    "    return err_train, err_val"
   ]
  },
  {
   "cell_type": "code",
   "execution_count": 22,
   "metadata": {},
   "outputs": [
    {
     "name": "stdout",
     "output_type": "stream",
     "text": [
      "train score:  0.9274\n",
      "validation score:  0.9206\n",
      "Wall time: 25min 45s\n",
      "Error train:  0.0726\n",
      "Error validation:  0.07940000000000003\n"
     ]
    }
   ],
   "source": [
    "%time err_train, err_val = run_linear_kernel(train_X, train_Y, val_X, val_Y, 4)\n",
    "print(\"Error train: \", err_train)\n",
    "print(\"Error validation: \", err_val)"
   ]
  },
  {
   "cell_type": "code",
   "execution_count": 6,
   "metadata": {},
   "outputs": [],
   "source": [
    "def run_SVM(c_start, maxC):\n",
    "    \"\"\"\n",
    "    \"\"\"\n",
    "    c = c_start\n",
    "    k = 0\n",
    "    err_train = 0\n",
    "    err_val = 0\n",
    "    C = []\n",
    "    E_trains = []\n",
    "    E_vals = []\n",
    "    while (k <= maxC):\n",
    "        print(k+1)\n",
    "        c += 0.05\n",
    "        print(\"C = \", c)\n",
    "        %time err_train, err_val = run_linear_kernel(train_X, train_Y, val_X, val_Y, c)\n",
    "        #print(\"Error train: \", err_train)\n",
    "        #print(\"Error validation: \", err_val)\n",
    "        C.append(c)\n",
    "        E_trains.append(err_train)\n",
    "        E_vals.append(err_val)\n",
    "        k += 1\n",
    "    return C, E_trains, E_vals"
   ]
  },
  {
   "cell_type": "code",
   "execution_count": 13,
   "metadata": {},
   "outputs": [
    {
     "name": "stdout",
     "output_type": "stream",
     "text": [
      "1\n",
      "C =  0.05\n",
      "train score:  0.92274\n",
      "validation score:  0.9215\n",
      "Wall time: 19.5 s\n",
      "2\n",
      "C =  0.1\n",
      "train score:  0.92396\n",
      "validation score:  0.9214\n",
      "Wall time: 32.9 s\n",
      "3\n",
      "C =  0.15000000000000002\n",
      "train score:  0.92424\n",
      "validation score:  0.921\n",
      "Wall time: 48.4 s\n",
      "4\n",
      "C =  0.2\n",
      "train score:  0.9244\n",
      "validation score:  0.921\n",
      "Wall time: 1min 1s\n",
      "5\n",
      "C =  0.25\n",
      "train score:  0.9247\n",
      "validation score:  0.9213\n",
      "Wall time: 1min 22s\n",
      "6\n",
      "C =  0.3\n",
      "train score:  0.92496\n",
      "validation score:  0.9218\n",
      "Wall time: 1min 36s\n",
      "7\n",
      "C =  0.35\n",
      "train score:  0.9253\n",
      "validation score:  0.9216\n",
      "Wall time: 1min 46s\n",
      "8\n",
      "C =  0.39999999999999997\n",
      "train score:  0.9253\n",
      "validation score:  0.9215\n",
      "Wall time: 2min 17s\n",
      "9\n",
      "C =  0.44999999999999996\n",
      "train score:  0.92536\n",
      "validation score:  0.9211\n",
      "Wall time: 2min 42s\n",
      "10\n",
      "C =  0.49999999999999994\n",
      "train score:  0.9255\n",
      "validation score:  0.9212\n",
      "Wall time: 3min 13s\n",
      "11\n",
      "C =  0.5499999999999999\n",
      "train score:  0.92564\n",
      "validation score:  0.9213\n",
      "Wall time: 2min 56s\n",
      "12\n",
      "C =  0.6\n",
      "train score:  0.92566\n",
      "validation score:  0.9212\n",
      "Wall time: 3min 3s\n",
      "13\n",
      "C =  0.65\n",
      "train score:  0.9257\n",
      "validation score:  0.921\n",
      "Wall time: 3min 13s\n",
      "14\n",
      "C =  0.7000000000000001\n",
      "train score:  0.92582\n",
      "validation score:  0.9211\n",
      "Wall time: 3min 59s\n",
      "15\n",
      "C =  0.7500000000000001\n",
      "train score:  0.92586\n",
      "validation score:  0.921\n",
      "Wall time: 3min 50s\n",
      "16\n",
      "C =  0.8000000000000002\n",
      "train score:  0.92596\n",
      "validation score:  0.9209\n",
      "Wall time: 4min 35s\n",
      "17\n",
      "C =  0.8500000000000002\n",
      "train score:  0.92596\n",
      "validation score:  0.9208\n",
      "Wall time: 4min 56s\n",
      "18\n",
      "C =  0.9000000000000002\n",
      "train score:  0.9261\n",
      "validation score:  0.9206\n",
      "Wall time: 4min 47s\n",
      "19\n",
      "C =  0.9500000000000003\n",
      "train score:  0.92622\n",
      "validation score:  0.9205\n",
      "Wall time: 4min 52s\n",
      "20\n",
      "C =  1.0000000000000002\n",
      "train score:  0.92636\n",
      "validation score:  0.9205\n",
      "Wall time: 5min 38s\n",
      "21\n",
      "C =  1.0500000000000003\n",
      "train score:  0.92634\n",
      "validation score:  0.9207\n",
      "Wall time: 5min 35s\n",
      "Wall time: 1h 3min 10s\n"
     ]
    }
   ],
   "source": [
    "%time C, E_trains, E_vals = run_SVM(0, 20)"
   ]
  },
  {
   "cell_type": "code",
   "execution_count": 19,
   "metadata": {},
   "outputs": [
    {
     "name": "stdout",
     "output_type": "stream",
     "text": [
      "[0, 0, 0, 0, 0, 0, 0, 0, 0, 0, 0, 0, 0, 0, 0, 0, 0, 0, 0, 0, 0]\n"
     ]
    }
   ],
   "source": [
    "print(E_trains)"
   ]
  },
  {
   "cell_type": "code",
   "execution_count": 7,
   "metadata": {
    "scrolled": true
   },
   "outputs": [
    {
     "name": "stdout",
     "output_type": "stream",
     "text": [
      "1\n",
      "C =  1.05\n",
      "train score:  0.92634\n",
      "validation score:  0.9207\n",
      "Wall time: 3min 49s\n",
      "2\n",
      "C =  1.1\n",
      "train score:  0.92634\n",
      "validation score:  0.9206\n",
      "Wall time: 3min 50s\n",
      "3\n",
      "C =  1.1500000000000001\n",
      "train score:  0.92638\n",
      "validation score:  0.9206\n",
      "Wall time: 4min 7s\n",
      "4\n",
      "C =  1.2000000000000002\n",
      "train score:  0.92648\n",
      "validation score:  0.9208\n",
      "Wall time: 4min 27s\n",
      "5\n",
      "C =  1.2500000000000002\n",
      "train score:  0.92662\n",
      "validation score:  0.9208\n",
      "Wall time: 4min 29s\n",
      "6\n",
      "C =  1.3000000000000003\n",
      "train score:  0.92662\n",
      "validation score:  0.9207\n",
      "Wall time: 4min 34s\n",
      "7\n",
      "C =  1.3500000000000003\n",
      "train score:  0.9266\n",
      "validation score:  0.9207\n",
      "Wall time: 5min 49s\n",
      "8\n",
      "C =  1.4000000000000004\n",
      "train score:  0.92664\n",
      "validation score:  0.9207\n",
      "Wall time: 6min 12s\n",
      "9\n",
      "C =  1.4500000000000004\n",
      "train score:  0.92668\n",
      "validation score:  0.9207\n",
      "Wall time: 5min 19s\n",
      "10\n",
      "C =  1.5000000000000004\n",
      "train score:  0.9267\n",
      "validation score:  0.9207\n",
      "Wall time: 6min\n",
      "11\n",
      "C =  1.5500000000000005\n",
      "train score:  0.9267\n",
      "validation score:  0.9207\n",
      "Wall time: 6min 36s\n",
      "12\n",
      "C =  1.6000000000000005\n",
      "train score:  0.92674\n",
      "validation score:  0.9207\n",
      "Wall time: 7min 38s\n",
      "13\n",
      "C =  1.6500000000000006\n",
      "train score:  0.92678\n",
      "validation score:  0.9206\n",
      "Wall time: 7min 22s\n",
      "14\n",
      "C =  1.7000000000000006\n",
      "train score:  0.92682\n",
      "validation score:  0.9207\n",
      "Wall time: 7min 22s\n",
      "15\n",
      "C =  1.7500000000000007\n",
      "train score:  0.92686\n",
      "validation score:  0.9206\n",
      "Wall time: 7min 18s\n",
      "16\n",
      "C =  1.8000000000000007\n",
      "train score:  0.92688\n",
      "validation score:  0.9206\n",
      "Wall time: 7min 18s\n",
      "17\n",
      "C =  1.8500000000000008\n",
      "train score:  0.9269\n",
      "validation score:  0.9207\n",
      "Wall time: 8min 10s\n",
      "18\n",
      "C =  1.9000000000000008\n",
      "train score:  0.92694\n",
      "validation score:  0.9207\n",
      "Wall time: 7min 50s\n",
      "19\n",
      "C =  1.9500000000000008\n",
      "train score:  0.92694\n",
      "validation score:  0.9207\n",
      "Wall time: 8min 20s\n",
      "20\n",
      "C =  2.000000000000001\n",
      "train score:  0.92694\n",
      "validation score:  0.9207\n",
      "Wall time: 8min 45s\n",
      "21\n",
      "C =  2.0500000000000007\n",
      "train score:  0.92694\n",
      "validation score:  0.9207\n",
      "Wall time: 9min 9s\n"
     ]
    },
    {
     "data": {
      "text/plain": [
       "([1.05,\n",
       "  1.1,\n",
       "  1.1500000000000001,\n",
       "  1.2000000000000002,\n",
       "  1.2500000000000002,\n",
       "  1.3000000000000003,\n",
       "  1.3500000000000003,\n",
       "  1.4000000000000004,\n",
       "  1.4500000000000004,\n",
       "  1.5000000000000004,\n",
       "  1.5500000000000005,\n",
       "  1.6000000000000005,\n",
       "  1.6500000000000006,\n",
       "  1.7000000000000006,\n",
       "  1.7500000000000007,\n",
       "  1.8000000000000007,\n",
       "  1.8500000000000008,\n",
       "  1.9000000000000008,\n",
       "  1.9500000000000008,\n",
       "  2.000000000000001,\n",
       "  2.0500000000000007],\n",
       " [0, 0, 0, 0, 0, 0, 0, 0, 0, 0, 0, 0, 0, 0, 0, 0, 0, 0, 0, 0, 0],\n",
       " [0, 0, 0, 0, 0, 0, 0, 0, 0, 0, 0, 0, 0, 0, 0, 0, 0, 0, 0, 0, 0])"
      ]
     },
     "execution_count": 7,
     "metadata": {},
     "output_type": "execute_result"
    }
   ],
   "source": [
    "run_SVM(1, 20)"
   ]
  },
  {
   "cell_type": "code",
   "execution_count": 15,
   "metadata": {},
   "outputs": [],
   "source": [
    "C = np.array([1.05,\n",
    "  1.1,\n",
    "  1.1500000000000001,\n",
    "  1.2000000000000002,\n",
    "  1.2500000000000002,\n",
    "  1.3000000000000003,\n",
    "  1.3500000000000003,\n",
    "  1.4000000000000004,\n",
    "  1.4500000000000004,\n",
    "  1.5000000000000004,\n",
    "  1.5500000000000005,\n",
    "  1.6000000000000005,\n",
    "  1.6500000000000006,\n",
    "  1.7000000000000006,\n",
    "  1.7500000000000007,\n",
    "  1.8000000000000007,\n",
    "  1.8500000000000008,\n",
    "  1.9000000000000008,\n",
    "  1.9500000000000008,\n",
    "  2.000000000000001,\n",
    "  2.0500000000000007])\n",
    "score_trains = np.array([0.92634, 0.92634, 0.92638, 0.92648, 0.92662, 0.92662, 0.9266, \n",
    "                         0.92664,0.92668, 0.9267, 0.9267, 0.92674, 0.92678, 0.92682, \n",
    "                         0.92686, 0.92688, 0.9269, 0.92694, 0.92694, 0.92694, 0.92694])\n",
    "score_vals = np.array([0.9207, 0.9206, 0.9206, 0.9208, 0.9208, 0.9207, 0.9207, \n",
    "                       0.9207, 0.9207, 0.9207, 0.9207, 0.9207, 0.9206, 0.9207, \n",
    "                       0.9206, 0.9206, 0.9207, 0.9207, 0.9207, 0.9207, 0.9207])"
   ]
  },
  {
   "cell_type": "code",
   "execution_count": 16,
   "metadata": {},
   "outputs": [
    {
     "name": "stdout",
     "output_type": "stream",
     "text": [
      "(21,)\n",
      "(21,)\n",
      "[1.05 1.1  1.15 1.2  1.25 1.3  1.35 1.4  1.45 1.5  1.55 1.6  1.65 1.7\n",
      " 1.75 1.8  1.85 1.9  1.95 2.   2.05]\n"
     ]
    }
   ],
   "source": [
    "print(score_trains.shape)\n",
    "print(score_vals.shape)\n",
    "print(C)"
   ]
  },
  {
   "cell_type": "code",
   "execution_count": 21,
   "metadata": {},
   "outputs": [
    {
     "data": {
      "image/png": "[encoded data removed]",
      "text/plain": [
       "<Figure size 432x288 with 1 Axes>"
      ]
     },
     "metadata": {
      "needs_background": "light"
     },
     "output_type": "display_data"
    }
   ],
   "source": [
    "import matplotlib.pyplot as plt\n",
    "plt.plot(C, score_trains, 'r') # plotting t, a separately \n",
    "plt.plot(C, score_vals, 'g') # plotting t, b separately \n",
    "plt.show()"
   ]
  }
 ],
 "metadata": {
  "anaconda-cloud": {},
  "kernelspec": {
   "display_name": "Python 3",
   "language": "python",
   "name": "python3"
  },
  "language_info": {
   "codemirror_mode": {
    "name": "ipython",
    "version": 3
   },
   "file_extension": ".py",
   "mimetype": "text/x-python",
   "name": "python",
   "nbconvert_exporter": "python",
   "pygments_lexer": "ipython3",
   "version": "3.7.1"
  },
  "toc": {
   "nav_menu": {},
   "number_sections": false,
   "sideBar": true,
   "skip_h1_title": false,
   "title_cell": "Table of Contents",
   "title_sidebar": "Contents",
   "toc_cell": false,
   "toc_position": {},
   "toc_section_display": true,
   "toc_window_display": true
  }
 },
 "nbformat": 4,
 "nbformat_minor": 1
}
