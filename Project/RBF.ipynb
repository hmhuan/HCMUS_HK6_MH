{
 "cells": [
  {
   "cell_type": "code",
   "execution_count": 1,
   "metadata": {},
   "outputs": [],
   "source": [
    "import numpy as np\n",
    "import pickle\n",
    "import gzip\n",
    "\n",
    "def read_mnist(mnist_file):\n",
    "    f = gzip.open(mnist_file, 'rb')\n",
    "    train_data, val_data, test_data = pickle.load(f, encoding='latin1')\n",
    "    f.close()\n",
    "    \n",
    "    train_X, train_Y = train_data\n",
    "    val_X, val_Y = val_data\n",
    "    test_X, test_Y = test_data    \n",
    "    \n",
    "    return train_X, train_Y, val_X, val_Y, test_X, test_Y"
   ]
  },
  {
   "cell_type": "code",
   "execution_count": 2,
   "metadata": {},
   "outputs": [],
   "source": [
    "train_X, train_Y, val_X, val_Y, test_X, test_Y = read_mnist('mnist.pkl.gz')"
   ]
  },
  {
   "cell_type": "code",
   "execution_count": 3,
   "metadata": {},
   "outputs": [],
   "source": [
    "from sklearn.svm import SVC\n",
    "def run_RBF_kernel(train_X, train_Y, val_X, val_Y, c = 1.0, gamma = 1.0, max_iter = -1):\n",
    "    \"\"\"\n",
    "    \"\"\"\n",
    "    err_train = 0\n",
    "    er_val = 0\n",
    "    clf = SVC(C = c, kernel = 'rbf', gamma = gamma, max_iter = max_iter)\n",
    "    print(\"Training...\")\n",
    "    %time clf.fit(train_X, train_Y)\n",
    "    print(\"Training done!\")\n",
    "    training_score = clf.score(train_X, train_Y)\n",
    "    validation_score = clf.score(val_X, val_Y)\n",
    "    err_train = 1 - training_score\n",
    "    err_val = 1 - validation_score\n",
    "    print(\"train score: \", training_score)\n",
    "    print(\"validation score: \", validation_score)\n",
    "    return (err_train, err_val)"
   ]
  },
  {
   "cell_type": "code",
   "execution_count": 4,
   "metadata": {},
   "outputs": [
    {
     "name": "stdout",
     "output_type": "stream",
     "text": [
      "Training...\n"
     ]
    },
    {
     "name": "stderr",
     "output_type": "stream",
     "text": [
      "C:\\Users\\CPU12039-local\\Anaconda3\\lib\\site-packages\\sklearn\\svm\\base.py:244: ConvergenceWarning: Solver terminated early (max_iter=1000).  Consider pre-processing your data with StandardScaler or MinMaxScaler.\n",
      "  % self.max_iter, ConvergenceWarning)\n"
     ]
    },
    {
     "name": "stdout",
     "output_type": "stream",
     "text": [
      "Wall time: 15min 8s\n",
      "Training done!\n",
      "train score:  0.96566\n",
      "validation score:  0.8801\n",
      "Wall time: 30min 11s\n"
     ]
    }
   ],
   "source": [
    "%time (err_train, err_val) = run_RBF_kernel(train_X, train_Y, val_X, val_Y, max_iter = 1000)"
   ]
  },
  {
   "cell_type": "code",
   "execution_count": 5,
   "metadata": {},
   "outputs": [
    {
     "ename": "SyntaxError",
     "evalue": "invalid syntax (<ipython-input-5-302736a11c0f>, line 5)",
     "output_type": "error",
     "traceback": [
      "\u001b[1;36m  File \u001b[1;32m\"<ipython-input-5-302736a11c0f>\"\u001b[1;36m, line \u001b[1;32m5\u001b[0m\n\u001b[1;33m    for (c in C):\u001b[0m\n\u001b[1;37m                ^\u001b[0m\n\u001b[1;31mSyntaxError\u001b[0m\u001b[1;31m:\u001b[0m invalid syntax\n"
     ]
    }
   ],
   "source": [
    "def run_SVM_RBF_kernel(C, gammas, max_iter = 1000):\n",
    "    \"\"\"\n",
    "    \"\"\"\n",
    "    training_error, validation_error = 0, 0\n",
    "    for (c in C):\n",
    "        for (gamma in gammas):\n",
    "            print(\"C = %s, gamma = %s\" %(C, gamma))\n",
    "            (training_score, validation_score) = run_RBF_kernel(train_X, train_Y, val_X, val_Y, C, gamma, max_iter)\n",
    "            training_error = 1 - training_score\n",
    "            validation_error = 1 - validation_score\n",
    "            print(\"Error train: \", err_train)\n",
    "            print(\"Error validation: \", validation_error)"
   ]
  },
  {
   "cell_type": "code",
   "execution_count": null,
   "metadata": {},
   "outputs": [],
   "source": [
    "run_SVM_RBF_kernel()"
   ]
  },
  {
   "cell_type": "code",
   "execution_count": null,
   "metadata": {},
   "outputs": [
    {
     "name": "stdout",
     "output_type": "stream",
     "text": [
      "\n",
      "Iter 1:\n",
      "C = 0.1, gamma = 0.001\n",
      "Training...\n",
      "Wall time: 24min 28s\n",
      "Training done!\n",
      "validation score:  0.9139\n",
      "Error validation:  0.08609999999999995\n",
      "\n",
      "Iter 2:\n",
      "C = 0.1, gamma = 0.01\n",
      "Training...\n",
      "Wall time: 11min 47s\n",
      "Training done!\n",
      "validation score:  0.9578\n",
      "Error validation:  0.042200000000000015\n",
      "\n",
      "Iter 3:\n",
      "C = 0.1, gamma = 0.1\n",
      "Training...\n",
      "Wall time: 1h 3min 58s\n",
      "Training done!\n",
      "validation score:  0.6875\n",
      "Error validation:  0.3125\n",
      "\n",
      "Iter 4:\n",
      "C = 0.1, gamma = 1.0\n",
      "Training...\n"
     ]
    }
   ],
   "source": [
    "run_SVM_RBF_kernel()"
   ]
  }
 ],
 "metadata": {
  "kernelspec": {
   "display_name": "Python 3",
   "language": "python",
   "name": "python3"
  },
  "language_info": {
   "codemirror_mode": {
    "name": "ipython",
    "version": 3
   },
   "file_extension": ".py",
   "mimetype": "text/x-python",
   "name": "python",
   "nbconvert_exporter": "python",
   "pygments_lexer": "ipython3",
   "version": "3.7.3"
  }
 },
 "nbformat": 4,
 "nbformat_minor": 2
}
